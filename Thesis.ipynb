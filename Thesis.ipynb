{
 "cells": [
  {
   "cell_type": "markdown",
   "id": "2f083879",
   "metadata": {},
   "source": [
    "# IMPORTS"
   ]
  },
  {
   "cell_type": "code",
   "execution_count": 5,
   "id": "461934f0",
   "metadata": {},
   "outputs": [],
   "source": [
    "import tensorflow as tf\n",
    "\n",
    "import keras\n",
    "\n",
    "import pandas\n",
    "\n",
    "import sklearn\n",
    "\n",
    "import matplotlib\n",
    "\n",
    "import matplotlib.pyplot as plt\n",
    "\n",
    "from PIL import Image\n",
    "\n",
    "import numpy as np"
   ]
  },
  {
   "cell_type": "markdown",
   "id": "41021ffa",
   "metadata": {},
   "source": [
    "# CONVOLUTIONAL NEURAL NETWORK"
   ]
  },
  {
   "cell_type": "markdown",
   "id": "16b40fae",
   "metadata": {},
   "source": [
    "For the normal convolutional neural network, the network that will be used is the VGG16 network which is pretrained on the imagenet dataset. This can be used in keras as follows:"
   ]
  },
  {
   "cell_type": "code",
   "execution_count": 2,
   "id": "245f597b",
   "metadata": {},
   "outputs": [],
   "source": [
    "from keras.applications.vgg16 import VGG16"
   ]
  },
  {
   "cell_type": "code",
   "execution_count": 3,
   "id": "82e2860b",
   "metadata": {
    "scrolled": true
   },
   "outputs": [
    {
     "name": "stdout",
     "output_type": "stream",
     "text": [
      "Model: \"sequential\"\n",
      "_________________________________________________________________\n",
      "Layer (type)                 Output Shape              Param #   \n",
      "=================================================================\n",
      "vgg16 (Functional)           (None, 512)               14714688  \n",
      "_________________________________________________________________\n",
      "flatten (Flatten)            (None, 512)               0         \n",
      "_________________________________________________________________\n",
      "dense (Dense)                (None, 1)                 513       \n",
      "=================================================================\n",
      "Total params: 14,715,201\n",
      "Trainable params: 14,715,201\n",
      "Non-trainable params: 0\n",
      "_________________________________________________________________\n"
     ]
    }
   ],
   "source": [
    "model = keras.models.Sequential()\n",
    "model.add(VGG16(weights = 'imagenet', include_top=False, input_shape=(224,224,3), pooling='avg'))\n",
    "model.add(keras.layers.Flatten())\n",
    "model.add(keras.layers.Dense(1, activation=\"linear\"))\n",
    "opt = tf.keras.optimizers.Adam(learning_rate=1e-6, clipvalue=1)\n",
    "model.compile(loss='mean_squared_error', optimizer=opt)\n",
    "model.summary()"
   ]
  },
  {
   "cell_type": "markdown",
   "id": "1f0e8de5",
   "metadata": {},
   "source": [
    "The size of this network in RAM is 14 715 201 * 8 (8 bytes for a double/parameter) = 117 721 608 bytes or 0.109637 GB."
   ]
  },
  {
   "cell_type": "code",
   "execution_count": 10,
   "id": "af9962f9",
   "metadata": {},
   "outputs": [],
   "source": [
    "%run data_loader.ipynb "
   ]
  },
  {
   "cell_type": "markdown",
   "id": "8a1e72c0",
   "metadata": {},
   "source": [
    "Then the model can be trained. The input consists of images (224, 224, 3) and average ratings (1). The network is trained on both part separatly. Around 2000 training samples => 2.243 GB. This should be enough to keep in RAM."
   ]
  },
  {
   "cell_type": "code",
   "execution_count": 11,
   "id": "2cb5ee02",
   "metadata": {
    "scrolled": true
   },
   "outputs": [
    {
     "name": "stdout",
     "output_type": "stream",
     "text": [
      "0\n",
      "begin_index: 0\n",
      "middle_index: 1417\n",
      "end_index: 1890\n",
      "batch_size: 1890\n",
      "WARNING:tensorflow:5 out of the last 6 calls to <function scale_resize_image at 0x000002AA6FE9B550> triggered tf.function retracing. Tracing is expensive and the excessive number of tracings could be due to (1) creating @tf.function repeatedly in a loop, (2) passing tensors with different shapes, (3) passing Python objects instead of tensors. For (1), please define your @tf.function outside of the loop. For (2), @tf.function has experimental_relax_shapes=True option that relaxes argument shapes that can avoid unnecessary retracing. For (3), please refer to https://www.tensorflow.org/guide/function#controlling_retracing and https://www.tensorflow.org/api_docs/python/tf/function for  more details.\n",
      "WARNING:tensorflow:6 out of the last 7 calls to <function scale_resize_image at 0x000002AA6FE9B550> triggered tf.function retracing. Tracing is expensive and the excessive number of tracings could be due to (1) creating @tf.function repeatedly in a loop, (2) passing tensors with different shapes, (3) passing Python objects instead of tensors. For (1), please define your @tf.function outside of the loop. For (2), @tf.function has experimental_relax_shapes=True option that relaxes argument shapes that can avoid unnecessary retracing. For (3), please refer to https://www.tensorflow.org/guide/function#controlling_retracing and https://www.tensorflow.org/api_docs/python/tf/function for  more details.\n",
      "scores_array_val.shape: (473, 1)\n",
      "images_array_val.shape: (473, 224, 224, 3)\n",
      "(473, 1)\n",
      "Epoch 1/7\n",
      "709/709 [==============================] - 45s 61ms/step - loss: 0.0111 - val_loss: 0.0182\n",
      "Epoch 2/7\n",
      "709/709 [==============================] - 44s 61ms/step - loss: 0.0085 - val_loss: 0.0179\n",
      "Epoch 3/7\n",
      "709/709 [==============================] - 44s 63ms/step - loss: 0.0071 - val_loss: 0.0173\n",
      "Epoch 4/7\n",
      "709/709 [==============================] - 44s 62ms/step - loss: 0.0059 - val_loss: 0.0171\n",
      "Epoch 5/7\n",
      "709/709 [==============================] - 44s 62ms/step - loss: 0.0050 - val_loss: 0.0173\n",
      "Epoch 6/7\n",
      "709/709 [==============================] - 44s 62ms/step - loss: 0.0041 - val_loss: 0.0164\n",
      "Epoch 7/7\n",
      "709/709 [==============================] - 44s 62ms/step - loss: 0.0036 - val_loss: 0.0188\n"
     ]
    }
   ],
   "source": [
    "nb_parts = 1\n",
    "nb_epochs = 7\n",
    "\n",
    "loss_array = np.zeros((nb_epochs*nb_parts,1))\n",
    "val_loss_array = np.zeros((nb_epochs*nb_parts,1))\n",
    "\n",
    "for i in range(nb_parts):\n",
    "    print(i)\n",
    "    \n",
    "    (scores_array_train,images_array_train), (scores_array_val, images_array_val) = get_data_CNN(i, nb_parts)\n",
    "\n",
    "    print(scores_array_val.shape)\n",
    "    history = model.fit(images_array_train, scores_array_train, batch_size=2, epochs=nb_epochs, validation_data=(images_array_val, scores_array_val))\n",
    "    \n",
    "    for j in range(nb_epochs):\n",
    "        loss_array[i*nb_epochs + j] = history.history['loss'][j]\n",
    "        val_loss_array[i*nb_epochs + j] = history.history['val_loss'][j]"
   ]
  },
  {
   "cell_type": "code",
   "execution_count": 14,
   "id": "bbc422f9",
   "metadata": {},
   "outputs": [
    {
     "data": {
      "image/png": "[encoded data removed]",
      "text/plain": [
       "<Figure size 432x288 with 1 Axes>"
      ]
     },
     "metadata": {
      "needs_background": "light"
     },
     "output_type": "display_data"
    }
   ],
   "source": [
    "    # summarize history for loss\n",
    "    plt.plot(loss_array)\n",
    "    plt.plot(val_loss_array)\n",
    "    plt.title('model loss')\n",
    "    plt.ylabel('loss')\n",
    "    plt.xlabel('epoch')\n",
    "    plt.legend(['train', 'validation'], loc='upper left')\n",
    "    plt.show()"
   ]
  },
  {
   "cell_type": "code",
   "execution_count": 15,
   "id": "c0259e11",
   "metadata": {},
   "outputs": [
    {
     "name": "stdout",
     "output_type": "stream",
     "text": [
      "4/4 [==============================] - 1s 73ms/step - loss: 0.0356\n"
     ]
    },
    {
     "data": {
      "text/plain": [
       "0.03560104966163635"
      ]
     },
     "execution_count": 15,
     "metadata": {},
     "output_type": "execute_result"
    }
   ],
   "source": [
    "## CREATE TEST SET\n",
    "\n",
    "(test_scores, test_images) = get_test_data_CNN()\n",
    "model.evaluate(x=test_images, y=test_scores)"
   ]
  },
  {
   "cell_type": "markdown",
   "id": "c3a6bdef",
   "metadata": {},
   "source": [
    "# CONVOLUTIONAL NEURAL NETWORK TRAINED ON CLUSTER DATASET"
   ]
  },
  {
   "cell_type": "code",
   "execution_count": 1,
   "id": "95b1ec5f",
   "metadata": {},
   "outputs": [],
   "source": [
    "import tensorflow as tf\n",
    "\n",
    "import keras\n",
    "\n",
    "import pandas\n",
    "\n",
    "import sklearn\n",
    "\n",
    "import matplotlib\n",
    "\n",
    "import matplotlib.pyplot as plt\n",
    "\n",
    "from PIL import Image\n",
    "\n",
    "import numpy as np"
   ]
  },
  {
   "cell_type": "markdown",
   "id": "b0c1b533",
   "metadata": {},
   "source": [
    "For the normal convolutional neural network, the network that will be used is the VGG16 network which is pretrained on the imagenet dataset. This can be used in keras as follows:"
   ]
  },
  {
   "cell_type": "code",
   "execution_count": 2,
   "id": "1a9f1471",
   "metadata": {},
   "outputs": [],
   "source": [
    "from keras.applications.vgg16 import VGG16"
   ]
  },
  {
   "cell_type": "code",
   "execution_count": 3,
   "id": "e6af1949",
   "metadata": {
    "scrolled": true
   },
   "outputs": [
    {
     "name": "stdout",
     "output_type": "stream",
     "text": [
      "Model: \"sequential\"\n",
      "_________________________________________________________________\n",
      "Layer (type)                 Output Shape              Param #   \n",
      "=================================================================\n",
      "vgg16 (Functional)           (None, 512)               14714688  \n",
      "_________________________________________________________________\n",
      "flatten (Flatten)            (None, 512)               0         \n",
      "_________________________________________________________________\n",
      "dense (Dense)                (None, 1)                 513       \n",
      "=================================================================\n",
      "Total params: 14,715,201\n",
      "Trainable params: 14,715,201\n",
      "Non-trainable params: 0\n",
      "_________________________________________________________________\n"
     ]
    }
   ],
   "source": [
    "model = keras.models.Sequential()\n",
    "model.add(VGG16(weights = 'imagenet', include_top=False, input_shape=(112,112,3), pooling='avg'))\n",
    "model.add(keras.layers.Flatten())\n",
    "model.add(keras.layers.Dense(1, activation=\"linear\"))\n",
    "opt = tf.keras.optimizers.Adam(learning_rate=1e-6, clipvalue=1)\n",
    "model.compile(loss='mean_squared_error', optimizer=opt)\n",
    "model.summary()"
   ]
  },
  {
   "cell_type": "markdown",
   "id": "3d7f0c03",
   "metadata": {},
   "source": [
    "The layout of the network stays the same as before."
   ]
  },
  {
   "cell_type": "code",
   "execution_count": 4,
   "id": "404bf193",
   "metadata": {},
   "outputs": [],
   "source": [
    "%run data_loader.ipynb "
   ]
  },
  {
   "cell_type": "markdown",
   "id": "c0f77b80",
   "metadata": {},
   "source": [
    "Then the model can be trained. We will now use the same dataset as the clustered networks will use. This means they have an image per individual rating. With around 20000 training samples this time this gives 20.243 GB of RAM Needed to keep in memory! Since this is too large, a solution will have to be found. SOLUTION = images are scaled down to 112 by 112 by 3!"
   ]
  },
  {
   "cell_type": "code",
   "execution_count": 5,
   "id": "859e0a55",
   "metadata": {},
   "outputs": [
    {
     "name": "stdout",
     "output_type": "stream",
     "text": [
      "WARNING:tensorflow:5 out of the last 5 calls to <function scale_resize_image at 0x000001BB1419C670> triggered tf.function retracing. Tracing is expensive and the excessive number of tracings could be due to (1) creating @tf.function repeatedly in a loop, (2) passing tensors with different shapes, (3) passing Python objects instead of tensors. For (1), please define your @tf.function outside of the loop. For (2), @tf.function has experimental_relax_shapes=True option that relaxes argument shapes that can avoid unnecessary retracing. For (3), please refer to https://www.tensorflow.org/guide/function#controlling_retracing and https://www.tensorflow.org/api_docs/python/tf/function for  more details.\n",
      "WARNING:tensorflow:6 out of the last 6 calls to <function scale_resize_image at 0x000001BB1419C670> triggered tf.function retracing. Tracing is expensive and the excessive number of tracings could be due to (1) creating @tf.function repeatedly in a loop, (2) passing tensors with different shapes, (3) passing Python objects instead of tensors. For (1), please define your @tf.function outside of the loop. For (2), @tf.function has experimental_relax_shapes=True option that relaxes argument shapes that can avoid unnecessary retracing. For (3), please refer to https://www.tensorflow.org/guide/function#controlling_retracing and https://www.tensorflow.org/api_docs/python/tf/function for  more details.\n",
      "Epoch 1/2\n",
      "7560/7560 [==============================] - 225s 29ms/step - loss: 0.0941 - val_loss: 0.0763\n",
      "Epoch 2/2\n",
      "7560/7560 [==============================] - 218s 29ms/step - loss: 0.0748 - val_loss: 0.0732\n"
     ]
    }
   ],
   "source": [
    "nb_epochs = 2\n",
    "\n",
    "[_,images_array_train,scores_array_train], [_,images_array_val,scores_array_val], [_,images_array_test,scores_array_test] = get_data_manual_cluster_network_final()\n",
    "\n",
    "history = model.fit(images_array_train, scores_array_train, batch_size=2, epochs=nb_epochs, validation_data=(images_array_val, scores_array_val))\n",
    "    \n",
    "loss_array = history.history['loss']\n",
    "val_loss_array = history.history['val_loss']"
   ]
  },
  {
   "cell_type": "code",
   "execution_count": 6,
   "id": "4da20dda",
   "metadata": {},
   "outputs": [
    {
     "data": {
      "image/png": "[encoded data removed]",
      "text/plain": [
       "<Figure size 432x288 with 1 Axes>"
      ]
     },
     "metadata": {
      "needs_background": "light"
     },
     "output_type": "display_data"
    }
   ],
   "source": [
    "    # summarize history for loss\n",
    "    plt.plot(loss_array)\n",
    "    plt.plot(val_loss_array)\n",
    "    plt.title('model loss')\n",
    "    plt.ylabel('loss')\n",
    "    plt.xlabel('epoch')\n",
    "    plt.legend(['train', 'validation'], loc='upper left')\n",
    "    plt.yscale(\"log\")\n",
    "    plt.show()"
   ]
  },
  {
   "cell_type": "code",
   "execution_count": 7,
   "id": "4aa504f8",
   "metadata": {},
   "outputs": [
    {
     "name": "stdout",
     "output_type": "stream",
     "text": [
      "8/8 [==============================] - 2s 131ms/step - loss: 0.0767\n"
     ]
    },
    {
     "data": {
      "text/plain": [
       "0.07666029036045074"
      ]
     },
     "execution_count": 7,
     "metadata": {},
     "output_type": "execute_result"
    }
   ],
   "source": [
    "# Test Set Performance\n",
    "model.evaluate(x=images_array_test, y=scores_array_test)"
   ]
  },
  {
   "cell_type": "markdown",
   "id": "7d147b99",
   "metadata": {},
   "source": [
    "# HYBRID NEURAL NETWORK WITH MANUAL CLUSTERING"
   ]
  },
  {
   "cell_type": "code",
   "execution_count": 1,
   "id": "0d6986cc",
   "metadata": {},
   "outputs": [],
   "source": [
    "import tensorflow as tf\n",
    "\n",
    "import keras\n",
    "\n",
    "import pandas\n",
    "\n",
    "import sklearn\n",
    "\n",
    "import matplotlib\n",
    "\n",
    "import matplotlib.pyplot as plt\n",
    "\n",
    "from PIL import Image\n",
    "\n",
    "import numpy as np"
   ]
  },
  {
   "cell_type": "markdown",
   "id": "d07c6575",
   "metadata": {},
   "source": [
    "Now we need to use a manual clustering method to cluster the data of the participants into different clusters, and use this information as input for a hybrid neural network. We will start with the clustering, we can do this using the sklearn library:"
   ]
  },
  {
   "cell_type": "code",
   "execution_count": 2,
   "id": "af2ec180",
   "metadata": {},
   "outputs": [],
   "source": [
    "%run data_loader.ipynb \n",
    "from keras.applications.vgg16 import VGG16"
   ]
  },
  {
   "cell_type": "markdown",
   "id": "1d03b247",
   "metadata": {},
   "source": [
    "Structure of the network. Hybrid structure with two inputs, a single number representing the cluster of the current rating, and images."
   ]
  },
  {
   "cell_type": "code",
   "execution_count": 3,
   "id": "582c36b4",
   "metadata": {},
   "outputs": [
    {
     "name": "stdout",
     "output_type": "stream",
     "text": [
      "Model: \"model_1\"\n",
      "__________________________________________________________________________________________________\n",
      "Layer (type)                    Output Shape         Param #     Connected to                     \n",
      "==================================================================================================\n",
      "vgg16_input (InputLayer)        [(None, 112, 112, 3) 0                                            \n",
      "__________________________________________________________________________________________________\n",
      "input_1 (InputLayer)            [(None, 1)]          0                                            \n",
      "__________________________________________________________________________________________________\n",
      "vgg16 (Functional)              (None, 512)          14714688    vgg16_input[0][0]                \n",
      "__________________________________________________________________________________________________\n",
      "dense (Dense)                   (None, 19)           38          input_1[0][0]                    \n",
      "__________________________________________________________________________________________________\n",
      "flatten (Flatten)               (None, 512)          0           vgg16[0][0]                      \n",
      "__________________________________________________________________________________________________\n",
      "concatenate (Concatenate)       (None, 531)          0           dense[0][0]                      \n",
      "                                                                 flatten[0][0]                    \n",
      "__________________________________________________________________________________________________\n",
      "dense_1 (Dense)                 (None, 1)            532         concatenate[0][0]                \n",
      "==================================================================================================\n",
      "Total params: 14,715,258\n",
      "Trainable params: 14,715,258\n",
      "Non-trainable params: 0\n",
      "__________________________________________________________________________________________________\n"
     ]
    }
   ],
   "source": [
    "inputA = keras.layers.Input(shape=(1,))\n",
    "inputB = keras.layers.Input(shape=(112,112,3))\n",
    "\n",
    "x = keras.layers.Dense(19, activation=\"relu\")(inputA)\n",
    "x = keras.models.Model(inputs=inputA, outputs=x)\n",
    "\n",
    "y = keras.models.Sequential()\n",
    "y.add(VGG16(weights = 'imagenet', include_top=False, input_shape=(112,112,3), pooling='avg'))\n",
    "y.add(keras.layers.Flatten())\n",
    "\n",
    "combined = keras.layers.concatenate([x.output, y.output])\n",
    "\n",
    "#z = keras.layers.Dense(19, activation=\"relu\")(combined)\n",
    "#z = keras.layers.Dropout(0.5, input_shape=(19,))(z)\n",
    "z = keras.layers.Dense(1)(combined)\n",
    "\n",
    "model = keras.models.Model(inputs=[x.input, y.input], outputs=z)\n",
    "\n",
    "opt = tf.keras.optimizers.Adam(learning_rate=1e-6, clipvalue=1)\n",
    "\n",
    "#model.compile(loss=\"mean_absolute_percentage_error\", optimizer=\"rmsprop\")\n",
    "model.compile(loss='mean_squared_error', optimizer=opt)\n",
    "\n",
    "model.summary()"
   ]
  },
  {
   "cell_type": "code",
   "execution_count": 4,
   "id": "b282646b",
   "metadata": {},
   "outputs": [
    {
     "name": "stdout",
     "output_type": "stream",
     "text": [
      "WARNING:tensorflow:5 out of the last 5 calls to <function scale_resize_image at 0x0000015EED65C3A0> triggered tf.function retracing. Tracing is expensive and the excessive number of tracings could be due to (1) creating @tf.function repeatedly in a loop, (2) passing tensors with different shapes, (3) passing Python objects instead of tensors. For (1), please define your @tf.function outside of the loop. For (2), @tf.function has experimental_relax_shapes=True option that relaxes argument shapes that can avoid unnecessary retracing. For (3), please refer to https://www.tensorflow.org/guide/function#controlling_retracing and https://www.tensorflow.org/api_docs/python/tf/function for  more details.\n",
      "WARNING:tensorflow:6 out of the last 6 calls to <function scale_resize_image at 0x0000015EED65C3A0> triggered tf.function retracing. Tracing is expensive and the excessive number of tracings could be due to (1) creating @tf.function repeatedly in a loop, (2) passing tensors with different shapes, (3) passing Python objects instead of tensors. For (1), please define your @tf.function outside of the loop. For (2), @tf.function has experimental_relax_shapes=True option that relaxes argument shapes that can avoid unnecessary retracing. For (3), please refer to https://www.tensorflow.org/guide/function#controlling_retracing and https://www.tensorflow.org/api_docs/python/tf/function for  more details.\n",
      "Epoch 1/2\n",
      "7560/7560 [==============================] - 238s 31ms/step - loss: 0.0856 - val_loss: 0.0743\n",
      "Epoch 2/2\n",
      "7560/7560 [==============================] - 230s 30ms/step - loss: 0.0717 - val_loss: 0.0736\n"
     ]
    }
   ],
   "source": [
    "[cluster_array_train,image_array_train,rating_array_train], [cluster_array_val,image_array_val,rating_array_val], [cluster_array_test,image_array_test,rating_array_test] = get_data_manual_cluster_network_final()\n",
    "    \n",
    "history = model.fit(x=[cluster_array_train, image_array_train], y=rating_array_train, validation_data=([cluster_array_val, image_array_val], rating_array_val), epochs=2, batch_size=2)\n",
    "\n",
    "loss_array = history.history['loss']\n",
    "val_loss_array = history.history['val_loss']"
   ]
  },
  {
   "cell_type": "code",
   "execution_count": 5,
   "id": "0c5615e4",
   "metadata": {},
   "outputs": [
    {
     "data": {
      "image/png": "[encoded data removed]",
      "text/plain": [
       "<Figure size 432x288 with 1 Axes>"
      ]
     },
     "metadata": {
      "needs_background": "light"
     },
     "output_type": "display_data"
    }
   ],
   "source": [
    "# summarize history for loss\n",
    "plt.plot(loss_array)\n",
    "plt.plot(val_loss_array)\n",
    "plt.title('model loss')\n",
    "plt.ylabel('loss')\n",
    "plt.xlabel('epoch')\n",
    "plt.legend(['train', 'validation'], loc='upper left')\n",
    "plt.yscale(\"log\")\n",
    "plt.show()"
   ]
  },
  {
   "cell_type": "code",
   "execution_count": 6,
   "id": "b424398b",
   "metadata": {},
   "outputs": [
    {
     "name": "stdout",
     "output_type": "stream",
     "text": [
      "8/8 [==============================] - 2s 133ms/step - loss: 0.0666\n"
     ]
    },
    {
     "data": {
      "text/plain": [
       "0.06664017587900162"
      ]
     },
     "execution_count": 6,
     "metadata": {},
     "output_type": "execute_result"
    }
   ],
   "source": [
    "## CREATE TEST SET\n",
    "model.evaluate(x=[cluster_array_test, image_array_test], y=rating_array_test)"
   ]
  },
  {
   "cell_type": "markdown",
   "id": "13a8a24a",
   "metadata": {},
   "source": [
    "# HYBRID NEURAL NETWORK WITH SOM PRETRAINED"
   ]
  },
  {
   "cell_type": "code",
   "execution_count": 1,
   "id": "792d4c78",
   "metadata": {},
   "outputs": [],
   "source": [
    "import tensorflow as tf\n",
    "\n",
    "import keras\n",
    "\n",
    "import pandas\n",
    "\n",
    "import sklearn\n",
    "\n",
    "import matplotlib\n",
    "\n",
    "import matplotlib.pyplot as plt\n",
    "\n",
    "from PIL import Image\n",
    "\n",
    "import numpy as np"
   ]
  },
  {
   "cell_type": "markdown",
   "id": "ef1fa6c1",
   "metadata": {},
   "source": [
    "Now we will train a hybrid network which contains a SOM network and a CNN network. The SOM network replaced the manually clustered part of the previous network by letting the neural network do the clustering itself."
   ]
  },
  {
   "cell_type": "code",
   "execution_count": 2,
   "id": "26576872",
   "metadata": {},
   "outputs": [],
   "source": [
    "%run data_loader.ipynb \n",
    "from keras.applications.vgg16 import VGG16"
   ]
  },
  {
   "cell_type": "code",
   "execution_count": 3,
   "id": "65c6168d",
   "metadata": {},
   "outputs": [],
   "source": [
    "import tensorflow as tf\n",
    "from tensorflow.keras.layers import Layer, InputSpec\n",
    "\n",
    "\n",
    "class SOMLayer(Layer):\n",
    "    \"\"\"\n",
    "    Self-Organizing Map layer class with rectangular topology\n",
    "    # Example\n",
    "    ```\n",
    "        model.add(SOMLayer(map_size=(10,10)))\n",
    "    ```\n",
    "    # Arguments\n",
    "        map_size: Tuple representing the size of the rectangular map. Number of prototypes is map_size[0]*map_size[1].\n",
    "        prototypes: Numpy array with shape `(n_prototypes, latent_dim)` witch represents the initial cluster centers\n",
    "    # Input shape\n",
    "        2D tensor with shape: `(n_samples, latent_dim)`\n",
    "    # Output shape\n",
    "        2D tensor with shape: `(n_samples, n_prototypes)`\n",
    "    \"\"\"\n",
    "\n",
    "    def __init__(self, map_size, prototypes=None, **kwargs):\n",
    "        if 'input_shape' not in kwargs and 'latent_dim' in kwargs:\n",
    "            kwargs['input_shape'] = (kwargs.pop('latent_dim'),)\n",
    "        super(SOMLayer, self).__init__(**kwargs)\n",
    "        self.map_size = map_size\n",
    "        self.n_prototypes = map_size[0]*map_size[1]\n",
    "        self.initial_prototypes = prototypes\n",
    "        self.input_spec = InputSpec(ndim=2)\n",
    "        self.prototypes = None\n",
    "        self.built = False\n",
    "\n",
    "    def build(self, input_shape):\n",
    "        assert(len(input_shape) == 2)\n",
    "        input_dim = input_shape[1]\n",
    "        self.input_spec = InputSpec(dtype=tf.float32, shape=(None, input_dim))\n",
    "        self.prototypes = self.add_weight(shape=(self.n_prototypes, input_dim), initializer='glorot_uniform', name='prototypes')\n",
    "        if self.initial_prototypes is not None:\n",
    "            self.set_weights(self.initial_prototypes)\n",
    "            del self.initial_prototypes\n",
    "        self.built = True\n",
    "\n",
    "    def call(self, inputs, **kwargs):\n",
    "        \"\"\"\n",
    "        Calculate pairwise squared euclidean distances between inputs and prototype vectors\n",
    "        Arguments:\n",
    "            inputs: the variable containing data, Tensor with shape `(n_samples, latent_dim)`\n",
    "        Return:\n",
    "            d: distances between inputs and prototypes, Tensor with shape `(n_samples, n_prototypes)`\n",
    "        \"\"\"\n",
    "        # Note: (tf.expand_dims(inputs, axis=1) - self.prototypes) has shape (n_samples, n_prototypes, latent_dim)\n",
    "        d = tf.reduce_sum(tf.square(tf.expand_dims(inputs, axis=1) - self.prototypes), axis=2)\n",
    "        return d\n",
    "\n",
    "    def compute_output_shape(self, input_shape):\n",
    "        assert(input_shape and len(input_shape) == 2)\n",
    "        return input_shape[0], self.n_prototypes\n",
    "\n",
    "    def get_config(self):\n",
    "        config = {'map_size': self.map_size}\n",
    "        base_config = super(SOMLayer, self).get_config()\n",
    "        return dict(list(base_config.items()) + list(config.items()))\n",
    "\n",
    "def som_loss(weights, distances):\n",
    "    \"\"\"\n",
    "    SOM loss\n",
    "    # Arguments\n",
    "        weights: weights for the weighted sum, Tensor with shape `(n_samples, n_prototypes)`\n",
    "        distances: pairwise squared euclidean distances between inputs and prototype vectors, Tensor with shape `(n_samples, n_prototypes)`\n",
    "    # Return\n",
    "        SOM reconstruction loss\n",
    "    \"\"\"\n",
    "    return tf.reduce_mean(tf.reduce_sum(weights*distances, axis=1))"
   ]
  },
  {
   "cell_type": "markdown",
   "id": "2fe0fd94",
   "metadata": {},
   "source": [
    "First, we will create a SOM network and pretrain it on the data."
   ]
  },
  {
   "cell_type": "code",
   "execution_count": 4,
   "id": "cb4a31c0",
   "metadata": {},
   "outputs": [],
   "source": [
    "inputA = keras.layers.Input(shape=(1990))\n",
    "x = SOMLayer((1990,1))(inputA)\n",
    "x = keras.models.Model(inputs=inputA, outputs=x)\n",
    "\n",
    "x.compile(loss=som_loss, optimizer=\"adam\")"
   ]
  },
  {
   "cell_type": "code",
   "execution_count": 5,
   "id": "56c20196",
   "metadata": {},
   "outputs": [
    {
     "name": "stdout",
     "output_type": "stream",
     "text": [
      "Epoch 1/150\n",
      "17/17 [==============================] - 0s 3ms/step - loss: 480350.8438\n",
      "Epoch 2/150\n",
      "17/17 [==============================] - 0s 4ms/step - loss: 447976.1875\n",
      "Epoch 3/150\n",
      "17/17 [==============================] - 0s 3ms/step - loss: 417108.9375\n",
      "Epoch 4/150\n",
      "17/17 [==============================] - 0s 3ms/step - loss: 387824.1562\n",
      "Epoch 5/150\n",
      "17/17 [==============================] - 0s 3ms/step - loss: 360111.6562\n",
      "Epoch 6/150\n",
      "17/17 [==============================] - 0s 3ms/step - loss: 333929.3750\n",
      "Epoch 7/150\n",
      "17/17 [==============================] - 0s 3ms/step - loss: 309226.7500\n",
      "Epoch 8/150\n",
      "17/17 [==============================] - 0s 3ms/step - loss: 285951.1875\n",
      "Epoch 9/150\n",
      "17/17 [==============================] - 0s 3ms/step - loss: 264049.8750\n",
      "Epoch 10/150\n",
      "17/17 [==============================] - 0s 3ms/step - loss: 243470.3438\n",
      "Epoch 11/150\n",
      "17/17 [==============================] - 0s 3ms/step - loss: 224160.4062\n",
      "Epoch 12/150\n",
      "17/17 [==============================] - 0s 4ms/step - loss: 206068.2656\n",
      "Epoch 13/150\n",
      "17/17 [==============================] - 0s 5ms/step - loss: 189142.5938\n",
      "Epoch 14/150\n",
      "17/17 [==============================] - 0s 4ms/step - loss: 173332.6250\n",
      "Epoch 15/150\n",
      "17/17 [==============================] - 0s 6ms/step - loss: 158588.1875\n",
      "Epoch 16/150\n",
      "17/17 [==============================] - 0s 5ms/step - loss: 144859.6562: 0s - loss: 146406.81\n",
      "Epoch 17/150\n",
      "17/17 [==============================] - 0s 5ms/step - loss: 132098.3125\n",
      "Epoch 18/150\n",
      "17/17 [==============================] - 0s 3ms/step - loss: 120256.0781\n",
      "Epoch 19/150\n",
      "17/17 [==============================] - 0s 3ms/step - loss: 109285.8906\n",
      "Epoch 20/150\n",
      "17/17 [==============================] - 0s 4ms/step - loss: 99141.5312\n",
      "Epoch 21/150\n",
      "17/17 [==============================] - 0s 3ms/step - loss: 89777.8047\n",
      "Epoch 22/150\n",
      "17/17 [==============================] - 0s 3ms/step - loss: 81150.6250\n",
      "Epoch 23/150\n",
      "17/17 [==============================] - 0s 3ms/step - loss: 73217.0547\n",
      "Epoch 24/150\n",
      "17/17 [==============================] - 0s 4ms/step - loss: 65935.3203\n",
      "Epoch 25/150\n",
      "17/17 [==============================] - 0s 4ms/step - loss: 59264.9688\n",
      "Epoch 26/150\n",
      "17/17 [==============================] - 0s 4ms/step - loss: 53166.7969\n",
      "Epoch 27/150\n",
      "17/17 [==============================] - 0s 3ms/step - loss: 47603.0273\n",
      "Epoch 28/150\n",
      "17/17 [==============================] - 0s 3ms/step - loss: 42537.2656\n",
      "Epoch 29/150\n",
      "17/17 [==============================] - 0s 3ms/step - loss: 37934.5469\n",
      "Epoch 30/150\n",
      "17/17 [==============================] - 0s 3ms/step - loss: 33761.4258\n",
      "Epoch 31/150\n",
      "17/17 [==============================] - 0s 3ms/step - loss: 29985.9141\n",
      "Epoch 32/150\n",
      "17/17 [==============================] - 0s 3ms/step - loss: 26577.5625\n",
      "Epoch 33/150\n",
      "17/17 [==============================] - 0s 3ms/step - loss: 23507.4453\n",
      "Epoch 34/150\n",
      "17/17 [==============================] - 0s 3ms/step - loss: 20748.1426\n",
      "Epoch 35/150\n",
      "17/17 [==============================] - 0s 3ms/step - loss: 18273.7871\n",
      "Epoch 36/150\n",
      "17/17 [==============================] - 0s 3ms/step - loss: 16059.9854\n",
      "Epoch 37/150\n",
      "17/17 [==============================] - 0s 3ms/step - loss: 14083.8545\n",
      "Epoch 38/150\n",
      "17/17 [==============================] - 0s 3ms/step - loss: 12323.9609\n",
      "Epoch 39/150\n",
      "17/17 [==============================] - 0s 3ms/step - loss: 10760.3057\n",
      "Epoch 40/150\n",
      "17/17 [==============================] - 0s 3ms/step - loss: 9374.2764\n",
      "Epoch 41/150\n",
      "17/17 [==============================] - 0s 3ms/step - loss: 8148.6055\n",
      "Epoch 42/150\n",
      "17/17 [==============================] - 0s 3ms/step - loss: 7067.3252\n",
      "Epoch 43/150\n",
      "17/17 [==============================] - 0s 3ms/step - loss: 6115.7178\n",
      "Epoch 44/150\n",
      "17/17 [==============================] - 0s 3ms/step - loss: 5280.2520\n",
      "Epoch 45/150\n",
      "17/17 [==============================] - 0s 3ms/step - loss: 4548.5322\n",
      "Epoch 46/150\n",
      "17/17 [==============================] - 0s 3ms/step - loss: 3909.2385\n",
      "Epoch 47/150\n",
      "17/17 [==============================] - 0s 3ms/step - loss: 3352.0645\n",
      "Epoch 48/150\n",
      "17/17 [==============================] - 0s 3ms/step - loss: 2867.6565\n",
      "Epoch 49/150\n",
      "17/17 [==============================] - 0s 3ms/step - loss: 2447.5498\n",
      "Epoch 50/150\n",
      "17/17 [==============================] - 0s 3ms/step - loss: 2084.1130\n",
      "Epoch 51/150\n",
      "17/17 [==============================] - 0s 3ms/step - loss: 1770.4824\n",
      "Epoch 52/150\n",
      "17/17 [==============================] - 0s 3ms/step - loss: 1500.5081\n",
      "Epoch 53/150\n",
      "17/17 [==============================] - 0s 3ms/step - loss: 1268.6948\n",
      "Epoch 54/150\n",
      "17/17 [==============================] - 0s 4ms/step - loss: 1070.1478\n",
      "Epoch 55/150\n",
      "17/17 [==============================] - 0s 3ms/step - loss: 900.5211\n",
      "Epoch 56/150\n",
      "17/17 [==============================] - 0s 3ms/step - loss: 755.9679\n",
      "Epoch 57/150\n",
      "17/17 [==============================] - 0s 3ms/step - loss: 633.0934\n",
      "Epoch 58/150\n",
      "17/17 [==============================] - 0s 3ms/step - loss: 528.9116\n",
      "Epoch 59/150\n",
      "17/17 [==============================] - 0s 3ms/step - loss: 440.8035\n",
      "Epoch 60/150\n",
      "17/17 [==============================] - 0s 3ms/step - loss: 366.4790\n",
      "Epoch 61/150\n",
      "17/17 [==============================] - 0s 3ms/step - loss: 303.9422\n",
      "Epoch 62/150\n",
      "17/17 [==============================] - 0s 3ms/step - loss: 251.4585\n",
      "Epoch 63/150\n",
      "17/17 [==============================] - 0s 3ms/step - loss: 207.5250\n",
      "Epoch 64/150\n",
      "17/17 [==============================] - 0s 3ms/step - loss: 170.8436\n",
      "Epoch 65/150\n",
      "17/17 [==============================] - 0s 3ms/step - loss: 140.2964\n",
      "Epoch 66/150\n",
      "17/17 [==============================] - 0s 3ms/step - loss: 114.9234\n",
      "Epoch 67/150\n",
      "17/17 [==============================] - 0s 3ms/step - loss: 93.9033\n",
      "Epoch 68/150\n",
      "17/17 [==============================] - 0s 3ms/step - loss: 76.5345\n",
      "Epoch 69/150\n",
      "17/17 [==============================] - 0s 3ms/step - loss: 62.2204\n",
      "Epoch 70/150\n",
      "17/17 [==============================] - 0s 3ms/step - loss: 50.4548\n",
      "Epoch 71/150\n",
      "17/17 [==============================] - 0s 3ms/step - loss: 40.8094\n",
      "Epoch 72/150\n",
      "17/17 [==============================] - 0s 3ms/step - loss: 32.9231\n",
      "Epoch 73/150\n",
      "17/17 [==============================] - 0s 3ms/step - loss: 26.4923\n",
      "Epoch 74/150\n",
      "17/17 [==============================] - 0s 3ms/step - loss: 21.2622\n",
      "Epoch 75/150\n",
      "17/17 [==============================] - 0s 3ms/step - loss: 17.0200\n",
      "Epoch 76/150\n",
      "17/17 [==============================] - 0s 3ms/step - loss: 13.5885\n",
      "Epoch 77/150\n",
      "17/17 [==============================] - 0s 3ms/step - loss: 10.8202\n",
      "Epoch 78/150\n",
      "17/17 [==============================] - 0s 3ms/step - loss: 8.5930\n",
      "Epoch 79/150\n",
      "17/17 [==============================] - 0s 3ms/step - loss: 6.8060\n",
      "Epoch 80/150\n",
      "17/17 [==============================] - 0s 3ms/step - loss: 5.3761\n",
      "Epoch 81/150\n",
      "17/17 [==============================] - 0s 3ms/step - loss: 4.2352\n",
      "Epoch 82/150\n",
      "17/17 [==============================] - 0s 4ms/step - loss: 3.3273\n",
      "Epoch 83/150\n",
      "17/17 [==============================] - 0s 3ms/step - loss: 2.6069\n",
      "Epoch 84/150\n",
      "17/17 [==============================] - 0s 3ms/step - loss: 2.0368\n",
      "Epoch 85/150\n",
      "17/17 [==============================] - 0s 3ms/step - loss: 1.5870\n",
      "Epoch 86/150\n",
      "17/17 [==============================] - 0s 3ms/step - loss: 1.2331\n",
      "Epoch 87/150\n",
      "17/17 [==============================] - 0s 3ms/step - loss: 0.9554\n",
      "Epoch 88/150\n",
      "17/17 [==============================] - 0s 3ms/step - loss: 0.7381\n",
      "Epoch 89/150\n",
      "17/17 [==============================] - 0s 3ms/step - loss: 0.5686\n",
      "Epoch 90/150\n",
      "17/17 [==============================] - 0s 3ms/step - loss: 0.4368\n",
      "Epoch 91/150\n",
      "17/17 [==============================] - 0s 3ms/step - loss: 0.3346\n",
      "Epoch 92/150\n",
      "17/17 [==============================] - 0s 5ms/step - loss: 0.2555\n",
      "Epoch 93/150\n",
      "17/17 [==============================] - 0s 5ms/step - loss: 0.1946\n",
      "Epoch 94/150\n",
      "17/17 [==============================] - 0s 4ms/step - loss: 0.1477\n",
      "Epoch 95/150\n",
      "17/17 [==============================] - 0s 4ms/step - loss: 0.1118\n",
      "Epoch 96/150\n",
      "17/17 [==============================] - 0s 5ms/step - loss: 0.0844\n",
      "Epoch 97/150\n",
      "17/17 [==============================] - 0s 4ms/step - loss: 0.0635\n",
      "Epoch 98/150\n"
     ]
    },
    {
     "name": "stdout",
     "output_type": "stream",
     "text": [
      "17/17 [==============================] - 0s 4ms/step - loss: 0.0476\n",
      "Epoch 99/150\n",
      "17/17 [==============================] - 0s 6ms/step - loss: 0.0356\n",
      "Epoch 100/150\n",
      "17/17 [==============================] - 0s 5ms/step - loss: 0.0265\n",
      "Epoch 101/150\n",
      "17/17 [==============================] - 0s 5ms/step - loss: 0.0197\n",
      "Epoch 102/150\n",
      "17/17 [==============================] - 0s 5ms/step - loss: 0.0146\n",
      "Epoch 103/150\n",
      "17/17 [==============================] - 0s 6ms/step - loss: 0.0108\n",
      "Epoch 104/150\n",
      "17/17 [==============================] - 0s 3ms/step - loss: 0.0079\n",
      "Epoch 105/150\n",
      "17/17 [==============================] - 0s 3ms/step - loss: 0.0058\n",
      "Epoch 106/150\n",
      "17/17 [==============================] - 0s 3ms/step - loss: 0.0043\n",
      "Epoch 107/150\n",
      "17/17 [==============================] - 0s 3ms/step - loss: 0.0031\n",
      "Epoch 108/150\n",
      "17/17 [==============================] - 0s 3ms/step - loss: 0.0023\n",
      "Epoch 109/150\n",
      "17/17 [==============================] - 0s 3ms/step - loss: 0.0016\n",
      "Epoch 110/150\n",
      "17/17 [==============================] - 0s 3ms/step - loss: 0.0012\n",
      "Epoch 111/150\n",
      "17/17 [==============================] - 0s 3ms/step - loss: 8.4749e-04\n",
      "Epoch 112/150\n",
      "17/17 [==============================] - 0s 3ms/step - loss: 6.0733e-04\n",
      "Epoch 113/150\n",
      "17/17 [==============================] - 0s 4ms/step - loss: 4.3376e-04\n",
      "Epoch 114/150\n",
      "17/17 [==============================] - 0s 5ms/step - loss: 3.0867e-04\n",
      "Epoch 115/150\n",
      "17/17 [==============================] - 0s 3ms/step - loss: 2.1888e-04\n",
      "Epoch 116/150\n",
      "17/17 [==============================] - 0s 3ms/step - loss: 1.5469e-04\n",
      "Epoch 117/150\n",
      "17/17 [==============================] - 0s 4ms/step - loss: 1.0900e-04\n",
      "Epoch 118/150\n",
      "17/17 [==============================] - 0s 4ms/step - loss: 7.6605e-05\n",
      "Epoch 119/150\n",
      "17/17 [==============================] - 0s 3ms/step - loss: 5.3730e-05\n",
      "Epoch 120/150\n",
      "17/17 [==============================] - 0s 3ms/step - loss: 3.7625e-05\n",
      "Epoch 121/150\n",
      "17/17 [==============================] - 0s 3ms/step - loss: 2.6388e-05\n",
      "Epoch 122/150\n",
      "17/17 [==============================] - 0s 3ms/step - loss: 1.8532e-05\n",
      "Epoch 123/150\n",
      "17/17 [==============================] - 0s 3ms/step - loss: 1.3150e-05\n",
      "Epoch 124/150\n",
      "17/17 [==============================] - 0s 3ms/step - loss: 9.3636e-06\n",
      "Epoch 125/150\n",
      "17/17 [==============================] - 0s 3ms/step - loss: 6.8598e-06\n",
      "Epoch 126/150\n",
      "17/17 [==============================] - 0s 3ms/step - loss: 5.2158e-06\n",
      "Epoch 127/150\n",
      "17/17 [==============================] - 0s 3ms/step - loss: 4.0312e-06\n",
      "Epoch 128/150\n",
      "17/17 [==============================] - 0s 3ms/step - loss: 3.2197e-06\n",
      "Epoch 129/150\n",
      "17/17 [==============================] - 0s 3ms/step - loss: 2.7266e-06\n",
      "Epoch 130/150\n",
      "17/17 [==============================] - 0s 3ms/step - loss: 2.4867e-06\n",
      "Epoch 131/150\n",
      "17/17 [==============================] - 0s 3ms/step - loss: 2.4295e-06\n",
      "Epoch 132/150\n",
      "17/17 [==============================] - 0s 3ms/step - loss: 2.4289e-06\n",
      "Epoch 133/150\n",
      "17/17 [==============================] - 0s 3ms/step - loss: 2.4289e-06\n",
      "Epoch 134/150\n",
      "17/17 [==============================] - 0s 3ms/step - loss: 2.4289e-06\n",
      "Epoch 135/150\n",
      "17/17 [==============================] - 0s 3ms/step - loss: 2.4289e-06\n",
      "Epoch 136/150\n",
      "17/17 [==============================] - 0s 3ms/step - loss: 2.4289e-06\n",
      "Epoch 137/150\n",
      "17/17 [==============================] - 0s 3ms/step - loss: 2.4289e-06\n",
      "Epoch 138/150\n",
      "17/17 [==============================] - 0s 3ms/step - loss: 2.4289e-06\n",
      "Epoch 139/150\n",
      "17/17 [==============================] - 0s 3ms/step - loss: 2.4284e-06\n",
      "Epoch 140/150\n",
      "17/17 [==============================] - 0s 3ms/step - loss: 2.4215e-06\n",
      "Epoch 141/150\n",
      "17/17 [==============================] - 0s 3ms/step - loss: 2.4127e-06\n",
      "Epoch 142/150\n",
      "17/17 [==============================] - 0s 3ms/step - loss: 2.4038e-06\n",
      "Epoch 143/150\n",
      "17/17 [==============================] - 0s 3ms/step - loss: 2.3905e-06\n",
      "Epoch 144/150\n",
      "17/17 [==============================] - 0s 3ms/step - loss: 2.3729e-06\n",
      "Epoch 145/150\n",
      "17/17 [==============================] - 0s 3ms/step - loss: 2.3552e-06\n",
      "Epoch 146/150\n",
      "17/17 [==============================] - 0s 3ms/step - loss: 2.3352e-06\n",
      "Epoch 147/150\n",
      "17/17 [==============================] - 0s 3ms/step - loss: 2.3102e-06\n",
      "Epoch 148/150\n",
      "17/17 [==============================] - 0s 3ms/step - loss: 2.2833e-06\n",
      "Epoch 149/150\n",
      "17/17 [==============================] - 0s 3ms/step - loss: 2.2553e-06\n",
      "Epoch 150/150\n",
      "17/17 [==============================] - 0s 3ms/step - loss: 2.2244e-06\n"
     ]
    },
    {
     "data": {
      "text/plain": [
       "<keras.callbacks.History at 0x1a44f356160>"
      ]
     },
     "execution_count": 5,
     "metadata": {},
     "output_type": "execute_result"
    }
   ],
   "source": [
    "cluster_array_train = get_data_SOM_pretrain()\n",
    "\n",
    "x.fit(x=cluster_array_train, y=cluster_array_train, epochs=150, batch_size=2)"
   ]
  },
  {
   "cell_type": "markdown",
   "id": "0671a173",
   "metadata": {},
   "source": [
    "Then we will create a network with the SOM network included: (In this network, the SOM layer will be frozen)"
   ]
  },
  {
   "cell_type": "code",
   "execution_count": 6,
   "id": "a980e371",
   "metadata": {},
   "outputs": [
    {
     "name": "stdout",
     "output_type": "stream",
     "text": [
      "Model: \"model_1\"\n",
      "__________________________________________________________________________________________________\n",
      "Layer (type)                    Output Shape         Param #     Connected to                     \n",
      "==================================================================================================\n",
      "input_1 (InputLayer)            [(None, 1990)]       0                                            \n",
      "__________________________________________________________________________________________________\n",
      "som_layer (SOMLayer)            (None, 1990)         3960100     input_1[0][0]                    \n",
      "__________________________________________________________________________________________________\n",
      "vgg16_input (InputLayer)        [(None, 112, 112, 3) 0                                            \n",
      "__________________________________________________________________________________________________\n",
      "dense (Dense)                   (None, 128)          254848      som_layer[0][0]                  \n",
      "__________________________________________________________________________________________________\n",
      "vgg16 (Functional)              (None, 512)          14714688    vgg16_input[0][0]                \n",
      "__________________________________________________________________________________________________\n",
      "dense_1 (Dense)                 (None, 19)           2451        dense[0][0]                      \n",
      "__________________________________________________________________________________________________\n",
      "flatten (Flatten)               (None, 512)          0           vgg16[0][0]                      \n",
      "__________________________________________________________________________________________________\n",
      "concatenate (Concatenate)       (None, 531)          0           dense_1[0][0]                    \n",
      "                                                                 flatten[0][0]                    \n",
      "__________________________________________________________________________________________________\n",
      "dense_2 (Dense)                 (None, 1)            532         concatenate[0][0]                \n",
      "==================================================================================================\n",
      "Total params: 18,932,619\n",
      "Trainable params: 14,972,519\n",
      "Non-trainable params: 3,960,100\n",
      "__________________________________________________________________________________________________\n"
     ]
    }
   ],
   "source": [
    "inputB = keras.layers.Input(shape=(112,112,3))\n",
    "\n",
    "x.trainable=False\n",
    "\n",
    "y = keras.models.Sequential()\n",
    "y.add(VGG16(weights = 'imagenet', include_top=False, input_shape=(112,112,3), pooling='avg'))\n",
    "y.add(keras.layers.Flatten())\n",
    "\n",
    "a = keras.layers.Dense(128, activation=\"relu\")(x.output)\n",
    "a = keras.layers.Dense(19, activation=\"relu\")(a)\n",
    "\n",
    "z = keras.layers.concatenate([a, y.output])\n",
    "\n",
    "z = keras.layers.Dense(1, activation=\"linear\")(z)\n",
    "\n",
    "model = keras.models.Model(inputs=[x.input, y.input], outputs=z)\n",
    "\n",
    "#model.compile(loss=\"mean_absolute_percentage_error\", optimizer=\"adam\")\n",
    "\n",
    "opt = tf.keras.optimizers.Adam(learning_rate=1e-6, clipvalue=1)\n",
    "\n",
    "#model.compile(loss=\"mean_absolute_percentage_error\", optimizer=\"rmsprop\")\n",
    "model.compile(loss='mean_squared_error', optimizer=opt)\n",
    "\n",
    "model.summary()"
   ]
  },
  {
   "cell_type": "code",
   "execution_count": 7,
   "id": "661fe088",
   "metadata": {},
   "outputs": [
    {
     "name": "stdout",
     "output_type": "stream",
     "text": [
      "WARNING:tensorflow:5 out of the last 5 calls to <function scale_resize_image at 0x000001A4331A4820> triggered tf.function retracing. Tracing is expensive and the excessive number of tracings could be due to (1) creating @tf.function repeatedly in a loop, (2) passing tensors with different shapes, (3) passing Python objects instead of tensors. For (1), please define your @tf.function outside of the loop. For (2), @tf.function has experimental_relax_shapes=True option that relaxes argument shapes that can avoid unnecessary retracing. For (3), please refer to https://www.tensorflow.org/guide/function#controlling_retracing and https://www.tensorflow.org/api_docs/python/tf/function for  more details.\n",
      "WARNING:tensorflow:6 out of the last 6 calls to <function scale_resize_image at 0x000001A4331A4820> triggered tf.function retracing. Tracing is expensive and the excessive number of tracings could be due to (1) creating @tf.function repeatedly in a loop, (2) passing tensors with different shapes, (3) passing Python objects instead of tensors. For (1), please define your @tf.function outside of the loop. For (2), @tf.function has experimental_relax_shapes=True option that relaxes argument shapes that can avoid unnecessary retracing. For (3), please refer to https://www.tensorflow.org/guide/function#controlling_retracing and https://www.tensorflow.org/api_docs/python/tf/function for  more details.\n",
      "Epoch 1/5\n",
      "7560/7560 [==============================] - 240s 31ms/step - loss: 53.7653 - val_loss: 0.2121\n",
      "Epoch 2/5\n",
      "7560/7560 [==============================] - 234s 31ms/step - loss: 0.1388 - val_loss: 0.0532\n",
      "Epoch 3/5\n",
      "7560/7560 [==============================] - 233s 31ms/step - loss: 0.1303 - val_loss: 0.0998\n",
      "Epoch 4/5\n",
      "7560/7560 [==============================] - 235s 31ms/step - loss: 0.1319 - val_loss: 0.0875\n",
      "Epoch 5/5\n",
      "7560/7560 [==============================] - 233s 31ms/step - loss: 0.1301 - val_loss: 0.2327\n"
     ]
    }
   ],
   "source": [
    "[cluster_array_train,image_array_train,rating_array_train], [cluster_array_val,image_array_val,rating_array_val], [cluster_array_test,image_array_test,rating_array_test] = get_data_SOM_network_final()\n",
    "    \n",
    "history = model.fit(x=[cluster_array_train, image_array_train], y=rating_array_train, validation_data=([cluster_array_val, image_array_val], rating_array_val), epochs=5, batch_size=2)\n",
    "\n",
    "loss_array = history.history['loss']\n",
    "val_loss_array = history.history['val_loss']"
   ]
  },
  {
   "cell_type": "code",
   "execution_count": 8,
   "id": "bf0eabcc",
   "metadata": {},
   "outputs": [
    {
     "data": {
      "image/png": "[encoded data removed]",
      "text/plain": [
       "<Figure size 432x288 with 1 Axes>"
      ]
     },
     "metadata": {
      "needs_background": "light"
     },
     "output_type": "display_data"
    }
   ],
   "source": [
    "# summarize history for loss\n",
    "plt.plot(loss_array)\n",
    "plt.plot(val_loss_array)\n",
    "plt.title('model loss')\n",
    "plt.ylabel('loss')\n",
    "plt.xlabel('epoch')\n",
    "plt.legend(['train', 'validation'], loc='upper left')\n",
    "plt.yscale(\"log\")\n",
    "plt.show()"
   ]
  },
  {
   "cell_type": "code",
   "execution_count": 9,
   "id": "efe55a48",
   "metadata": {},
   "outputs": [
    {
     "name": "stdout",
     "output_type": "stream",
     "text": [
      "8/8 [==============================] - 3s 140ms/step - loss: 0.2451 0s - loss: 0.24\n"
     ]
    },
    {
     "data": {
      "text/plain": [
       "0.2451450377702713"
      ]
     },
     "execution_count": 9,
     "metadata": {},
     "output_type": "execute_result"
    }
   ],
   "source": [
    "## CREATE TEST SET\n",
    "model.evaluate(x=[cluster_array_test, image_array_test], y=rating_array_test)"
   ]
  },
  {
   "cell_type": "markdown",
   "id": "962e4fa3",
   "metadata": {},
   "source": [
    "# HYBRID NEURAL NETWORK WITH SOM UNFROZEN"
   ]
  },
  {
   "cell_type": "code",
   "execution_count": 1,
   "id": "d9326bbf",
   "metadata": {},
   "outputs": [],
   "source": [
    "import tensorflow as tf\n",
    "\n",
    "import keras\n",
    "\n",
    "import pandas\n",
    "\n",
    "import sklearn\n",
    "\n",
    "import matplotlib\n",
    "\n",
    "import matplotlib.pyplot as plt\n",
    "\n",
    "from PIL import Image\n",
    "\n",
    "import numpy as np"
   ]
  },
  {
   "cell_type": "markdown",
   "id": "6907efe6",
   "metadata": {},
   "source": [
    "Now we will train a hybrid network which contains a SOM network and a CNN network. The SOM network replaced the manually clustered part of the previous network by letting the neural network do the clustering itself. The difference between the previous SOM network is that now the SOM network will be retrained with the rest of the network."
   ]
  },
  {
   "cell_type": "code",
   "execution_count": 2,
   "id": "c74aa573",
   "metadata": {},
   "outputs": [],
   "source": [
    "%run data_loader.ipynb \n",
    "from keras.applications.vgg16 import VGG16"
   ]
  },
  {
   "cell_type": "code",
   "execution_count": 3,
   "id": "ea4ee1f4",
   "metadata": {},
   "outputs": [],
   "source": [
    "import tensorflow as tf\n",
    "from tensorflow.keras.layers import Layer, InputSpec\n",
    "\n",
    "\n",
    "class SOMLayer(Layer):\n",
    "    \"\"\"\n",
    "    Self-Organizing Map layer class with rectangular topology\n",
    "    # Example\n",
    "    ```\n",
    "        model.add(SOMLayer(map_size=(10,10)))\n",
    "    ```\n",
    "    # Arguments\n",
    "        map_size: Tuple representing the size of the rectangular map. Number of prototypes is map_size[0]*map_size[1].\n",
    "        prototypes: Numpy array with shape `(n_prototypes, latent_dim)` witch represents the initial cluster centers\n",
    "    # Input shape\n",
    "        2D tensor with shape: `(n_samples, latent_dim)`\n",
    "    # Output shape\n",
    "        2D tensor with shape: `(n_samples, n_prototypes)`\n",
    "    \"\"\"\n",
    "\n",
    "    def __init__(self, map_size, prototypes=None, **kwargs):\n",
    "        if 'input_shape' not in kwargs and 'latent_dim' in kwargs:\n",
    "            kwargs['input_shape'] = (kwargs.pop('latent_dim'),)\n",
    "        super(SOMLayer, self).__init__(**kwargs)\n",
    "        self.map_size = map_size\n",
    "        self.n_prototypes = map_size[0]*map_size[1]\n",
    "        self.initial_prototypes = prototypes\n",
    "        self.input_spec = InputSpec(ndim=2)\n",
    "        self.prototypes = None\n",
    "        self.built = False\n",
    "\n",
    "    def build(self, input_shape):\n",
    "        assert(len(input_shape) == 2)\n",
    "        input_dim = input_shape[1]\n",
    "        self.input_spec = InputSpec(dtype=tf.float32, shape=(None, input_dim))\n",
    "        self.prototypes = self.add_weight(shape=(self.n_prototypes, input_dim), initializer='glorot_uniform', name='prototypes')\n",
    "        if self.initial_prototypes is not None:\n",
    "            self.set_weights(self.initial_prototypes)\n",
    "            del self.initial_prototypes\n",
    "        self.built = True\n",
    "\n",
    "    def call(self, inputs, **kwargs):\n",
    "        \"\"\"\n",
    "        Calculate pairwise squared euclidean distances between inputs and prototype vectors\n",
    "        Arguments:\n",
    "            inputs: the variable containing data, Tensor with shape `(n_samples, latent_dim)`\n",
    "        Return:\n",
    "            d: distances between inputs and prototypes, Tensor with shape `(n_samples, n_prototypes)`\n",
    "        \"\"\"\n",
    "        # Note: (tf.expand_dims(inputs, axis=1) - self.prototypes) has shape (n_samples, n_prototypes, latent_dim)\n",
    "        d = tf.reduce_sum(tf.square(tf.expand_dims(inputs, axis=1) - self.prototypes), axis=2)\n",
    "        return d\n",
    "\n",
    "    def compute_output_shape(self, input_shape):\n",
    "        assert(input_shape and len(input_shape) == 2)\n",
    "        return input_shape[0], self.n_prototypes\n",
    "\n",
    "    def get_config(self):\n",
    "        config = {'map_size': self.map_size}\n",
    "        base_config = super(SOMLayer, self).get_config()\n",
    "        return dict(list(base_config.items()) + list(config.items()))\n",
    "\n",
    "def som_loss(weights, distances):\n",
    "    \"\"\"\n",
    "    SOM loss\n",
    "    # Arguments\n",
    "        weights: weights for the weighted sum, Tensor with shape `(n_samples, n_prototypes)`\n",
    "        distances: pairwise squared euclidean distances between inputs and prototype vectors, Tensor with shape `(n_samples, n_prototypes)`\n",
    "    # Return\n",
    "        SOM reconstruction loss\n",
    "    \"\"\"\n",
    "    return tf.reduce_mean(tf.reduce_sum(weights*distances, axis=1))"
   ]
  },
  {
   "cell_type": "markdown",
   "id": "99fe4bb4",
   "metadata": {},
   "source": [
    "First, we will create a SOM network and pretrain it on the data."
   ]
  },
  {
   "cell_type": "code",
   "execution_count": 4,
   "id": "11c9fdf7",
   "metadata": {},
   "outputs": [],
   "source": [
    "inputA = keras.layers.Input(shape=(1990))\n",
    "x = SOMLayer((1990,1))(inputA)\n",
    "x = keras.models.Model(inputs=inputA, outputs=x)\n",
    "\n",
    "x.compile(loss=som_loss, optimizer=\"adam\")"
   ]
  },
  {
   "cell_type": "code",
   "execution_count": 5,
   "id": "867db218",
   "metadata": {},
   "outputs": [
    {
     "name": "stdout",
     "output_type": "stream",
     "text": [
      "Epoch 1/150\n",
      "17/17 [==============================] - 1s 18ms/step - loss: 480331.8125\n",
      "Epoch 2/150\n",
      "17/17 [==============================] - 0s 3ms/step - loss: 447957.7188\n",
      "Epoch 3/150\n",
      "17/17 [==============================] - 0s 3ms/step - loss: 417091.1250\n",
      "Epoch 4/150\n",
      "17/17 [==============================] - 0s 3ms/step - loss: 387807.0625\n",
      "Epoch 5/150\n",
      "17/17 [==============================] - 0s 3ms/step - loss: 360095.1562\n",
      "Epoch 6/150\n",
      "17/17 [==============================] - 0s 3ms/step - loss: 333913.5625\n",
      "Epoch 7/150\n",
      "17/17 [==============================] - 0s 3ms/step - loss: 309211.5625\n",
      "Epoch 8/150\n",
      "17/17 [==============================] - 0s 3ms/step - loss: 285936.6562\n",
      "Epoch 9/150\n",
      "17/17 [==============================] - 0s 3ms/step - loss: 264036.0312\n",
      "Epoch 10/150\n",
      "17/17 [==============================] - 0s 3ms/step - loss: 243457.0938\n",
      "Epoch 11/150\n",
      "17/17 [==============================] - 0s 3ms/step - loss: 224147.7969\n",
      "Epoch 12/150\n",
      "17/17 [==============================] - 0s 3ms/step - loss: 206056.2969\n",
      "Epoch 13/150\n",
      "17/17 [==============================] - 0s 3ms/step - loss: 189131.2031\n",
      "Epoch 14/150\n",
      "17/17 [==============================] - 0s 3ms/step - loss: 173321.8438\n",
      "Epoch 15/150\n",
      "17/17 [==============================] - 0s 3ms/step - loss: 158577.9531\n",
      "Epoch 16/150\n",
      "17/17 [==============================] - 0s 3ms/step - loss: 144849.9844\n",
      "Epoch 17/150\n",
      "17/17 [==============================] - 0s 3ms/step - loss: 132089.1719\n",
      "Epoch 18/150\n",
      "17/17 [==============================] - 0s 3ms/step - loss: 120247.5078\n",
      "Epoch 19/150\n",
      "17/17 [==============================] - 0s 3ms/step - loss: 109277.8203\n",
      "Epoch 20/150\n",
      "17/17 [==============================] - 0s 3ms/step - loss: 99133.9531\n",
      "Epoch 21/150\n",
      "17/17 [==============================] - 0s 3ms/step - loss: 89770.7188\n",
      "Epoch 22/150\n",
      "17/17 [==============================] - 0s 3ms/step - loss: 81144.0156\n",
      "Epoch 23/150\n",
      "17/17 [==============================] - 0s 3ms/step - loss: 73210.9062\n",
      "Epoch 24/150\n",
      "17/17 [==============================] - 0s 3ms/step - loss: 65929.6094\n",
      "Epoch 25/150\n",
      "17/17 [==============================] - 0s 3ms/step - loss: 59259.6562\n",
      "Epoch 26/150\n",
      "17/17 [==============================] - 0s 3ms/step - loss: 53161.8945\n",
      "Epoch 27/150\n",
      "17/17 [==============================] - 0s 3ms/step - loss: 47598.4844\n",
      "Epoch 28/150\n",
      "17/17 [==============================] - 0s 3ms/step - loss: 42533.0820\n",
      "Epoch 29/150\n",
      "17/17 [==============================] - 0s 3ms/step - loss: 37930.7031\n",
      "Epoch 30/150\n",
      "17/17 [==============================] - 0s 3ms/step - loss: 33757.8945\n",
      "Epoch 31/150\n",
      "17/17 [==============================] - 0s 3ms/step - loss: 29982.6836\n",
      "Epoch 32/150\n",
      "17/17 [==============================] - 0s 3ms/step - loss: 26574.6191\n",
      "Epoch 33/150\n",
      "17/17 [==============================] - 0s 3ms/step - loss: 23504.7598\n",
      "Epoch 34/150\n",
      "17/17 [==============================] - 0s 3ms/step - loss: 20745.7070\n",
      "Epoch 35/150\n",
      "17/17 [==============================] - 0s 3ms/step - loss: 18271.5762\n",
      "Epoch 36/150\n",
      "17/17 [==============================] - 0s 3ms/step - loss: 16057.9912\n",
      "Epoch 37/150\n",
      "17/17 [==============================] - 0s 3ms/step - loss: 14082.0566\n",
      "Epoch 38/150\n",
      "17/17 [==============================] - 0s 3ms/step - loss: 12322.3467\n",
      "Epoch 39/150\n",
      "17/17 [==============================] - 0s 3ms/step - loss: 10758.8584\n",
      "Epoch 40/150\n",
      "17/17 [==============================] - 0s 3ms/step - loss: 9372.9824\n",
      "Epoch 41/150\n",
      "17/17 [==============================] - 0s 3ms/step - loss: 8147.4512\n",
      "Epoch 42/150\n",
      "17/17 [==============================] - 0s 3ms/step - loss: 7066.3003\n",
      "Epoch 43/150\n",
      "17/17 [==============================] - 0s 3ms/step - loss: 6114.8086\n",
      "Epoch 44/150\n",
      "17/17 [==============================] - 0s 3ms/step - loss: 5279.4468\n",
      "Epoch 45/150\n",
      "17/17 [==============================] - 0s 3ms/step - loss: 4547.8228\n",
      "Epoch 46/150\n",
      "17/17 [==============================] - 0s 3ms/step - loss: 3908.6152\n",
      "Epoch 47/150\n",
      "17/17 [==============================] - 0s 3ms/step - loss: 3351.5181\n",
      "Epoch 48/150\n",
      "17/17 [==============================] - 0s 3ms/step - loss: 2867.1787\n",
      "Epoch 49/150\n",
      "17/17 [==============================] - 0s 3ms/step - loss: 2447.1340\n",
      "Epoch 50/150\n",
      "17/17 [==============================] - 0s 3ms/step - loss: 2083.7512\n",
      "Epoch 51/150\n",
      "17/17 [==============================] - 0s 3ms/step - loss: 1770.1689\n",
      "Epoch 52/150\n",
      "17/17 [==============================] - 0s 3ms/step - loss: 1500.2374\n",
      "Epoch 53/150\n",
      "17/17 [==============================] - 0s 3ms/step - loss: 1268.4618\n",
      "Epoch 54/150\n",
      "17/17 [==============================] - 0s 3ms/step - loss: 1069.9476\n",
      "Epoch 55/150\n",
      "17/17 [==============================] - 0s 3ms/step - loss: 900.3495\n",
      "Epoch 56/150\n",
      "17/17 [==============================] - 0s 3ms/step - loss: 755.8215\n",
      "Epoch 57/150\n",
      "17/17 [==============================] - 0s 3ms/step - loss: 632.9689\n",
      "Epoch 58/150\n",
      "17/17 [==============================] - 0s 3ms/step - loss: 528.8060\n",
      "Epoch 59/150\n",
      "17/17 [==============================] - 0s 3ms/step - loss: 440.7141\n",
      "Epoch 60/150\n",
      "17/17 [==============================] - 0s 3ms/step - loss: 366.4037\n",
      "Epoch 61/150\n",
      "17/17 [==============================] - 0s 3ms/step - loss: 303.8789\n",
      "Epoch 62/150\n",
      "17/17 [==============================] - 0s 3ms/step - loss: 251.4054\n",
      "Epoch 63/150\n",
      "17/17 [==============================] - 0s 3ms/step - loss: 207.4807\n",
      "Epoch 64/150\n",
      "17/17 [==============================] - 0s 3ms/step - loss: 170.8067\n",
      "Epoch 65/150\n",
      "17/17 [==============================] - 0s 3ms/step - loss: 140.2657\n",
      "Epoch 66/150\n",
      "17/17 [==============================] - 0s 3ms/step - loss: 114.8981\n",
      "Epoch 67/150\n",
      "17/17 [==============================] - 0s 3ms/step - loss: 93.8824\n",
      "Epoch 68/150\n",
      "17/17 [==============================] - 0s 3ms/step - loss: 76.5173\n",
      "Epoch 69/150\n",
      "17/17 [==============================] - 0s 3ms/step - loss: 62.2064\n",
      "Epoch 70/150\n",
      "17/17 [==============================] - 0s 3ms/step - loss: 50.4433\n",
      "Epoch 71/150\n",
      "17/17 [==============================] - 0s 3ms/step - loss: 40.8001\n",
      "Epoch 72/150\n",
      "17/17 [==============================] - 0s 3ms/step - loss: 32.9156\n",
      "Epoch 73/150\n",
      "17/17 [==============================] - 0s 3ms/step - loss: 26.4861\n",
      "Epoch 74/150\n",
      "17/17 [==============================] - 0s 3ms/step - loss: 21.2572\n",
      "Epoch 75/150\n",
      "17/17 [==============================] - 0s 3ms/step - loss: 17.0161\n",
      "Epoch 76/150\n",
      "17/17 [==============================] - 0s 3ms/step - loss: 13.5854\n",
      "Epoch 77/150\n",
      "17/17 [==============================] - 0s 3ms/step - loss: 10.8177\n",
      "Epoch 78/150\n",
      "17/17 [==============================] - 0s 3ms/step - loss: 8.5910\n",
      "Epoch 79/150\n",
      "17/17 [==============================] - 0s 3ms/step - loss: 6.8044\n",
      "Epoch 80/150\n",
      "17/17 [==============================] - 0s 3ms/step - loss: 5.3749\n",
      "Epoch 81/150\n",
      "17/17 [==============================] - 0s 3ms/step - loss: 4.2342\n",
      "Epoch 82/150\n",
      "17/17 [==============================] - 0s 3ms/step - loss: 3.3265\n",
      "Epoch 83/150\n",
      "17/17 [==============================] - 0s 3ms/step - loss: 2.6063\n",
      "Epoch 84/150\n",
      "17/17 [==============================] - 0s 3ms/step - loss: 2.0364\n",
      "Epoch 85/150\n",
      "17/17 [==============================] - 0s 3ms/step - loss: 1.5866\n",
      "Epoch 86/150\n",
      "17/17 [==============================] - 0s 3ms/step - loss: 1.2328\n",
      "Epoch 87/150\n",
      "17/17 [==============================] - 0s 3ms/step - loss: 0.9552\n",
      "Epoch 88/150\n",
      "17/17 [==============================] - 0s 3ms/step - loss: 0.7380\n",
      "Epoch 89/150\n",
      "17/17 [==============================] - 0s 3ms/step - loss: 0.5685\n",
      "Epoch 90/150\n",
      "17/17 [==============================] - 0s 3ms/step - loss: 0.4367\n",
      "Epoch 91/150\n",
      "17/17 [==============================] - 0s 3ms/step - loss: 0.3345\n",
      "Epoch 92/150\n",
      "17/17 [==============================] - 0s 3ms/step - loss: 0.2555\n",
      "Epoch 93/150\n",
      "17/17 [==============================] - 0s 3ms/step - loss: 0.1945\n",
      "Epoch 94/150\n",
      "17/17 [==============================] - 0s 3ms/step - loss: 0.1477\n",
      "Epoch 95/150\n",
      "17/17 [==============================] - 0s 3ms/step - loss: 0.1118\n",
      "Epoch 96/150\n",
      "17/17 [==============================] - 0s 3ms/step - loss: 0.0844\n",
      "Epoch 97/150\n",
      "17/17 [==============================] - 0s 3ms/step - loss: 0.0635\n",
      "Epoch 98/150\n",
      "17/17 [==============================] - 0s 3ms/step - loss: 0.0476\n",
      "Epoch 99/150\n"
     ]
    },
    {
     "name": "stdout",
     "output_type": "stream",
     "text": [
      "17/17 [==============================] - 0s 3ms/step - loss: 0.0356\n",
      "Epoch 100/150\n",
      "17/17 [==============================] - 0s 3ms/step - loss: 0.0265\n",
      "Epoch 101/150\n",
      "17/17 [==============================] - 0s 3ms/step - loss: 0.0197\n",
      "Epoch 102/150\n",
      "17/17 [==============================] - 0s 3ms/step - loss: 0.0146\n",
      "Epoch 103/150\n",
      "17/17 [==============================] - 0s 3ms/step - loss: 0.0108\n",
      "Epoch 104/150\n",
      "17/17 [==============================] - 0s 3ms/step - loss: 0.0079\n",
      "Epoch 105/150\n",
      "17/17 [==============================] - 0s 3ms/step - loss: 0.0058\n",
      "Epoch 106/150\n",
      "17/17 [==============================] - 0s 3ms/step - loss: 0.0043\n",
      "Epoch 107/150\n",
      "17/17 [==============================] - 0s 3ms/step - loss: 0.0031\n",
      "Epoch 108/150\n",
      "17/17 [==============================] - 0s 3ms/step - loss: 0.0023\n",
      "Epoch 109/150\n",
      "17/17 [==============================] - 0s 3ms/step - loss: 0.0016\n",
      "Epoch 110/150\n",
      "17/17 [==============================] - 0s 3ms/step - loss: 0.0012\n",
      "Epoch 111/150\n",
      "17/17 [==============================] - 0s 3ms/step - loss: 8.4744e-04\n",
      "Epoch 112/150\n",
      "17/17 [==============================] - 0s 3ms/step - loss: 6.0730e-04\n",
      "Epoch 113/150\n",
      "17/17 [==============================] - 0s 3ms/step - loss: 4.3374e-04\n",
      "Epoch 114/150\n",
      "17/17 [==============================] - 0s 3ms/step - loss: 3.0866e-04\n",
      "Epoch 115/150\n",
      "17/17 [==============================] - 0s 3ms/step - loss: 2.1888e-04\n",
      "Epoch 116/150\n",
      "17/17 [==============================] - 0s 3ms/step - loss: 1.5469e-04\n",
      "Epoch 117/150\n",
      "17/17 [==============================] - 0s 3ms/step - loss: 1.0900e-04\n",
      "Epoch 118/150\n",
      "17/17 [==============================] - 0s 3ms/step - loss: 7.6607e-05\n",
      "Epoch 119/150\n",
      "17/17 [==============================] - 0s 3ms/step - loss: 5.3731e-05\n",
      "Epoch 120/150\n",
      "17/17 [==============================] - 0s 3ms/step - loss: 3.7626e-05\n",
      "Epoch 121/150\n",
      "17/17 [==============================] - 0s 3ms/step - loss: 2.6389e-05\n",
      "Epoch 122/150\n",
      "17/17 [==============================] - 0s 3ms/step - loss: 1.8534e-05\n",
      "Epoch 123/150\n",
      "17/17 [==============================] - 0s 3ms/step - loss: 1.3152e-05\n",
      "Epoch 124/150\n",
      "17/17 [==============================] - 0s 3ms/step - loss: 9.3644e-06\n",
      "Epoch 125/150\n",
      "17/17 [==============================] - 0s 3ms/step - loss: 6.8611e-06\n",
      "Epoch 126/150\n",
      "17/17 [==============================] - 0s 3ms/step - loss: 5.2176e-06\n",
      "Epoch 127/150\n",
      "17/17 [==============================] - 0s 3ms/step - loss: 4.0329e-06\n",
      "Epoch 128/150\n",
      "17/17 [==============================] - 0s 3ms/step - loss: 3.2210e-06\n",
      "Epoch 129/150\n",
      "17/17 [==============================] - 0s 3ms/step - loss: 2.7271e-06\n",
      "Epoch 130/150\n",
      "17/17 [==============================] - 0s 3ms/step - loss: 2.4866e-06\n",
      "Epoch 131/150\n",
      "17/17 [==============================] - 0s 3ms/step - loss: 2.4294e-06\n",
      "Epoch 132/150\n",
      "17/17 [==============================] - 0s 3ms/step - loss: 2.4289e-06\n",
      "Epoch 133/150\n",
      "17/17 [==============================] - 0s 3ms/step - loss: 2.4289e-06\n",
      "Epoch 134/150\n",
      "17/17 [==============================] - 0s 3ms/step - loss: 2.4289e-06\n",
      "Epoch 135/150\n",
      "17/17 [==============================] - 0s 3ms/step - loss: 2.4289e-06\n",
      "Epoch 136/150\n",
      "17/17 [==============================] - 0s 3ms/step - loss: 2.4289e-06\n",
      "Epoch 137/150\n",
      "17/17 [==============================] - 0s 3ms/step - loss: 2.4289e-06\n",
      "Epoch 138/150\n",
      "17/17 [==============================] - 0s 3ms/step - loss: 2.4289e-06\n",
      "Epoch 139/150\n",
      "17/17 [==============================] - 0s 3ms/step - loss: 2.4283e-06\n",
      "Epoch 140/150\n",
      "17/17 [==============================] - 0s 3ms/step - loss: 2.4214e-06\n",
      "Epoch 141/150\n",
      "17/17 [==============================] - 0s 3ms/step - loss: 2.4127e-06\n",
      "Epoch 142/150\n",
      "17/17 [==============================] - 0s 3ms/step - loss: 2.4038e-06\n",
      "Epoch 143/150\n",
      "17/17 [==============================] - 0s 3ms/step - loss: 2.3904e-06\n",
      "Epoch 144/150\n",
      "17/17 [==============================] - 0s 3ms/step - loss: 2.3729e-06\n",
      "Epoch 145/150\n",
      "17/17 [==============================] - 0s 3ms/step - loss: 2.3551e-06\n",
      "Epoch 146/150\n",
      "17/17 [==============================] - 0s 3ms/step - loss: 2.3351e-06\n",
      "Epoch 147/150\n",
      "17/17 [==============================] - 0s 3ms/step - loss: 2.3101e-06\n",
      "Epoch 148/150\n",
      "17/17 [==============================] - 0s 3ms/step - loss: 2.2832e-06\n",
      "Epoch 149/150\n",
      "17/17 [==============================] - 0s 3ms/step - loss: 2.2552e-06\n",
      "Epoch 150/150\n",
      "17/17 [==============================] - 0s 3ms/step - loss: 2.2242e-06\n"
     ]
    },
    {
     "data": {
      "text/plain": [
       "<keras.callbacks.History at 0x1b353155160>"
      ]
     },
     "execution_count": 5,
     "metadata": {},
     "output_type": "execute_result"
    }
   ],
   "source": [
    "cluster_array_train = get_data_SOM_pretrain()\n",
    "\n",
    "x.fit(x=cluster_array_train, y=cluster_array_train, epochs=150, batch_size=2)"
   ]
  },
  {
   "cell_type": "markdown",
   "id": "67b6ea46",
   "metadata": {},
   "source": [
    "Then we will create a network with the SOM network included: (In this network, the SOM layer will NOT be frozen)"
   ]
  },
  {
   "cell_type": "code",
   "execution_count": 6,
   "id": "dde06a11",
   "metadata": {},
   "outputs": [
    {
     "name": "stdout",
     "output_type": "stream",
     "text": [
      "Model: \"model_1\"\n",
      "__________________________________________________________________________________________________\n",
      "Layer (type)                    Output Shape         Param #     Connected to                     \n",
      "==================================================================================================\n",
      "input_1 (InputLayer)            [(None, 1990)]       0                                            \n",
      "__________________________________________________________________________________________________\n",
      "vgg16_input (InputLayer)        [(None, 112, 112, 3) 0                                            \n",
      "__________________________________________________________________________________________________\n",
      "som_layer (SOMLayer)            (None, 1990)         3960100     input_1[0][0]                    \n",
      "__________________________________________________________________________________________________\n",
      "vgg16 (Functional)              (None, 512)          14714688    vgg16_input[0][0]                \n",
      "__________________________________________________________________________________________________\n",
      "dense (Dense)                   (None, 19)           37829       som_layer[0][0]                  \n",
      "__________________________________________________________________________________________________\n",
      "flatten (Flatten)               (None, 512)          0           vgg16[0][0]                      \n",
      "__________________________________________________________________________________________________\n",
      "concatenate (Concatenate)       (None, 531)          0           dense[0][0]                      \n",
      "                                                                 flatten[0][0]                    \n",
      "__________________________________________________________________________________________________\n",
      "dense_1 (Dense)                 (None, 1)            532         concatenate[0][0]                \n",
      "==================================================================================================\n",
      "Total params: 18,713,149\n",
      "Trainable params: 18,713,149\n",
      "Non-trainable params: 0\n",
      "__________________________________________________________________________________________________\n"
     ]
    }
   ],
   "source": [
    "inputB = keras.layers.Input(shape=(112,112,3))\n",
    "\n",
    "y = keras.models.Sequential()\n",
    "y.add(VGG16(weights = 'imagenet', include_top=False, input_shape=(112,112,3), pooling='avg'))\n",
    "y.add(keras.layers.Flatten())\n",
    "\n",
    "a = keras.layers.Dense(19, activation=\"relu\")(x.output)\n",
    "\n",
    "z = keras.layers.concatenate([a, y.output])\n",
    "\n",
    "z = keras.layers.Dense(1, activation=\"linear\")(z)\n",
    "\n",
    "model = keras.models.Model(inputs=[x.input, y.input], outputs=z)\n",
    "\n",
    "#model.compile(loss=\"mean_absolute_percentage_error\", optimizer=\"adam\")\n",
    "\n",
    "opt = tf.keras.optimizers.Adam(learning_rate=1e-6, clipvalue=1)\n",
    "\n",
    "#model.compile(loss=\"mean_absolute_percentage_error\", optimizer=\"rmsprop\")\n",
    "model.compile(loss='mean_squared_error', optimizer=opt)\n",
    "\n",
    "model.summary()"
   ]
  },
  {
   "cell_type": "code",
   "execution_count": 7,
   "id": "687a96d1",
   "metadata": {},
   "outputs": [
    {
     "name": "stdout",
     "output_type": "stream",
     "text": [
      "WARNING:tensorflow:5 out of the last 5 calls to <function scale_resize_image at 0x000001B338166790> triggered tf.function retracing. Tracing is expensive and the excessive number of tracings could be due to (1) creating @tf.function repeatedly in a loop, (2) passing tensors with different shapes, (3) passing Python objects instead of tensors. For (1), please define your @tf.function outside of the loop. For (2), @tf.function has experimental_relax_shapes=True option that relaxes argument shapes that can avoid unnecessary retracing. For (3), please refer to https://www.tensorflow.org/guide/function#controlling_retracing and https://www.tensorflow.org/api_docs/python/tf/function for  more details.\n",
      "WARNING:tensorflow:6 out of the last 6 calls to <function scale_resize_image at 0x000001B338166790> triggered tf.function retracing. Tracing is expensive and the excessive number of tracings could be due to (1) creating @tf.function repeatedly in a loop, (2) passing tensors with different shapes, (3) passing Python objects instead of tensors. For (1), please define your @tf.function outside of the loop. For (2), @tf.function has experimental_relax_shapes=True option that relaxes argument shapes that can avoid unnecessary retracing. For (3), please refer to https://www.tensorflow.org/guide/function#controlling_retracing and https://www.tensorflow.org/api_docs/python/tf/function for  more details.\n",
      "Epoch 1/5\n",
      "7560/7560 [==============================] - 252s 33ms/step - loss: 8.4737 - val_loss: 0.0702A: 41s - loss - ETA: 41s - loss: 10.308 - ETA: 41s - loss: 10 - ETA: 40s - loss: 10.288 - ETA: 40s - loss: - ETA: 40s - loss: 10.25 - ETA: 40s - loss: - ETA: 39s - loss: - ETA: 39s - loss: 10.2 - ETA: 38s - loss: 10.19 - ETA: 38s - loss: 1 -  - ETA: 13s - lo - ETA: 12s - lo - ETA: 12s - loss: 8. - E - ETA: 11s - loss: - ETA: 9s - loss: 8 -  - ETA: 5s - loss: - ETA: 4s -  - ETA: 4s - loss:  - ETA: 3s - loss: 8.612 - ETA: 3s - loss: 8.60 - ETA: 3s - los\n",
      "Epoch 2/5\n",
      "7560/7560 [==============================] - 247s 33ms/step - loss: 0.1115 - val_loss: 0.1556 - ETA: 3:52 - loss: 0.1 - ETA: 3:52 - loss: 0. - ETA: 3:52 - ETA: 3:50 - loss: - ETA: 3:50 - loss: 0. - ETA: 3:49 - - ETA: 3:49 - loss: 0.104 - ETA: 3:49 - loss: 0.10 - ETA: 3:48 - loss: 0.1 - ETA: 3:47 - loss: 0.1 - ETA: 3:47 - los - ETA: 3:46 - loss: 0.10 - ETA: 3:46 - loss: 0.101 - ETA: 3:46 - loss: 0.1 - ETA: 3:46 - loss: 0.10 - ETA: 3:45 - los - ETA: 3:45 - loss:  - ETA: 3:4 - ETA: 3 - ETA: 3:42 - loss: 0.100 -  - ETA: 3:39 - loss: 0 - ETA: 3 - ETA: 3:37 - loss: 0.10 - ETA: 3:37 - loss:  - ETA: 3:3 - ETA: 3:3 - ETA: 3:35 - loss: 0.1 - ETA: 3: - ETA: 3:32 - ETA: 3:31 - loss: 0 - ETA: 3:31 - loss:  - ETA: 3:3 - ETA: 3:29 -  - - ETA: 3:27 - loss - ETA: 3:26 - loss: 0.102 - ETA: 3:26 -  - ETA: 3:26 - loss: 0.10 - ETA: 3:25 - loss: 0.102 - ETA: 3:25 - los - ETA: 3:23 - - ETA: 3:22 - ETA: 3:21 - loss: 0.102 - ETA: 3:21 - loss: 0. - ETA: 3:21 - loss:  - ETA: 3:21 - ETA: 3:07 - loss: 0. - ETA: 3:06 - loss: 0 - ET - ETA: 3:05 - loss: 0.106 - ETA: 3:0 - ETA: 3:04 - loss: 0 - ETA: 3:03 - loss: 0.106 - ETA: 3:03 - loss - ETA: 3:03 - loss: 0. - ETA: 3:02 - loss: 0.1 - ETA: 3:02 - loss: 0.108 - ETA: 3:02 - los - ETA: 3:02 - loss: 0.109 - ETA: 3:02 - los - ETA: 3:01 - loss - ETA: 3:01 - loss: 0.1 - ETA - ETA: 2:59 - loss: - ETA: 2:59 - loss: 0. - ETA: 2:58 -  - ETA: 2:58 - lo - ETA: 2:57 - loss: 0 - ETA: 2:57 -  - ETA: 2:56 - los - ETA: 2:55 - loss: 0.1 - ETA: 2:55 - loss: 0.111 - ETA: 2:55 -  - ETA: 2:54 - loss: 0.11 - ETA: 2:54 - - ETA: 2:52 - loss: 0.112 - ETA: 2:52 - loss: 0.1 - ETA: 2:52 - loss:  - ETA: 2:51 - loss: 0.11 - ETA: 2:51 - los - ETA: 2 - ETA: 2:50 - - ETA:  - ETA: 2:46 - loss - ETA: 2:45 - lo - ETA: 2:45 - loss: 0.1 - ETA: 2:45 - - ET - ET - ETA: 2:39  - ETA - ETA: 2:37 - lo - ETA: 2:37 - loss: 0 - ETA: 2:36 - loss - ETA: 2:36 - loss - ETA: 2:35 - - ETA: 2:35 - loss:  - ETA: 2:34 - los - ETA:  - ETA: 2:33 - loss: 0. - ETA: 2:29 - lo - ETA: 2:28 - loss: 0 - ETA: 2:28 - loss - ETA: 2:26 - los - ETA: 2:25 - loss: 0.1 - ETA: 2:25 - loss:  -  - ETA: 2:23 - loss - ETA: 2:23 - loss:  - ETA:  - ETA: 2:21 - loss: - ETA: 2:21 - l - ETA: 2:17 - l - ETA: 2:16 - loss: - ETA: 2:16 - loss: 0 -  - ETA: 2:14 - loss: 0.1 - ETA: 2:14 - loss: 0.111 - ETA: 2:14 - loss: 0. - ETA: 2:14 - loss - ETA: 2:13  - ETA: 2:12 - loss: 0.111 - ETA: 2:12 - loss: 0. - ETA: 2:12 - loss -  - ETA: 2:10 - loss: 0.111 - ETA: 2:10 - loss: 0.1 - ETA: 2:10 - loss: 0.111 - ETA: 2:10 - loss: 0.11 - ETA: 2 - ETA: 2:08 - los - ETA: 2:08 - loss: 0. - ETA: 2:08 - - ETA: 2:03 - loss: 0.11 - ETA: - ETA: - ETA: 1:59 -  - ETA: 1 - ETA: 1:57 - loss: 0. - ETA: 1:57 - loss: 0.11 - ETA: 1:57 - ET - ETA: 1:55 - loss: 0.11 - ETA: 1:55 - loss: 0. - ETA: 1:54 - loss:  - ETA: 1:54 - loss: 0 - ETA: 1:54 - loss: 0.1 - ETA: 1:54 - loss:  - ETA: 1:53  - ETA: 1:52 - - ETA: 1:52 - loss - ETA: 1:51 -  - ETA: 1:50 - loss - ETA:  - ETA: 1:45 - loss: 0.110 - ETA: 1:45 - loss: 0.1 - ETA: 1:45 - loss:  - ETA: 1:45 - lo - ETA: 1:44 - loss:  - ETA: 1:44 - loss: 0.1 - ETA: 1:44 - lo - ETA: 1:43 - loss - ETA: 1:42 - loss: 0. - ETA: 1:42 - loss: 0.1 - ETA: 1:42 - los - ETA: 1:41 - loss: - ET - - ETA: 1:33 - loss: 0.11 - ETA: 1:33 - los - ETA: 1:33 - l - ETA:  - ETA: 1:31  - ETA: 1:30 - loss: 0.112 - ETA: 1:30 - loss: - ETA: 1:29 - loss: 0. - ETA: 1:29 - loss: - ETA: 1:29 - los - ETA: 1: - ETA: 1:27 - loss: 0.112 - ETA: 1:27 - loss: 0.112 - ETA: 1: - ETA: 1:26 -  - ETA: 1:25 -  - ETA: 1:24 - loss: 0. - ETA: 1:24 - loss:  - ETA: 1:24 - loss: 0.112 - ETA: 1:24 - loss: 0.112 - ETA: 1:24 - loss: 0.1 - ETA: 1:24 -  - ETA: 1:2 - ETA: 1:22 - loss: 0. - ETA: 1:22 - loss: 0.112 - ETA: 1:22 - loss: 0.112 - ETA:  - ETA: 1:20 - ETA: 1:16 - loss: 0.112 - ETA: 1:16 - lo - ETA: 1:15 - lo - ETA: 1:15 - loss: 0.112 - ETA: 1:15 - loss: 0.11 - ETA: 1:15 - l - ETA: 1:1 - ETA: 1:13 - loss: 0.1 - ETA: 1 - ETA: 1 - ETA: 1:11 - loss - ETA: 1:10 - loss: 0.112 - ETA: 1:10 - l - ETA: 1:09 - loss: 0.1 - ETA: 1:09 - lo - ETA: - ETA: 1:07 - l - ETA: 1:07 - los - ETA: 1:06 - loss: 0. - ETA: 1:06 - loss: 0.11 - ET - ETA: 1:04 - loss: 0.112 - ETA: 1:04 - loss:  - E - ETA: 1:01 - loss: - E - ETA: 59 - ETA: 57s - loss:  - ETA - ETA: 56s  - ETA: 56s - loss: 0. - ETA: 56s  - ETA: 54s - lo - ETA: 54s - loss: 0. - ETA: 53 - ETA: 53s - loss - ETA:  - ETA: 50s  - ETA: 49s -  - ETA: 49s - loss - ETA: 44 - ETA: 43s -  - ETA: 42s - loss: 0. - ETA: 42s  - ETA: 42s - loss: 0.11 - ETA: 42s - loss: 0.11 - ETA: 42s -  - ETA: 41s - loss: 0.11 - ETA: 39s - loss: 0. - ETA: 38 - ETA: 37s - loss:  - ETA: 37s - loss: 0. - ETA: 37s -  - ETA: 37 - E - E - E - ETA - E - ETA: 24s  - ETA: 24s - loss: 0.11 - ETA:  - ETA:  - ETA: 21s - loss: 0.11 - ETA: 21s - loss: 0.11 - ETA: 21s - loss - - ETA - ETA: 14s - loss - ETA: 11s - loss: 0. - ETA: 11s - loss: - - ETA: 6 - ETA: 5s - loss: 0.111 - ETA: 5s - loss: 0.111 - ETA: 5s - loss: 0.111 - ETA: 5s - loss:  - ETA: 4s - los - ETA: 4s - los - ETA: 3s - loss - ETA: 3s - loss: - ETA: 2s - loss: 0.11 - ET\n",
      "Epoch 3/5\n"
     ]
    },
    {
     "name": "stdout",
     "output_type": "stream",
     "text": [
      "7560/7560 [==============================] - 246s 33ms/step - loss: 0.1077 - val_loss: 0.058809 - ETA: 3 - ETA: 3:48 - los - ETA: 3:47 - loss: - ETA: 3:46 - loss: 0. - ETA: 3:46 - loss: 0.107 - ETA: 3:46 - los - ETA: 3:45 - loss - ETA: 3:45 - lo - ETA: 3: - ETA: 3:43 - loss: 0.102 - ETA: 3:43 - loss: 0.10 - ETA: 3:43 - los - ETA: 3:42 -  - ETA: 3:42 - lo - ETA: 3:41 - loss:  - ETA: 3:40 - loss: 0.096 - ETA: 3:40 -  - ETA: 3:40 - loss - ETA: 3:39 - loss: 0. - ETA: 3:39 - loss: - ETA: 3:38 - loss: 0.0 - ETA: 3:38 - loss: 0.09 - ETA: 3:38 - loss: 0. - ETA: 3:38 - loss: 0.1 - ETA: 3:38 - loss:  - ETA: 3:37 - loss: 0. - ETA: 3:37 - loss: 0.10 - ETA: 3:37 - loss: 0.1 - ETA: 3:37 - lo - ETA: 3:36 - loss - E - ETA: 3:34 - l - ETA: 3:34 - - ETA:  - ETA: 3:31 - loss: 0.099 - ETA: 3:31 - loss - ETA: 3:31 - loss: - ETA: 3:30 - ETA: 3:29 - lo - ETA: 3:29 - loss: 0.097 - ETA: 3:29 - loss - ETA: 3:28 - loss - ETA: 3:28 - loss: 0.09 - ETA: 3:28 - loss: 0 - ETA: 3:27 - loss: 0.09 - ETA: 3:2 - ETA: 3:26 - loss: - ETA: 3:26 - loss: 0.102 - ETA: 3:26 - loss: 0.102 - ETA: 3:26 - loss: 0.102 - ETA: 3:26 - loss: 0.101 - ETA: 3:26 - los - ETA: 3:25 - loss: - ETA: 3:25 - los - ETA: 3:24 - lo - ETA: 3 - ETA: 3:22 - l - ETA: 3:22 - loss: 0.101 - ETA: 3:21 - - ETA: 3:21 - loss: 0.10 - ETA: 3:21 - loss: - ETA: 3:20 - loss: 0. - ETA: 3:20 - loss: 0.102 - ETA: 3:20 - loss:  - ETA: 3:19 - loss: 0.1 - ETA: - ET - ETA: 3:17 - loss: 0 - ETA: 3:16 - loss - ETA: 3:16 - - ETA: 3:15 - loss - ETA: 3:15 - loss: 0.10 - ETA: 3:14 - - ETA: 3:14 - loss: - ETA: 3:13 - loss:  - ETA: 3:11 - loss: 0.1 - ETA: 3:11 - loss: 0.103 - ETA: 3:11 - loss: 0.103 - ETA: 3:11 - los - ETA: 3:10 - loss: 0.103 - ETA: 3:10 - los - ETA: 3:10 - loss:  - ETA: 3:09 - loss: - ETA: 3:0 - ETA: 3:08 - loss: 0. - ETA: 3:08 - lo - ETA: 3:07 - los - ETA: 3:07 - ETA: 3:06 - loss: 0.104 - ETA: 3:06 - loss: 0. - ETA: 3:05 - loss: 0.104 - ETA: 3:05 - los - ETA: 3:05 - loss - ETA: 3:0 - ETA: 2:58 - loss: 0.106 - ETA: 2:58 - l - ETA: 2:54 - l - ETA: 2:54 - loss: 0.106 - ETA: 2:53 - loss: - ETA: 2:53 - loss: 0.106 -  - ETA: 2:52 - loss: 0.10 - ETA: 2:51 - loss: 0.107 - ETA:  - ET - ETA: 2:47 - loss - ETA: 2:47 - loss:  - ETA: 2:46 - - ETA: 2:46 - loss: 0.108 - ETA: 2:45 - loss: 0.108 - ETA: 2:45 - loss: 0.108 - ETA: 2:45 - loss: 0 - ETA: - ETA: 2:44 - loss: 0 - ETA: 2:44 - loss: 0.1 -  - ETA: 2:42 - lo - ETA: 2:41  - ETA: 2:39  - ETA:  - ETA:  - ETA: 2 - ETA: 2:31 - - ETA: 2:29 - loss: 0.1 - ETA: 2:29 - loss:  - ETA: 2:28 - loss: 0 - ETA: 2:28 - ETA: 2:25 - loss: 0.107 - ETA: 2 - ETA: 2:24 - loss: 0.1 - ETA: 2:24 - loss: 0.107 - ETA: 2:24 - loss: - ETA: 2:24 - loss - ETA: 2:23 - loss: 0.107 - ETA: 2:23 - ETA: 2:22 - loss: - ETA: 2:22 - - ETA: 2:21 - loss: 0 - ETA: 2:21 -  - ETA: 2:20 - loss: 0.10 - ETA: 2:20 - - ETA: 2:19 - loss: 0.107 - ETA: 2:19 - - ETA: 2:18 - loss: 0.107 - ETA: 2:18 - loss: 0.1 - ETA: 2:16 - loss: 0. - ETA: 2:16 - loss: 0.10 - ETA: 2:16 - loss: 0.10 - ETA: 2: - ETA: 2:15 - loss: 0.107 - ETA: 2:15 - loss: 0.1 - ETA: 2:14 - lo - ETA: 2:14 - lo - ETA: 2:12 - loss: 0 - ETA: 2:11 -  - ETA: 2:11 -  - ETA: 2:10  - ETA: - ETA: 2:06 - l - ETA: 2:05 - loss: 0.10 - ETA: 2:05 - ETA: 2:04 - loss: 0. - ETA: 2:04 - loss:  - ETA: 2:04 - ETA: 2:03 - lo - ETA: 2:01 - los - ETA: 2:00 - loss: 0.10 - ETA: 2 - ETA: 1:59 - ETA: - ETA: 1:54 - loss: 0.10 - ETA: 1:53 - loss: 0.10 - ETA: 1:53 - loss - ETA: 1:53 - loss: 0 - ETA: 1:53 - loss:  - ETA: 1:52 -  - ETA: 1:51 - loss: 0.107 - ETA: 1:51 - loss - ET - ETA: 1:50 - loss - ETA: 1:49 - loss: 0 - ETA: 1:49 - l - ETA: 1:48 - lo - ETA: - ETA: 1:46 - loss: 0.10 - ETA: 1:46 - loss: 0 - ETA: 1:46 - loss: 0.10 - ETA: 1:44 -  - ETA: 1:43 - loss: 0.10 - ETA: 1:43 - loss - ETA: 1:43 - los - ETA: 1: - ETA: 1:41  - E - ET - ETA: 1:29 - los - ETA: 1:29 - l - ETA: 1:28 - loss:  - ETA: 1:28 - loss: 0.1 - ETA: 1:28 - los - ETA: 1:27 - loss: 0.105 - ETA: 1:27 - loss: 0.10 - ETA: 1:27 - loss: 0.105 -  - ETA: 1:25 - los - ETA - ETA: 1:24 - lo - ETA: 1:23 - loss: 0.105 - ETA: 1:23 - loss: 0.105 - ETA: 1:23 - loss: - ETA: 1:22 - loss: 0 - ETA: 1:22 - l - ETA: 1:21 -  - ETA: 1:21 - - ETA: 1:20 - loss: 0. - ETA: 1:20 - loss: 0.105 - ETA: 1:20 - ETA: 1:19 - loss: 0 - ETA: 1:18 - loss: 0.105 - ETA: 1:18 - loss: 0.105 - ETA: 1:18 - - ETA - ETA: 1 - ETA: 1:15 - loss:  - ETA: 1:15 - lo - ETA: 1:14 - los - ETA: 1:14 - loss: 0.105 - ETA: 1:14 - loss - ETA: 1:13 - los - ETA: 1:12 - loss: 0.10 - ETA:  - ETA: 1:1 - ETA: 1:10 - ETA: 1:09 - loss: 0.10 - ETA: 1:09 - loss: - ETA: 1:09 - l - E - ETA: 59 - ETA: 59s - loss - - ETA: 56s - loss: 0.10 - ETA: 56 - ETA: 55s - loss: 0.10 - ETA: 55s - loss - ETA - ETA: 42 - ETA:  - ETA:  - ETA: 40s - lo - ETA: 39s - loss: 0.10 - ETA:  - ETA: 38s - loss: 0.10 - ETA: 38s - loss - E - ETA: 36s - loss: 0.10 - - ETA - ETA - ETA: 34s -  - ETA: 34s - loss: 0.10 - ETA:  - ETA - ETA: 25s -  - ETA: 24s  - ETA: 24s  - ETA: 23s - loss: 0. - ETA: 23 - - ETA: 20s - loss: 0.10 - ETA: 20 - - E - ETA: 11 - ETA:  - ETA: 10s - l - ETA - ETA: 2s - loss: - ETA: 1s - l - ETA: 1s - loss: 0.10 - ETA: \n",
      "Epoch 4/5\n",
      "7560/7560 [==============================] - 248s 33ms/step - loss: 0.1060 - val_loss: 0.06850 - ETA: 3:47 - loss: 0.101 - ETA: 3:47 -  - ETA: 3:46 - loss: 0.098 - ETA: 3:46 - loss:  - ETA: 3:46 -  - ETA: 3:45 - loss: 0 - - ETA: - ETA: 3:40 - loss: 0. - ETA: 3:40 - loss: 0. - ETA: 3:39 - loss: 0.0 - ETA: 3:39 - loss: 0.094 - ETA: 3:39 - loss: 0.0 - ETA: 3:3 - ETA: 3 - ETA: 3:35 - lo - ETA: 3:34 - lo -  - ETA: - ETA: 3:21 - los - ET - ETA: 3:09 - loss: 0.10 - ETA: 3:09 - loss: 0.10 - ETA: 3:07 - loss: 0.1 - ETA: 3:07 - - ETA: 3:0 - ETA: 2:53 - l - ETA: 2:53 -  - ETA: - ETA: 2:51   - ETA: 2:47 - loss: 0.104 - ETA: 2:47 - loss: 0 - ETA: 2:4 - ETA: 2 - ETA: - ETA - ETA: 2:30 - loss: 0.10 - ETA: 2:  - ETA: 2: - ETA: 1:3 - E - ETA:  - ETA: 1:19 - loss: 0.104 -  - ETA: 1:17 - loss: 0.1 -  - - ETA: 1:14  - ETA:  - ETA: 1:01 - loss: 0.10 - ETA: 1:01  - ETA: 1:00 - loss: 0.10 -  - ETA - ETA: 50s - loss: 0.10 - - ETA: 48s - loss - ETA: 47s - loss - ETA: 43 - ETA: 42s -  - ETA: 39s -  - ETA: 38s -  - ETA: 36s - loss - ETA:  - ETA: 36s - loss: 0.10 - ETA: 36s  - ETA: 35s  - ETA:  - ETA: 32s -  - ETA: 31s -  - ETA: 30s - loss - ETA: 30 - ETA: 30s - loss: 0. - ETA: 29s - loss: 0. - ETA:  - ETA: 29s  - ETA: 28 - - ETA: 27s - loss - ETA: 27s - loss:  - ETA: 25s - loss: 0.10 - ETA:  - ETA: 25s - loss: 0. - ETA - ETA: 23s - loss: 0. - ETA: 23s  - ETA: 22s  - ETA: 21s - loss: 0.10 - ETA:  -  - E - ETA: 5s - l\n",
      "Epoch 5/5\n",
      "7560/7560 [==============================] - 245s 32ms/step - loss: 0.1065 - val_loss: 0.0610- loss:  - ETA: 3:34 - loss: 0.105 - ETA: 3:34 - - ETA - ETA: 3:32 - loss: - ETA: 3:32 - - ETA: 3:31 - lo - ETA: 3:29 - loss: 0.1 - ETA: 3:29 - ETA: 3:28 - loss: 0.10  - ETA: 2:55 - ETA: 2:49 - loss: 0 - ETA: 2:4 - ETA: 2:48 - ETA: 2:47 - loss: - E - ETA: 2:40 - loss:  - ETA: 2:40 - loss: 0.10 - ETA: 2:39 - lo - ETA: 2:39  - ETA: 2:38 - loss:  - ETA: 2:38 - loss: 0. - ETA: 2:37 - ETA: 2:36 - loss: 0.107 - ETA: 2:36 - loss: - E - ETA -  - ETA: 2:27 - loss: 0.105 - ETA: 2:27  -  - ETA: 2:25 -  - ETA: 2:24 - loss: - ETA: - ETA: 2:19 - loss: 0.104 - ETA: 2:19  - ETA: 2:  - ETA: 2:15 - loss: 0.104 - ETA: 2:1 - ETA: - E - ETA: 2:12 - los - ETA: 2:11 - los -  - ETA: 2:04  - ETA: 2:04 - loss: 0.10 - ETA: 2:03 - ETA: 2 - ETA: 2:01 - loss: 0. - ETA: 2:01 - lo - ETA: 2:01 - loss - ETA: 2:00 - loss - ETA: 2:00 - ETA: 1:59 - loss: 0.103 - ETA: 1:59 - loss: 0.10 - ETA: 1: - ETA: 1:57 - loss: 0.10 - ETA: 1: - ETA: 1:56 - loss:  - ETA: 1:56 - loss:  - E - ETA: 13s - lo - ETA: 12s - loss: 0. - ETA:  - ETA:  - ETA: 11 - ETA: 10s - loss \n"
     ]
    }
   ],
   "source": [
    "[cluster_array_train,image_array_train,rating_array_train], [cluster_array_val,image_array_val,rating_array_val], [cluster_array_test,image_array_test,rating_array_test] = get_data_SOM_network_final()\n",
    "    \n",
    "history = model.fit(x=[cluster_array_train, image_array_train], y=rating_array_train, validation_data=([cluster_array_val, image_array_val], rating_array_val), epochs=5, batch_size=2)\n",
    "\n",
    "loss_array = history.history['loss']\n",
    "val_loss_array = history.history['val_loss']"
   ]
  },
  {
   "cell_type": "code",
   "execution_count": 8,
   "id": "45aed600",
   "metadata": {},
   "outputs": [
    {
     "data": {
      "image/png": "[encoded data removed]",
      "text/plain": [
       "<Figure size 432x288 with 1 Axes>"
      ]
     },
     "metadata": {
      "needs_background": "light"
     },
     "output_type": "display_data"
    }
   ],
   "source": [
    "# summarize history for loss\n",
    "plt.plot(loss_array)\n",
    "plt.plot(val_loss_array)\n",
    "plt.title('model loss')\n",
    "plt.ylabel('loss')\n",
    "plt.xlabel('epoch')\n",
    "plt.legend(['train', 'validation'], loc='upper left')\n",
    "plt.yscale(\"log\")\n",
    "plt.show()"
   ]
  },
  {
   "cell_type": "code",
   "execution_count": 9,
   "id": "cbd45be1",
   "metadata": {},
   "outputs": [
    {
     "name": "stdout",
     "output_type": "stream",
     "text": [
      "8/8 [==============================] - 2s 128ms/step - loss: 0.0422\n"
     ]
    },
    {
     "data": {
      "text/plain": [
       "0.04217362031340599"
      ]
     },
     "execution_count": 9,
     "metadata": {},
     "output_type": "execute_result"
    }
   ],
   "source": [
    "## CREATE TEST SET\n",
    "model.evaluate(x=[cluster_array_test, image_array_test], y=rating_array_test)"
   ]
  },
  {
   "cell_type": "code",
   "execution_count": null,
   "id": "971c4d83",
   "metadata": {},
   "outputs": [],
   "source": []
  }
 ],
 "metadata": {
  "kernelspec": {
   "display_name": "Python 3 (ipykernel)",
   "language": "python",
   "name": "python3"
  },
  "language_info": {
   "codemirror_mode": {
    "name": "ipython",
    "version": 3
   },
   "file_extension": ".py",
   "mimetype": "text/x-python",
   "name": "python",
   "nbconvert_exporter": "python",
   "pygments_lexer": "ipython3",
   "version": "3.9.7"
  }
 },
 "nbformat": 4,
 "nbformat_minor": 5
}
