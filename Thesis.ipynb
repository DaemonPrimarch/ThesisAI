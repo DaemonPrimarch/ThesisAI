{
 "cells": [
  {
   "cell_type": "markdown",
   "id": "2f083879",
   "metadata": {},
   "source": [
    "# IMPORTS"
   ]
  },
  {
   "cell_type": "code",
   "execution_count": 1,
   "id": "461934f0",
   "metadata": {},
   "outputs": [],
   "source": [
    "import tensorflow as tf\n",
    "\n",
    "import keras\n",
    "\n",
    "import pandas\n",
    "\n",
    "import sklearn\n",
    "\n",
    "import matplotlib\n",
    "\n",
    "import matplotlib.pyplot as plt\n",
    "\n",
    "from PIL import Image\n",
    "\n",
    "import numpy as np"
   ]
  },
  {
   "cell_type": "markdown",
   "id": "41021ffa",
   "metadata": {},
   "source": [
    "# CONVOLUTIONAL NEURAL NETWORK"
   ]
  },
  {
   "cell_type": "markdown",
   "id": "16b40fae",
   "metadata": {},
   "source": [
    "For the normal convolutional neural network, the network that will be used is the VGG16 network which is pretrained on the imagenet dataset. This can be used in keras as follows:"
   ]
  },
  {
   "cell_type": "code",
   "execution_count": 2,
   "id": "245f597b",
   "metadata": {},
   "outputs": [],
   "source": [
    "from keras.applications.vgg16 import VGG16"
   ]
  },
  {
   "cell_type": "code",
   "execution_count": 3,
   "id": "82e2860b",
   "metadata": {
    "scrolled": true
   },
   "outputs": [
    {
     "name": "stdout",
     "output_type": "stream",
     "text": [
      "Model: \"sequential\"\n",
      "_________________________________________________________________\n",
      "Layer (type)                 Output Shape              Param #   \n",
      "=================================================================\n",
      "vgg16 (Functional)           (None, 512)               14714688  \n",
      "_________________________________________________________________\n",
      "flatten (Flatten)            (None, 512)               0         \n",
      "_________________________________________________________________\n",
      "dense (Dense)                (None, 1)                 513       \n",
      "=================================================================\n",
      "Total params: 14,715,201\n",
      "Trainable params: 14,715,201\n",
      "Non-trainable params: 0\n",
      "_________________________________________________________________\n"
     ]
    }
   ],
   "source": [
    "model = keras.models.Sequential()\n",
    "model.add(VGG16(weights = 'imagenet', include_top=False, input_shape=(224,224,3), pooling='avg'))\n",
    "model.add(keras.layers.Flatten())\n",
    "model.add(keras.layers.Dense(1, activation=\"linear\"))\n",
    "opt = tf.keras.optimizers.Adam(learning_rate=1e-6, clipvalue=1)\n",
    "model.compile(loss='mean_squared_error', optimizer=opt)\n",
    "model.summary()"
   ]
  },
  {
   "cell_type": "markdown",
   "id": "1f0e8de5",
   "metadata": {},
   "source": [
    "The size of this network in RAM is 14 715 201 * 8 (8 bytes for a double/parameter) = 117 721 608 bytes or 0.109637 GB."
   ]
  },
  {
   "cell_type": "code",
   "execution_count": 3,
   "id": "af9962f9",
   "metadata": {},
   "outputs": [],
   "source": [
    "%run data_loader.ipynb "
   ]
  },
  {
   "cell_type": "markdown",
   "id": "8a1e72c0",
   "metadata": {},
   "source": [
    "Then the model can be trained. The input consists of images (224, 224, 3) and average ratings (1). The network is trained on both part separatly. Around 2000 training samples => 2.243 GB. This should be enough to keep in RAM."
   ]
  },
  {
   "cell_type": "code",
   "execution_count": 11,
   "id": "2cb5ee02",
   "metadata": {
    "scrolled": true
   },
   "outputs": [
    {
     "name": "stdout",
     "output_type": "stream",
     "text": [
      "0\n",
      "begin_index: 0\n",
      "middle_index: 1417\n",
      "end_index: 1890\n",
      "batch_size: 1890\n",
      "WARNING:tensorflow:5 out of the last 6 calls to <function scale_resize_image at 0x000002AA6FE9B550> triggered tf.function retracing. Tracing is expensive and the excessive number of tracings could be due to (1) creating @tf.function repeatedly in a loop, (2) passing tensors with different shapes, (3) passing Python objects instead of tensors. For (1), please define your @tf.function outside of the loop. For (2), @tf.function has experimental_relax_shapes=True option that relaxes argument shapes that can avoid unnecessary retracing. For (3), please refer to https://www.tensorflow.org/guide/function#controlling_retracing and https://www.tensorflow.org/api_docs/python/tf/function for  more details.\n",
      "WARNING:tensorflow:6 out of the last 7 calls to <function scale_resize_image at 0x000002AA6FE9B550> triggered tf.function retracing. Tracing is expensive and the excessive number of tracings could be due to (1) creating @tf.function repeatedly in a loop, (2) passing tensors with different shapes, (3) passing Python objects instead of tensors. For (1), please define your @tf.function outside of the loop. For (2), @tf.function has experimental_relax_shapes=True option that relaxes argument shapes that can avoid unnecessary retracing. For (3), please refer to https://www.tensorflow.org/guide/function#controlling_retracing and https://www.tensorflow.org/api_docs/python/tf/function for  more details.\n",
      "scores_array_val.shape: (473, 1)\n",
      "images_array_val.shape: (473, 224, 224, 3)\n",
      "(473, 1)\n",
      "Epoch 1/7\n",
      "709/709 [==============================] - 45s 61ms/step - loss: 0.0111 - val_loss: 0.0182\n",
      "Epoch 2/7\n",
      "709/709 [==============================] - 44s 61ms/step - loss: 0.0085 - val_loss: 0.0179\n",
      "Epoch 3/7\n",
      "709/709 [==============================] - 44s 63ms/step - loss: 0.0071 - val_loss: 0.0173\n",
      "Epoch 4/7\n",
      "709/709 [==============================] - 44s 62ms/step - loss: 0.0059 - val_loss: 0.0171\n",
      "Epoch 5/7\n",
      "709/709 [==============================] - 44s 62ms/step - loss: 0.0050 - val_loss: 0.0173\n",
      "Epoch 6/7\n",
      "709/709 [==============================] - 44s 62ms/step - loss: 0.0041 - val_loss: 0.0164\n",
      "Epoch 7/7\n",
      "709/709 [==============================] - 44s 62ms/step - loss: 0.0036 - val_loss: 0.0188\n"
     ]
    }
   ],
   "source": [
    "nb_parts = 1\n",
    "nb_epochs = 7\n",
    "\n",
    "loss_array = np.zeros((nb_epochs*nb_parts,1))\n",
    "val_loss_array = np.zeros((nb_epochs*nb_parts,1))\n",
    "\n",
    "for i in range(nb_parts):\n",
    "    print(i)\n",
    "    \n",
    "    (scores_array_train,images_array_train), (scores_array_val, images_array_val) = get_data_CNN(i, nb_parts)\n",
    "\n",
    "    print(scores_array_val.shape)\n",
    "    history = model.fit(images_array_train, scores_array_train, batch_size=2, epochs=nb_epochs, validation_data=(images_array_val, scores_array_val))\n",
    "    \n",
    "    for j in range(nb_epochs):\n",
    "        loss_array[i*nb_epochs + j] = history.history['loss'][j]\n",
    "        val_loss_array[i*nb_epochs + j] = history.history['val_loss'][j]"
   ]
  },
  {
   "cell_type": "code",
   "execution_count": 14,
   "id": "bbc422f9",
   "metadata": {},
   "outputs": [
    {
     "data": {
      "image/png": "[encoded data removed]",
      "text/plain": [
       "<Figure size 432x288 with 1 Axes>"
      ]
     },
     "metadata": {
      "needs_background": "light"
     },
     "output_type": "display_data"
    }
   ],
   "source": [
    "    # summarize history for loss\n",
    "    plt.plot(loss_array)\n",
    "    plt.plot(val_loss_array)\n",
    "    plt.title('model loss')\n",
    "    plt.ylabel('loss')\n",
    "    plt.xlabel('epoch')\n",
    "    plt.legend(['train', 'validation'], loc='upper left')\n",
    "    plt.show()"
   ]
  },
  {
   "cell_type": "code",
   "execution_count": 15,
   "id": "c0259e11",
   "metadata": {},
   "outputs": [
    {
     "name": "stdout",
     "output_type": "stream",
     "text": [
      "4/4 [==============================] - 1s 73ms/step - loss: 0.0356\n"
     ]
    },
    {
     "data": {
      "text/plain": [
       "0.03560104966163635"
      ]
     },
     "execution_count": 15,
     "metadata": {},
     "output_type": "execute_result"
    }
   ],
   "source": [
    "## CREATE TEST SET\n",
    "\n",
    "(test_scores, test_images) = get_test_data_CNN()\n",
    "model.evaluate(x=test_images, y=test_scores)"
   ]
  },
  {
   "cell_type": "markdown",
   "id": "c4bc740f",
   "metadata": {},
   "source": [
    "Now we run this code 10 times and return the test results in an array"
   ]
  },
  {
   "cell_type": "code",
   "execution_count": 4,
   "id": "307451fd",
   "metadata": {},
   "outputs": [
    {
     "name": "stdout",
     "output_type": "stream",
     "text": [
      "begin_index: 0\n",
      "middle_index: 1417\n",
      "end_index: 1890\n",
      "batch_size: 1890\n",
      "WARNING:tensorflow:5 out of the last 6 calls to <function scale_resize_image at 0x000001D6A8843DC0> triggered tf.function retracing. Tracing is expensive and the excessive number of tracings could be due to (1) creating @tf.function repeatedly in a loop, (2) passing tensors with different shapes, (3) passing Python objects instead of tensors. For (1), please define your @tf.function outside of the loop. For (2), @tf.function has experimental_relax_shapes=True option that relaxes argument shapes that can avoid unnecessary retracing. For (3), please refer to https://www.tensorflow.org/guide/function#controlling_retracing and https://www.tensorflow.org/api_docs/python/tf/function for  more details.\n",
      "WARNING:tensorflow:6 out of the last 7 calls to <function scale_resize_image at 0x000001D6A8843DC0> triggered tf.function retracing. Tracing is expensive and the excessive number of tracings could be due to (1) creating @tf.function repeatedly in a loop, (2) passing tensors with different shapes, (3) passing Python objects instead of tensors. For (1), please define your @tf.function outside of the loop. For (2), @tf.function has experimental_relax_shapes=True option that relaxes argument shapes that can avoid unnecessary retracing. For (3), please refer to https://www.tensorflow.org/guide/function#controlling_retracing and https://www.tensorflow.org/api_docs/python/tf/function for  more details.\n",
      "scores_array_val.shape: (473, 1)\n",
      "images_array_val.shape: (473, 112, 112, 3)\n",
      "Epoch 1/7\n",
      "709/709 [==============================] - 28s 31ms/step - loss: 0.2945 - val_loss: 0.0574\n",
      "Epoch 2/7\n",
      "709/709 [==============================] - 21s 30ms/step - loss: 0.0394 - val_loss: 0.0409\n",
      "Epoch 3/7\n",
      "709/709 [==============================] - 22s 31ms/step - loss: 0.0247 - val_loss: 0.0307\n",
      "Epoch 4/7\n",
      "709/709 [==============================] - 22s 30ms/step - loss: 0.0188 - val_loss: 0.0306s: \n",
      "Epoch 5/7\n",
      "709/709 [==============================] - 22s 30ms/step - loss: 0.0148 - val_loss: 0.0237\n",
      "Epoch 6/7\n",
      "709/709 [==============================] - 22s 31ms/step - loss: 0.0120 - val_loss: 0.0236\n",
      "Epoch 7/7\n",
      "709/709 [==============================] - 22s 31ms/step - loss: 0.0098 - val_loss: 0.0225\n",
      "4/4 [==============================] - 1s 122ms/step - loss: 0.0398\n",
      "Epoch 1/7\n",
      "709/709 [==============================] - 23s 31ms/step - loss: 0.0364 - val_loss: 0.0284\n",
      "Epoch 2/7\n",
      "709/709 [==============================] - 22s 30ms/step - loss: 0.0169 - val_loss: 0.0206\n",
      "Epoch 3/7\n",
      "709/709 [==============================] - 22s 30ms/step - loss: 0.0120 - val_loss: 0.0176\n",
      "Epoch 4/7\n",
      "709/709 [==============================] - 21s 30ms/step - loss: 0.0094 - val_loss: 0.0184 loss: 0.00\n",
      "Epoch 5/7\n",
      "709/709 [==============================] - 21s 30ms/step - loss: 0.0075 - val_loss: 0.0165l - ETA: 0s - loss\n",
      "Epoch 6/7\n",
      "709/709 [==============================] - 21s 30ms/step - loss: 0.0060 - val_loss: 0.0181\n",
      "Epoch 7/7\n",
      "709/709 [==============================] - 21s 30ms/step - loss: 0.0047 - val_loss: 0.0169\n",
      "4/4 [==============================] - 0s 22ms/step - loss: 0.0314\n",
      "Epoch 1/7\n",
      "709/709 [==============================] - 22s 30ms/step - loss: 0.2315 - val_loss: 0.0442\n",
      "Epoch 2/7\n",
      "709/709 [==============================] - 21s 30ms/step - loss: 0.0332 - val_loss: 0.0307\n",
      "Epoch 3/7\n",
      "709/709 [==============================] - 21s 30ms/step - loss: 0.0215 - val_loss: 0.0279\n",
      "Epoch 4/7\n",
      "709/709 [==============================] - 21s 30ms/step - loss: 0.0163 - val_loss: 0.0263\n",
      "Epoch 5/7\n",
      "709/709 [==============================] - 21s 30ms/step - loss: 0.0131 - val_loss: 0.0219\n",
      "Epoch 6/7\n",
      "709/709 [==============================] - 21s 30ms/step - loss: 0.0108 - val_loss: 0.0264\n",
      "Epoch 7/7\n",
      "709/709 [==============================] - 21s 30ms/step - loss: 0.0090 - val_loss: 0.0245\n",
      "4/4 [==============================] - 0s 21ms/step - loss: 0.0456\n",
      "Epoch 1/7\n",
      "709/709 [==============================] - 22s 30ms/step - loss: 0.0430 - val_loss: 0.0191\n",
      "Epoch 2/7\n",
      "709/709 [==============================] - 22s 31ms/step - loss: 0.0153 - val_loss: 0.0145\n",
      "Epoch 3/7\n",
      "709/709 [==============================] - 22s 31ms/step - loss: 0.0118 - val_loss: 0.0154\n",
      "Epoch 4/7\n",
      "709/709 [==============================] - 22s 31ms/step - loss: 0.0097 - val_loss: 0.0138\n",
      "Epoch 5/7\n",
      "709/709 [==============================] - 22s 31ms/step - loss: 0.0081 - val_loss: 0.0144\n",
      "Epoch 6/7\n",
      "709/709 [==============================] - 22s 31ms/step - loss: 0.0069 - val_loss: 0.0135\n",
      "Epoch 7/7\n",
      "709/709 [==============================] - 22s 31ms/step - loss: 0.0057 - val_loss: 0.0135\n",
      "4/4 [==============================] - 0s 22ms/step - loss: 0.0374\n",
      "Epoch 1/7\n",
      "709/709 [==============================] - 23s 31ms/step - loss: 0.2311 - val_loss: 0.0483\n",
      "Epoch 2/7\n",
      "709/709 [==============================] - 22s 31ms/step - loss: 0.0330 - val_loss: 0.0327\n",
      "Epoch 3/7\n",
      "709/709 [==============================] - 22s 31ms/step - loss: 0.0212 - val_loss: 0.0268\n",
      "Epoch 4/7\n",
      "709/709 [==============================] - 22s 31ms/step - loss: 0.0163 - val_loss: 0.0241\n",
      "Epoch 5/7\n",
      "709/709 [==============================] - 22s 31ms/step - loss: 0.0129 - val_loss: 0.0236\n",
      "Epoch 6/7\n",
      "709/709 [==============================] - 22s 31ms/step - loss: 0.0105 - val_loss: 0.0198\n",
      "Epoch 7/7\n",
      "709/709 [==============================] - 22s 31ms/step - loss: 0.0086 - val_loss: 0.0196\n",
      "4/4 [==============================] - 0s 21ms/step - loss: 0.0352\n",
      "Epoch 1/7\n",
      "709/709 [==============================] - 23s 31ms/step - loss: 0.0355 - val_loss: 0.0226\n",
      "Epoch 2/7\n",
      "709/709 [==============================] - 22s 31ms/step - loss: 0.0155 - val_loss: 0.0180\n",
      "Epoch 3/7\n",
      "709/709 [==============================] - 22s 31ms/step - loss: 0.0122 - val_loss: 0.0186\n",
      "Epoch 4/7\n",
      "709/709 [==============================] - 22s 31ms/step - loss: 0.0097 - val_loss: 0.0167\n",
      "Epoch 5/7\n",
      "709/709 [==============================] - 22s 31ms/step - loss: 0.0080 - val_loss: 0.0163\n",
      "Epoch 6/7\n",
      "709/709 [==============================] - 22s 31ms/step - loss: 0.0067 - val_loss: 0.0157\n",
      "Epoch 7/7\n",
      "709/709 [==============================] - 22s 31ms/step - loss: 0.0054 - val_loss: 0.0182\n",
      "4/4 [==============================] - 0s 22ms/step - loss: 0.0389\n",
      "Epoch 1/7\n",
      "709/709 [==============================] - 23s 31ms/step - loss: 0.2551 - val_loss: 0.0446\n",
      "Epoch 2/7\n",
      "709/709 [==============================] - 22s 31ms/step - loss: 0.0329 - val_loss: 0.0339\n",
      "Epoch 3/7\n",
      "709/709 [==============================] - 22s 31ms/step - loss: 0.0209 - val_loss: 0.0256\n",
      "Epoch 4/7\n",
      "709/709 [==============================] - 22s 31ms/step - loss: 0.0162 - val_loss: 0.0237\n",
      "Epoch 5/7\n",
      "709/709 [==============================] - 22s 31ms/step - loss: 0.0132 - val_loss: 0.0211\n",
      "Epoch 6/7\n",
      "709/709 [==============================] - 22s 31ms/step - loss: 0.0112 - val_loss: 0.0203\n",
      "Epoch 7/7\n",
      "709/709 [==============================] - 22s 31ms/step - loss: 0.0094 - val_loss: 0.0232\n",
      "4/4 [==============================] - 0s 22ms/step - loss: 0.0477\n",
      "Epoch 1/7\n",
      "709/709 [==============================] - 23s 31ms/step - loss: 0.0525 - val_loss: 0.0303\n",
      "Epoch 2/7\n",
      "709/709 [==============================] - 22s 31ms/step - loss: 0.0179 - val_loss: 0.0204\n",
      "Epoch 3/7\n",
      "709/709 [==============================] - 22s 31ms/step - loss: 0.0128 - val_loss: 0.0194\n",
      "Epoch 4/7\n",
      "709/709 [==============================] - 22s 31ms/step - loss: 0.0104 - val_loss: 0.0168\n",
      "Epoch 5/7\n",
      "709/709 [==============================] - 22s 31ms/step - loss: 0.0084 - val_loss: 0.0170\n",
      "Epoch 6/7\n",
      "709/709 [==============================] - 22s 31ms/step - loss: 0.0068 - val_loss: 0.0153\n",
      "Epoch 7/7\n",
      "709/709 [==============================] - 23s 32ms/step - loss: 0.0054 - val_loss: 0.0154\n",
      "4/4 [==============================] - 0s 23ms/step - loss: 0.0291\n",
      "Epoch 1/7\n",
      "709/709 [==============================] - 23s 31ms/step - loss: 0.1780 - val_loss: 0.0417\n",
      "Epoch 2/7\n",
      "709/709 [==============================] - 22s 31ms/step - loss: 0.0311 - val_loss: 0.0297\n",
      "Epoch 3/7\n",
      "709/709 [==============================] - 22s 31ms/step - loss: 0.0199 - val_loss: 0.02330s - loss: 0.019\n",
      "Epoch 4/7\n",
      "709/709 [==============================] - 22s 31ms/step - loss: 0.0149 - val_loss: 0.0249\n",
      "Epoch 5/7\n",
      "709/709 [==============================] - 22s 31ms/step - loss: 0.0116 - val_loss: 0.0218\n",
      "Epoch 6/7\n",
      "709/709 [==============================] - 22s 31ms/step - loss: 0.0095 - val_loss: 0.0201\n",
      "Epoch 7/7\n",
      "709/709 [==============================] - 22s 30ms/step - loss: 0.0076 - val_loss: 0.0207\n",
      "4/4 [==============================] - 0s 22ms/step - loss: 0.0376\n",
      "Epoch 1/7\n",
      "709/709 [==============================] - 23s 31ms/step - loss: 0.0937 - val_loss: 0.0395\n",
      "Epoch 2/7\n",
      "709/709 [==============================] - 21s 30ms/step - loss: 0.0213 - val_loss: 0.0265\n",
      "Epoch 3/7\n",
      "709/709 [==============================] - 21s 30ms/step - loss: 0.0149 - val_loss: 0.0254\n",
      "Epoch 4/7\n",
      "709/709 [==============================] - 21s 30ms/step - loss: 0.0115 - val_loss: 0.0205\n",
      "Epoch 5/7\n",
      "709/709 [==============================] - 21s 30ms/step - loss: 0.0092 - val_loss: 0.0199\n",
      "Epoch 6/7\n",
      "709/709 [==============================] - 21s 30ms/step - loss: 0.0074 - val_loss: 0.0196\n",
      "Epoch 7/7\n",
      "709/709 [==============================] - 22s 31ms/step - loss: 0.0058 - val_loss: 0.0195\n",
      "4/4 [==============================] - 0s 21ms/step - loss: 0.0354\n"
     ]
    }
   ],
   "source": [
    "(scores_array_train,images_array_train), (scores_array_val, images_array_val) = get_data_CNN(0, 1)\n",
    "(test_scores, test_images) = get_test_data_CNN()\n",
    "\n",
    "test_results = np.zeros((10,1))\n",
    "\n",
    "for i in range(10):\n",
    "    \n",
    "        model = keras.models.Sequential()\n",
    "        model.add(VGG16(weights = 'imagenet', include_top=False, input_shape=(112,112,3), pooling='avg'))\n",
    "        model.add(keras.layers.Flatten())\n",
    "        model.add(keras.layers.Dense(1, activation=\"linear\"))\n",
    "        opt = tf.keras.optimizers.Adam(learning_rate=1e-6, clipvalue=1)\n",
    "        model.compile(loss='mean_squared_error', optimizer=opt)\n",
    "\n",
    "        history = model.fit(images_array_train, scores_array_train, batch_size=2, epochs=7, validation_data=(images_array_val, scores_array_val))\n",
    "\n",
    "        test_results[i] = model.evaluate(x=test_images, y=test_scores)"
   ]
  },
  {
   "cell_type": "markdown",
   "id": "5bd830ed",
   "metadata": {},
   "source": [
    "Plot the results in a boxplot:"
   ]
  },
  {
   "cell_type": "code",
   "execution_count": null,
   "id": "dd7aa344",
   "metadata": {},
   "outputs": [],
   "source": [
    "test_results = [[0.0397753 ],\n",
    "       [0.0313718 ],\n",
    "       [0.04557879],\n",
    "       [0.03742178],\n",
    "       [0.03523384],\n",
    "       [0.03892915],\n",
    "       [0.04765619],\n",
    "       [0.029062  ],\n",
    "       [0.03761949],\n",
    "       [0.03538001]]"
   ]
  },
  {
   "cell_type": "code",
   "execution_count": 5,
   "id": "74669195",
   "metadata": {},
   "outputs": [
    {
     "data": {
      "image/png": "[encoded data removed]",
      "text/plain": [
       "<Figure size 432x288 with 1 Axes>"
      ]
     },
     "metadata": {
      "needs_background": "light"
     },
     "output_type": "display_data"
    }
   ],
   "source": [
    "plt.boxplot(test_results)\n",
    "plt.show()"
   ]
  },
  {
   "cell_type": "code",
   "execution_count": 6,
   "id": "f42b3abf",
   "metadata": {},
   "outputs": [
    {
     "data": {
      "text/plain": [
       "array([[0.0397753 ],\n",
       "       [0.0313718 ],\n",
       "       [0.04557879],\n",
       "       [0.03742178],\n",
       "       [0.03523384],\n",
       "       [0.03892915],\n",
       "       [0.04765619],\n",
       "       [0.029062  ],\n",
       "       [0.03761949],\n",
       "       [0.03538001]])"
      ]
     },
     "execution_count": 6,
     "metadata": {},
     "output_type": "execute_result"
    }
   ],
   "source": [
    "test_results"
   ]
  },
  {
   "cell_type": "markdown",
   "id": "c3a6bdef",
   "metadata": {},
   "source": [
    "# CONVOLUTIONAL NEURAL NETWORK TRAINED ON CLUSTER DATASET"
   ]
  },
  {
   "cell_type": "code",
   "execution_count": 1,
   "id": "95b1ec5f",
   "metadata": {},
   "outputs": [],
   "source": [
    "import tensorflow as tf\n",
    "\n",
    "import keras\n",
    "\n",
    "import pandas\n",
    "\n",
    "import sklearn\n",
    "\n",
    "import matplotlib\n",
    "\n",
    "import matplotlib.pyplot as plt\n",
    "\n",
    "from PIL import Image\n",
    "\n",
    "import numpy as np"
   ]
  },
  {
   "cell_type": "markdown",
   "id": "b0c1b533",
   "metadata": {},
   "source": [
    "For the normal convolutional neural network, the network that will be used is the VGG16 network which is pretrained on the imagenet dataset. This can be used in keras as follows:"
   ]
  },
  {
   "cell_type": "code",
   "execution_count": 2,
   "id": "1a9f1471",
   "metadata": {},
   "outputs": [],
   "source": [
    "from keras.applications.vgg16 import VGG16"
   ]
  },
  {
   "cell_type": "code",
   "execution_count": 3,
   "id": "e6af1949",
   "metadata": {
    "scrolled": true
   },
   "outputs": [
    {
     "name": "stdout",
     "output_type": "stream",
     "text": [
      "Model: \"sequential\"\n",
      "_________________________________________________________________\n",
      "Layer (type)                 Output Shape              Param #   \n",
      "=================================================================\n",
      "vgg16 (Functional)           (None, 512)               14714688  \n",
      "_________________________________________________________________\n",
      "flatten (Flatten)            (None, 512)               0         \n",
      "_________________________________________________________________\n",
      "dense (Dense)                (None, 1)                 513       \n",
      "=================================================================\n",
      "Total params: 14,715,201\n",
      "Trainable params: 14,715,201\n",
      "Non-trainable params: 0\n",
      "_________________________________________________________________\n"
     ]
    }
   ],
   "source": [
    "model = keras.models.Sequential()\n",
    "model.add(VGG16(weights = 'imagenet', include_top=False, input_shape=(112,112,3), pooling='avg'))\n",
    "model.add(keras.layers.Flatten())\n",
    "model.add(keras.layers.Dense(1, activation=\"linear\"))\n",
    "opt = tf.keras.optimizers.Adam(learning_rate=1e-6, clipvalue=1)\n",
    "model.compile(loss='mean_squared_error', optimizer=opt)\n",
    "model.summary()"
   ]
  },
  {
   "cell_type": "markdown",
   "id": "3d7f0c03",
   "metadata": {},
   "source": [
    "The layout of the network stays the same as before."
   ]
  },
  {
   "cell_type": "code",
   "execution_count": 4,
   "id": "404bf193",
   "metadata": {},
   "outputs": [],
   "source": [
    "%run data_loader.ipynb "
   ]
  },
  {
   "cell_type": "markdown",
   "id": "c0f77b80",
   "metadata": {},
   "source": [
    "Then the model can be trained. We will now use the same dataset as the clustered networks will use. This means they have an image per individual rating. With around 20000 training samples this time this gives 20.243 GB of RAM Needed to keep in memory! Since this is too large, a solution will have to be found. SOLUTION = images are scaled down to 112 by 112 by 3!"
   ]
  },
  {
   "cell_type": "code",
   "execution_count": 5,
   "id": "859e0a55",
   "metadata": {},
   "outputs": [
    {
     "name": "stdout",
     "output_type": "stream",
     "text": [
      "WARNING:tensorflow:5 out of the last 5 calls to <function scale_resize_image at 0x0000024C315A8820> triggered tf.function retracing. Tracing is expensive and the excessive number of tracings could be due to (1) creating @tf.function repeatedly in a loop, (2) passing tensors with different shapes, (3) passing Python objects instead of tensors. For (1), please define your @tf.function outside of the loop. For (2), @tf.function has experimental_relax_shapes=True option that relaxes argument shapes that can avoid unnecessary retracing. For (3), please refer to https://www.tensorflow.org/guide/function#controlling_retracing and https://www.tensorflow.org/api_docs/python/tf/function for  more details.\n",
      "WARNING:tensorflow:6 out of the last 6 calls to <function scale_resize_image at 0x0000024C315A8820> triggered tf.function retracing. Tracing is expensive and the excessive number of tracings could be due to (1) creating @tf.function repeatedly in a loop, (2) passing tensors with different shapes, (3) passing Python objects instead of tensors. For (1), please define your @tf.function outside of the loop. For (2), @tf.function has experimental_relax_shapes=True option that relaxes argument shapes that can avoid unnecessary retracing. For (3), please refer to https://www.tensorflow.org/guide/function#controlling_retracing and https://www.tensorflow.org/api_docs/python/tf/function for  more details.\n",
      "Epoch 1/2\n",
      "7560/7560 [==============================] - 224s 29ms/step - loss: 0.0828 - val_loss: 0.0742\n",
      "Epoch 2/2\n",
      "7560/7560 [==============================] - 219s 29ms/step - loss: 0.0738 - val_loss: 0.0734\n"
     ]
    }
   ],
   "source": [
    "nb_epochs = 2\n",
    "\n",
    "[_,images_array_train,scores_array_train], [_,images_array_val,scores_array_val], [_,images_array_test,scores_array_test] = get_data_manual_cluster_network_final()\n",
    "\n",
    "history = model.fit(images_array_train, scores_array_train, batch_size=2, epochs=nb_epochs, validation_data=(images_array_val, scores_array_val))\n",
    "    \n",
    "loss_array = history.history['loss']\n",
    "val_loss_array = history.history['val_loss']"
   ]
  },
  {
   "cell_type": "code",
   "execution_count": 6,
   "id": "4da20dda",
   "metadata": {},
   "outputs": [
    {
     "data": {
      "image/png": "[encoded data removed]",
      "text/plain": [
       "<Figure size 432x288 with 1 Axes>"
      ]
     },
     "metadata": {
      "needs_background": "light"
     },
     "output_type": "display_data"
    }
   ],
   "source": [
    "    # summarize history for loss\n",
    "    plt.plot(loss_array)\n",
    "    plt.plot(val_loss_array)\n",
    "    plt.title('model loss')\n",
    "    plt.ylabel('loss')\n",
    "    plt.xlabel('epoch')\n",
    "    plt.legend(['train', 'validation'], loc='upper left')\n",
    "    plt.yscale(\"log\")\n",
    "    plt.show()"
   ]
  },
  {
   "cell_type": "code",
   "execution_count": 7,
   "id": "4aa504f8",
   "metadata": {},
   "outputs": [
    {
     "name": "stdout",
     "output_type": "stream",
     "text": [
      "8/8 [==============================] - 2s 129ms/step - loss: 0.0754\n"
     ]
    },
    {
     "data": {
      "text/plain": [
       "0.07538533210754395"
      ]
     },
     "execution_count": 7,
     "metadata": {},
     "output_type": "execute_result"
    }
   ],
   "source": [
    "# Test Set Performance\n",
    "model.evaluate(x=images_array_test, y=scores_array_test)"
   ]
  },
  {
   "cell_type": "markdown",
   "id": "7d147b99",
   "metadata": {},
   "source": [
    "# HYBRID NEURAL NETWORK WITH MANUAL CLUSTERING"
   ]
  },
  {
   "cell_type": "code",
   "execution_count": 1,
   "id": "0d6986cc",
   "metadata": {},
   "outputs": [],
   "source": [
    "import tensorflow as tf\n",
    "\n",
    "import keras\n",
    "\n",
    "import pandas\n",
    "\n",
    "import sklearn\n",
    "\n",
    "import matplotlib\n",
    "\n",
    "import matplotlib.pyplot as plt\n",
    "\n",
    "from PIL import Image\n",
    "\n",
    "import numpy as np"
   ]
  },
  {
   "cell_type": "markdown",
   "id": "d07c6575",
   "metadata": {},
   "source": [
    "Now we need to use a manual clustering method to cluster the data of the participants into different clusters, and use this information as input for a hybrid neural network. We will start with the clustering, we can do this using the sklearn library:"
   ]
  },
  {
   "cell_type": "code",
   "execution_count": 2,
   "id": "af2ec180",
   "metadata": {},
   "outputs": [],
   "source": [
    "%run data_loader.ipynb \n",
    "from keras.applications.vgg16 import VGG16"
   ]
  },
  {
   "cell_type": "markdown",
   "id": "1d03b247",
   "metadata": {},
   "source": [
    "Structure of the network. Hybrid structure with two inputs, a single number representing the cluster of the current rating, and images."
   ]
  },
  {
   "cell_type": "code",
   "execution_count": 3,
   "id": "582c36b4",
   "metadata": {},
   "outputs": [
    {
     "name": "stdout",
     "output_type": "stream",
     "text": [
      "Model: \"model_1\"\n",
      "__________________________________________________________________________________________________\n",
      "Layer (type)                    Output Shape         Param #     Connected to                     \n",
      "==================================================================================================\n",
      "vgg16_input (InputLayer)        [(None, 112, 112, 3) 0                                            \n",
      "__________________________________________________________________________________________________\n",
      "input_1 (InputLayer)            [(None, 1)]          0                                            \n",
      "__________________________________________________________________________________________________\n",
      "vgg16 (Functional)              (None, 512)          14714688    vgg16_input[0][0]                \n",
      "__________________________________________________________________________________________________\n",
      "dense (Dense)                   (None, 19)           38          input_1[0][0]                    \n",
      "__________________________________________________________________________________________________\n",
      "flatten (Flatten)               (None, 512)          0           vgg16[0][0]                      \n",
      "__________________________________________________________________________________________________\n",
      "concatenate (Concatenate)       (None, 531)          0           dense[0][0]                      \n",
      "                                                                 flatten[0][0]                    \n",
      "__________________________________________________________________________________________________\n",
      "dense_1 (Dense)                 (None, 1)            532         concatenate[0][0]                \n",
      "==================================================================================================\n",
      "Total params: 14,715,258\n",
      "Trainable params: 14,715,258\n",
      "Non-trainable params: 0\n",
      "__________________________________________________________________________________________________\n"
     ]
    }
   ],
   "source": [
    "inputA = keras.layers.Input(shape=(1,))\n",
    "inputB = keras.layers.Input(shape=(112,112,3))\n",
    "\n",
    "x = keras.layers.Dense(19, activation=\"relu\")(inputA)\n",
    "x = keras.models.Model(inputs=inputA, outputs=x)\n",
    "\n",
    "y = keras.models.Sequential()\n",
    "y.add(VGG16(weights = 'imagenet', include_top=False, input_shape=(112,112,3), pooling='avg'))\n",
    "y.add(keras.layers.Flatten())\n",
    "\n",
    "combined = keras.layers.concatenate([x.output, y.output])\n",
    "\n",
    "#z = keras.layers.Dense(19, activation=\"relu\")(combined)\n",
    "#z = keras.layers.Dropout(0.5, input_shape=(19,))(z)\n",
    "z = keras.layers.Dense(1)(combined)\n",
    "\n",
    "model = keras.models.Model(inputs=[x.input, y.input], outputs=z)\n",
    "\n",
    "opt = tf.keras.optimizers.Adam(learning_rate=1e-6, clipvalue=1)\n",
    "\n",
    "#model.compile(loss=\"mean_absolute_percentage_error\", optimizer=\"rmsprop\")\n",
    "model.compile(loss='mean_squared_error', optimizer=opt)\n",
    "\n",
    "model.summary()"
   ]
  },
  {
   "cell_type": "code",
   "execution_count": 4,
   "id": "b282646b",
   "metadata": {},
   "outputs": [
    {
     "name": "stdout",
     "output_type": "stream",
     "text": [
      "WARNING:tensorflow:5 out of the last 5 calls to <function scale_resize_image at 0x000001C4659AF550> triggered tf.function retracing. Tracing is expensive and the excessive number of tracings could be due to (1) creating @tf.function repeatedly in a loop, (2) passing tensors with different shapes, (3) passing Python objects instead of tensors. For (1), please define your @tf.function outside of the loop. For (2), @tf.function has experimental_relax_shapes=True option that relaxes argument shapes that can avoid unnecessary retracing. For (3), please refer to https://www.tensorflow.org/guide/function#controlling_retracing and https://www.tensorflow.org/api_docs/python/tf/function for  more details.\n",
      "WARNING:tensorflow:6 out of the last 6 calls to <function scale_resize_image at 0x000001C4659AF550> triggered tf.function retracing. Tracing is expensive and the excessive number of tracings could be due to (1) creating @tf.function repeatedly in a loop, (2) passing tensors with different shapes, (3) passing Python objects instead of tensors. For (1), please define your @tf.function outside of the loop. For (2), @tf.function has experimental_relax_shapes=True option that relaxes argument shapes that can avoid unnecessary retracing. For (3), please refer to https://www.tensorflow.org/guide/function#controlling_retracing and https://www.tensorflow.org/api_docs/python/tf/function for  more details.\n",
      "Epoch 1/2\n",
      "7560/7560 [==============================] - 229s 30ms/step - loss: 0.0857 - val_loss: 0.0744\n",
      "Epoch 2/2\n",
      "7560/7560 [==============================] - 224s 30ms/step - loss: 0.0739 - val_loss: 0.0731\n"
     ]
    }
   ],
   "source": [
    "[cluster_array_train,image_array_train,rating_array_train], [cluster_array_val,image_array_val,rating_array_val], [cluster_array_test,image_array_test,rating_array_test] = get_data_manual_cluster_network_final()\n",
    "    \n",
    "history = model.fit(x=[cluster_array_train, image_array_train], y=rating_array_train, validation_data=([cluster_array_val, image_array_val], rating_array_val), epochs=2, batch_size=2)\n",
    "\n",
    "loss_array = history.history['loss']\n",
    "val_loss_array = history.history['val_loss']"
   ]
  },
  {
   "cell_type": "code",
   "execution_count": 5,
   "id": "0c5615e4",
   "metadata": {},
   "outputs": [
    {
     "data": {
      "image/png": "[encoded data removed]",
      "text/plain": [
       "<Figure size 432x288 with 1 Axes>"
      ]
     },
     "metadata": {
      "needs_background": "light"
     },
     "output_type": "display_data"
    }
   ],
   "source": [
    "# summarize history for loss\n",
    "plt.plot(loss_array)\n",
    "plt.plot(val_loss_array)\n",
    "plt.title('model loss')\n",
    "plt.ylabel('loss')\n",
    "plt.xlabel('epoch')\n",
    "plt.legend(['train', 'validation'], loc='upper left')\n",
    "plt.yscale(\"log\")\n",
    "plt.show()"
   ]
  },
  {
   "cell_type": "code",
   "execution_count": 6,
   "id": "b424398b",
   "metadata": {},
   "outputs": [
    {
     "name": "stdout",
     "output_type": "stream",
     "text": [
      "8/8 [==============================] - 2s 129ms/step - loss: 0.0836\n"
     ]
    },
    {
     "data": {
      "text/plain": [
       "0.08361538499593735"
      ]
     },
     "execution_count": 6,
     "metadata": {},
     "output_type": "execute_result"
    }
   ],
   "source": [
    "## CREATE TEST SET\n",
    "model.evaluate(x=[cluster_array_test, image_array_test], y=rating_array_test)"
   ]
  },
  {
   "cell_type": "markdown",
   "id": "13a8a24a",
   "metadata": {},
   "source": [
    "# HYBRID NEURAL NETWORK WITH SOM PRETRAINED"
   ]
  },
  {
   "cell_type": "code",
   "execution_count": 1,
   "id": "792d4c78",
   "metadata": {},
   "outputs": [],
   "source": [
    "import tensorflow as tf\n",
    "\n",
    "import keras\n",
    "\n",
    "import pandas\n",
    "\n",
    "import sklearn\n",
    "\n",
    "import matplotlib\n",
    "\n",
    "import matplotlib.pyplot as plt\n",
    "\n",
    "from PIL import Image\n",
    "\n",
    "import numpy as np"
   ]
  },
  {
   "cell_type": "markdown",
   "id": "ef1fa6c1",
   "metadata": {},
   "source": [
    "Now we will train a hybrid network which contains a SOM network and a CNN network. The SOM network replaced the manually clustered part of the previous network by letting the neural network do the clustering itself."
   ]
  },
  {
   "cell_type": "code",
   "execution_count": 2,
   "id": "26576872",
   "metadata": {},
   "outputs": [],
   "source": [
    "%run data_loader.ipynb \n",
    "from keras.applications.vgg16 import VGG16"
   ]
  },
  {
   "cell_type": "code",
   "execution_count": 3,
   "id": "65c6168d",
   "metadata": {},
   "outputs": [],
   "source": [
    "import tensorflow as tf\n",
    "from tensorflow.keras.layers import Layer, InputSpec\n",
    "\n",
    "\n",
    "class SOMLayer(Layer):\n",
    "    \"\"\"\n",
    "    Self-Organizing Map layer class with rectangular topology\n",
    "    # Example\n",
    "    ```\n",
    "        model.add(SOMLayer(map_size=(10,10)))\n",
    "    ```\n",
    "    # Arguments\n",
    "        map_size: Tuple representing the size of the rectangular map. Number of prototypes is map_size[0]*map_size[1].\n",
    "        prototypes: Numpy array with shape `(n_prototypes, latent_dim)` witch represents the initial cluster centers\n",
    "    # Input shape\n",
    "        2D tensor with shape: `(n_samples, latent_dim)`\n",
    "    # Output shape\n",
    "        2D tensor with shape: `(n_samples, n_prototypes)`\n",
    "    \"\"\"\n",
    "\n",
    "    def __init__(self, map_size, prototypes=None, **kwargs):\n",
    "        if 'input_shape' not in kwargs and 'latent_dim' in kwargs:\n",
    "            kwargs['input_shape'] = (kwargs.pop('latent_dim'),)\n",
    "        super(SOMLayer, self).__init__(**kwargs)\n",
    "        self.map_size = map_size\n",
    "        self.n_prototypes = map_size[0]*map_size[1]\n",
    "        self.initial_prototypes = prototypes\n",
    "        self.input_spec = InputSpec(ndim=2)\n",
    "        self.prototypes = None\n",
    "        self.built = False\n",
    "\n",
    "    def build(self, input_shape):\n",
    "        assert(len(input_shape) == 2)\n",
    "        input_dim = input_shape[1]\n",
    "        self.input_spec = InputSpec(dtype=tf.float32, shape=(None, input_dim))\n",
    "        self.prototypes = self.add_weight(shape=(self.n_prototypes, input_dim), initializer='glorot_uniform', name='prototypes')\n",
    "        if self.initial_prototypes is not None:\n",
    "            self.set_weights(self.initial_prototypes)\n",
    "            del self.initial_prototypes\n",
    "        self.built = True\n",
    "\n",
    "    def call(self, inputs, **kwargs):\n",
    "        \"\"\"\n",
    "        Calculate pairwise squared euclidean distances between inputs and prototype vectors\n",
    "        Arguments:\n",
    "            inputs: the variable containing data, Tensor with shape `(n_samples, latent_dim)`\n",
    "        Return:\n",
    "            d: distances between inputs and prototypes, Tensor with shape `(n_samples, n_prototypes)`\n",
    "        \"\"\"\n",
    "        # Note: (tf.expand_dims(inputs, axis=1) - self.prototypes) has shape (n_samples, n_prototypes, latent_dim)\n",
    "        d = tf.reduce_sum(tf.square(tf.expand_dims(inputs, axis=1) - self.prototypes), axis=2)\n",
    "        return d\n",
    "\n",
    "    def compute_output_shape(self, input_shape):\n",
    "        assert(input_shape and len(input_shape) == 2)\n",
    "        return input_shape[0], self.n_prototypes\n",
    "\n",
    "    def get_config(self):\n",
    "        config = {'map_size': self.map_size}\n",
    "        base_config = super(SOMLayer, self).get_config()\n",
    "        return dict(list(base_config.items()) + list(config.items()))\n",
    "\n",
    "def som_loss(weights, distances):\n",
    "    \"\"\"\n",
    "    SOM loss\n",
    "    # Arguments\n",
    "        weights: weights for the weighted sum, Tensor with shape `(n_samples, n_prototypes)`\n",
    "        distances: pairwise squared euclidean distances between inputs and prototype vectors, Tensor with shape `(n_samples, n_prototypes)`\n",
    "    # Return\n",
    "        SOM reconstruction loss\n",
    "    \"\"\"\n",
    "    return tf.reduce_mean(tf.reduce_sum(weights*distances, axis=1))"
   ]
  },
  {
   "cell_type": "markdown",
   "id": "2fe0fd94",
   "metadata": {},
   "source": [
    "First, we will create a SOM network and pretrain it on the data."
   ]
  },
  {
   "cell_type": "code",
   "execution_count": 4,
   "id": "cb4a31c0",
   "metadata": {},
   "outputs": [],
   "source": [
    "inputA = keras.layers.Input(shape=(1990))\n",
    "x = SOMLayer((1990,1))(inputA)\n",
    "x = keras.models.Model(inputs=inputA, outputs=x)\n",
    "\n",
    "x.compile(loss=som_loss, optimizer=\"adam\")"
   ]
  },
  {
   "cell_type": "code",
   "execution_count": 5,
   "id": "56c20196",
   "metadata": {},
   "outputs": [
    {
     "name": "stdout",
     "output_type": "stream",
     "text": [
      "Epoch 1/150\n",
      "17/17 [==============================] - 1s 14ms/step - loss: 480388.7500\n",
      "Epoch 2/150\n",
      "17/17 [==============================] - 0s 3ms/step - loss: 448012.7500\n",
      "Epoch 3/150\n",
      "17/17 [==============================] - 0s 3ms/step - loss: 417144.0938\n",
      "Epoch 4/150\n",
      "17/17 [==============================] - 0s 3ms/step - loss: 387858.0625\n",
      "Epoch 5/150\n",
      "17/17 [==============================] - 0s 3ms/step - loss: 360144.2188\n",
      "Epoch 6/150\n",
      "17/17 [==============================] - 0s 3ms/step - loss: 333960.6562\n",
      "Epoch 7/150\n",
      "17/17 [==============================] - 0s 3ms/step - loss: 309256.7188\n",
      "Epoch 8/150\n",
      "17/17 [==============================] - 0s 3ms/step - loss: 285979.8125\n",
      "Epoch 9/150\n",
      "17/17 [==============================] - 0s 3ms/step - loss: 264077.2500\n",
      "Epoch 10/150\n",
      "17/17 [==============================] - 0s 3ms/step - loss: 243496.4844\n",
      "Epoch 11/150\n",
      "17/17 [==============================] - 0s 3ms/step - loss: 224185.2812\n",
      "Epoch 12/150\n",
      "17/17 [==============================] - 0s 3ms/step - loss: 206091.9062\n",
      "Epoch 13/150\n",
      "17/17 [==============================] - 0s 3ms/step - loss: 189165.0781\n",
      "Epoch 14/150\n",
      "17/17 [==============================] - 0s 3ms/step - loss: 173353.8906\n",
      "Epoch 15/150\n",
      "17/17 [==============================] - 0s 3ms/step - loss: 158608.2812\n",
      "Epoch 16/150\n",
      "17/17 [==============================] - 0s 3ms/step - loss: 144878.6406\n",
      "Epoch 17/150\n",
      "17/17 [==============================] - 0s 3ms/step - loss: 132116.1875\n",
      "Epoch 18/150\n",
      "17/17 [==============================] - 0s 3ms/step - loss: 120272.9219\n",
      "Epoch 19/150\n",
      "17/17 [==============================] - 0s 3ms/step - loss: 109301.6953\n",
      "Epoch 20/150\n",
      "17/17 [==============================] - 0s 3ms/step - loss: 99156.3281\n",
      "Epoch 21/150\n",
      "17/17 [==============================] - 0s 3ms/step - loss: 89791.6562\n",
      "Epoch 22/150\n",
      "17/17 [==============================] - 0s 3ms/step - loss: 81163.5547\n",
      "Epoch 23/150\n",
      "17/17 [==============================] - 0s 3ms/step - loss: 73229.0781\n",
      "Epoch 24/150\n",
      "17/17 [==============================] - 0s 3ms/step - loss: 65946.5078\n",
      "Epoch 25/150\n",
      "17/17 [==============================] - 0s 3ms/step - loss: 59275.3398\n",
      "Epoch 26/150\n",
      "17/17 [==============================] - 0s 3ms/step - loss: 53176.3906\n",
      "Epoch 27/150\n",
      "17/17 [==============================] - 0s 3ms/step - loss: 47611.8711\n",
      "Epoch 28/150\n",
      "17/17 [==============================] - 0s 3ms/step - loss: 42545.4062\n",
      "Epoch 29/150\n",
      "17/17 [==============================] - 0s 3ms/step - loss: 37942.0312\n",
      "Epoch 30/150\n",
      "17/17 [==============================] - 0s 3ms/step - loss: 33768.2812\n",
      "Epoch 31/150\n",
      "17/17 [==============================] - 0s 3ms/step - loss: 29992.1914\n",
      "Epoch 32/150\n",
      "17/17 [==============================] - 0s 3ms/step - loss: 26583.2891\n",
      "Epoch 33/150\n",
      "17/17 [==============================] - 0s 3ms/step - loss: 23512.6504\n",
      "Epoch 34/150\n",
      "17/17 [==============================] - 0s 3ms/step - loss: 20752.8711\n",
      "Epoch 35/150\n",
      "17/17 [==============================] - 0s 3ms/step - loss: 18278.0645\n",
      "Epoch 36/150\n",
      "17/17 [==============================] - 0s 3ms/step - loss: 16063.8496\n",
      "Epoch 37/150\n",
      "17/17 [==============================] - 0s 3ms/step - loss: 14087.3359\n",
      "Epoch 38/150\n",
      "17/17 [==============================] - 0s 3ms/step - loss: 12327.0898\n",
      "Epoch 39/150\n",
      "17/17 [==============================] - 0s 3ms/step - loss: 10763.1133\n",
      "Epoch 40/150\n",
      "17/17 [==============================] - 0s 3ms/step - loss: 9376.7842\n",
      "Epoch 41/150\n",
      "17/17 [==============================] - 0s 3ms/step - loss: 8150.8408\n",
      "Epoch 42/150\n",
      "17/17 [==============================] - 0s 3ms/step - loss: 7069.3145\n",
      "Epoch 43/150\n",
      "17/17 [==============================] - 0s 3ms/step - loss: 6117.4814\n",
      "Epoch 44/150\n",
      "17/17 [==============================] - 0s 3ms/step - loss: 5281.8115\n",
      "Epoch 45/150\n",
      "17/17 [==============================] - 0s 3ms/step - loss: 4549.9092\n",
      "Epoch 46/150\n",
      "17/17 [==============================] - 0s 3ms/step - loss: 3910.4495\n",
      "Epoch 47/150\n",
      "17/17 [==============================] - 0s 3ms/step - loss: 3353.1279\n",
      "Epoch 48/150\n",
      "17/17 [==============================] - 0s 3ms/step - loss: 2868.5862\n",
      "Epoch 49/150\n",
      "17/17 [==============================] - 0s 3ms/step - loss: 2448.3616\n",
      "Epoch 50/150\n",
      "17/17 [==============================] - 0s 3ms/step - loss: 2084.8196\n",
      "Epoch 51/150\n",
      "17/17 [==============================] - 0s 3ms/step - loss: 1771.0961\n",
      "Epoch 52/150\n",
      "17/17 [==============================] - 0s 3ms/step - loss: 1501.0396\n",
      "Epoch 53/150\n",
      "17/17 [==============================] - 0s 3ms/step - loss: 1269.1538\n",
      "Epoch 54/150\n",
      "17/17 [==============================] - 0s 3ms/step - loss: 1070.5430\n",
      "Epoch 55/150\n",
      "17/17 [==============================] - 0s 3ms/step - loss: 900.8605\n",
      "Epoch 56/150\n",
      "17/17 [==============================] - 0s 3ms/step - loss: 756.2585\n",
      "Epoch 57/150\n",
      "17/17 [==============================] - 0s 3ms/step - loss: 633.3417\n",
      "Epoch 58/150\n",
      "17/17 [==============================] - 0s 3ms/step - loss: 529.1232\n",
      "Epoch 59/150\n",
      "17/17 [==============================] - 0s 3ms/step - loss: 440.9832\n",
      "Epoch 60/150\n",
      "17/17 [==============================] - 0s 3ms/step - loss: 366.6313\n",
      "Epoch 61/150\n",
      "17/17 [==============================] - 0s 3ms/step - loss: 304.0709\n",
      "Epoch 62/150\n",
      "17/17 [==============================] - 0s 3ms/step - loss: 251.5669\n",
      "Epoch 63/150\n",
      "17/17 [==============================] - 0s 3ms/step - loss: 207.6161\n",
      "Epoch 64/150\n",
      "17/17 [==============================] - 0s 3ms/step - loss: 170.9199\n",
      "Epoch 65/150\n",
      "17/17 [==============================] - 0s 3ms/step - loss: 140.3602\n",
      "Epoch 66/150\n",
      "17/17 [==============================] - 0s 3ms/step - loss: 114.9766\n",
      "Epoch 67/150\n",
      "17/17 [==============================] - 0s 3ms/step - loss: 93.9474\n",
      "Epoch 68/150\n",
      "17/17 [==============================] - 0s 3ms/step - loss: 76.5711\n",
      "Epoch 69/150\n",
      "17/17 [==============================] - 0s 3ms/step - loss: 62.2507\n",
      "Epoch 70/150\n",
      "17/17 [==============================] - 0s 3ms/step - loss: 50.4798\n",
      "Epoch 71/150\n",
      "17/17 [==============================] - 0s 3ms/step - loss: 40.8300\n",
      "Epoch 72/150\n",
      "17/17 [==============================] - 0s 3ms/step - loss: 32.9400\n",
      "Epoch 73/150\n",
      "17/17 [==============================] - 0s 3ms/step - loss: 26.5060\n",
      "Epoch 74/150\n",
      "17/17 [==============================] - 0s 3ms/step - loss: 21.2734\n",
      "Epoch 75/150\n",
      "17/17 [==============================] - 0s 3ms/step - loss: 17.0292\n",
      "Epoch 76/150\n",
      "17/17 [==============================] - 0s 3ms/step - loss: 13.5959\n",
      "Epoch 77/150\n",
      "17/17 [==============================] - 0s 3ms/step - loss: 10.8262\n",
      "Epoch 78/150\n",
      "17/17 [==============================] - 0s 3ms/step - loss: 8.5978\n",
      "Epoch 79/150\n",
      "17/17 [==============================] - 0s 3ms/step - loss: 6.8099\n",
      "Epoch 80/150\n",
      "17/17 [==============================] - 0s 3ms/step - loss: 5.3793\n",
      "Epoch 81/150\n",
      "17/17 [==============================] - 0s 3ms/step - loss: 4.2377\n",
      "Epoch 82/150\n",
      "17/17 [==============================] - 0s 3ms/step - loss: 3.3293\n",
      "Epoch 83/150\n",
      "17/17 [==============================] - 0s 3ms/step - loss: 2.6085\n",
      "Epoch 84/150\n",
      "17/17 [==============================] - 0s 3ms/step - loss: 2.0381\n",
      "Epoch 85/150\n",
      "17/17 [==============================] - 0s 3ms/step - loss: 1.5880\n",
      "Epoch 86/150\n",
      "17/17 [==============================] - 0s 3ms/step - loss: 1.2338\n",
      "Epoch 87/150\n",
      "17/17 [==============================] - 0s 3ms/step - loss: 0.9560\n",
      "Epoch 88/150\n",
      "17/17 [==============================] - 0s 3ms/step - loss: 0.7386\n",
      "Epoch 89/150\n",
      "17/17 [==============================] - 0s 3ms/step - loss: 0.5690\n",
      "Epoch 90/150\n",
      "17/17 [==============================] - 0s 3ms/step - loss: 0.4371\n",
      "Epoch 91/150\n",
      "17/17 [==============================] - 0s 3ms/step - loss: 0.3348\n",
      "Epoch 92/150\n",
      "17/17 [==============================] - 0s 3ms/step - loss: 0.2557\n",
      "Epoch 93/150\n",
      "17/17 [==============================] - 0s 3ms/step - loss: 0.1947\n",
      "Epoch 94/150\n",
      "17/17 [==============================] - 0s 3ms/step - loss: 0.1478\n",
      "Epoch 95/150\n",
      "17/17 [==============================] - 0s 3ms/step - loss: 0.1119\n",
      "Epoch 96/150\n",
      "17/17 [==============================] - 0s 3ms/step - loss: 0.0845\n",
      "Epoch 97/150\n",
      "17/17 [==============================] - 0s 3ms/step - loss: 0.0635\n",
      "Epoch 98/150\n",
      "17/17 [==============================] - 0s 3ms/step - loss: 0.0477\n",
      "Epoch 99/150\n"
     ]
    },
    {
     "name": "stdout",
     "output_type": "stream",
     "text": [
      "17/17 [==============================] - 0s 3ms/step - loss: 0.0356\n",
      "Epoch 100/150\n",
      "17/17 [==============================] - 0s 3ms/step - loss: 0.0266\n",
      "Epoch 101/150\n",
      "17/17 [==============================] - 0s 3ms/step - loss: 0.0197\n",
      "Epoch 102/150\n",
      "17/17 [==============================] - 0s 3ms/step - loss: 0.0146\n",
      "Epoch 103/150\n",
      "17/17 [==============================] - 0s 3ms/step - loss: 0.0108\n",
      "Epoch 104/150\n",
      "17/17 [==============================] - 0s 3ms/step - loss: 0.0079\n",
      "Epoch 105/150\n",
      "17/17 [==============================] - 0s 3ms/step - loss: 0.0058\n",
      "Epoch 106/150\n",
      "17/17 [==============================] - 0s 3ms/step - loss: 0.0043\n",
      "Epoch 107/150\n",
      "17/17 [==============================] - 0s 3ms/step - loss: 0.0031\n",
      "Epoch 108/150\n",
      "17/17 [==============================] - 0s 3ms/step - loss: 0.0023\n",
      "Epoch 109/150\n",
      "17/17 [==============================] - 0s 3ms/step - loss: 0.0016\n",
      "Epoch 110/150\n",
      "17/17 [==============================] - 0s 3ms/step - loss: 0.0012\n",
      "Epoch 111/150\n",
      "17/17 [==============================] - 0s 3ms/step - loss: 8.4826e-04\n",
      "Epoch 112/150\n",
      "17/17 [==============================] - 0s 3ms/step - loss: 6.0789e-04\n",
      "Epoch 113/150\n",
      "17/17 [==============================] - 0s 3ms/step - loss: 4.3416e-04\n",
      "Epoch 114/150\n",
      "17/17 [==============================] - 0s 3ms/step - loss: 3.0897e-04\n",
      "Epoch 115/150\n",
      "17/17 [==============================] - 0s 3ms/step - loss: 2.1909e-04\n",
      "Epoch 116/150\n",
      "17/17 [==============================] - 0s 3ms/step - loss: 1.5484e-04\n",
      "Epoch 117/150\n",
      "17/17 [==============================] - 0s 3ms/step - loss: 1.0911e-04\n",
      "Epoch 118/150\n",
      "17/17 [==============================] - 0s 3ms/step - loss: 7.6683e-05\n",
      "Epoch 119/150\n",
      "17/17 [==============================] - 0s 3ms/step - loss: 5.3785e-05\n",
      "Epoch 120/150\n",
      "17/17 [==============================] - 0s 3ms/step - loss: 3.7663e-05\n",
      "Epoch 121/150\n",
      "17/17 [==============================] - 0s 3ms/step - loss: 2.6415e-05\n",
      "Epoch 122/150\n",
      "17/17 [==============================] - 0s 3ms/step - loss: 1.8550e-05\n",
      "Epoch 123/150\n",
      "17/17 [==============================] - 0s 3ms/step - loss: 1.3162e-05\n",
      "Epoch 124/150\n",
      "17/17 [==============================] - 0s 3ms/step - loss: 9.3721e-06\n",
      "Epoch 125/150\n",
      "17/17 [==============================] - 0s 3ms/step - loss: 6.8656e-06\n",
      "Epoch 126/150\n",
      "17/17 [==============================] - 0s 3ms/step - loss: 5.2205e-06\n",
      "Epoch 127/150\n",
      "17/17 [==============================] - 0s 3ms/step - loss: 4.0348e-06\n",
      "Epoch 128/150\n",
      "17/17 [==============================] - 0s 3ms/step - loss: 3.2220e-06\n",
      "Epoch 129/150\n",
      "17/17 [==============================] - 0s 3ms/step - loss: 2.7279e-06\n",
      "Epoch 130/150\n",
      "17/17 [==============================] - 0s 3ms/step - loss: 2.4872e-06\n",
      "Epoch 131/150\n",
      "17/17 [==============================] - 0s 3ms/step - loss: 2.4297e-06\n",
      "Epoch 132/150\n",
      "17/17 [==============================] - 0s 3ms/step - loss: 2.4291e-06\n",
      "Epoch 133/150\n",
      "17/17 [==============================] - 0s 3ms/step - loss: 2.4291e-06\n",
      "Epoch 134/150\n",
      "17/17 [==============================] - 0s 3ms/step - loss: 2.4291e-06\n",
      "Epoch 135/150\n",
      "17/17 [==============================] - 0s 3ms/step - loss: 2.4291e-06\n",
      "Epoch 136/150\n",
      "17/17 [==============================] - 0s 3ms/step - loss: 2.4291e-06\n",
      "Epoch 137/150\n",
      "17/17 [==============================] - 0s 3ms/step - loss: 2.4291e-06\n",
      "Epoch 138/150\n",
      "17/17 [==============================] - 0s 3ms/step - loss: 2.4291e-06\n",
      "Epoch 139/150\n",
      "17/17 [==============================] - 0s 3ms/step - loss: 2.4285e-06\n",
      "Epoch 140/150\n",
      "17/17 [==============================] - 0s 3ms/step - loss: 2.4216e-06\n",
      "Epoch 141/150\n",
      "17/17 [==============================] - 0s 3ms/step - loss: 2.4129e-06\n",
      "Epoch 142/150\n",
      "17/17 [==============================] - 0s 3ms/step - loss: 2.4040e-06\n",
      "Epoch 143/150\n",
      "17/17 [==============================] - 0s 3ms/step - loss: 2.3907e-06\n",
      "Epoch 144/150\n",
      "17/17 [==============================] - 0s 3ms/step - loss: 2.3732e-06\n",
      "Epoch 145/150\n",
      "17/17 [==============================] - 0s 3ms/step - loss: 2.3555e-06\n",
      "Epoch 146/150\n",
      "17/17 [==============================] - 0s 3ms/step - loss: 2.3355e-06\n",
      "Epoch 147/150\n",
      "17/17 [==============================] - 0s 3ms/step - loss: 2.3105e-06\n",
      "Epoch 148/150\n",
      "17/17 [==============================] - 0s 3ms/step - loss: 2.2836e-06\n",
      "Epoch 149/150\n",
      "17/17 [==============================] - 0s 3ms/step - loss: 2.2556e-06\n",
      "Epoch 150/150\n",
      "17/17 [==============================] - 0s 3ms/step - loss: 2.2246e-06\n"
     ]
    },
    {
     "data": {
      "text/plain": [
       "<keras.callbacks.History at 0x22422bd4550>"
      ]
     },
     "execution_count": 5,
     "metadata": {},
     "output_type": "execute_result"
    }
   ],
   "source": [
    "cluster_array_train = get_data_SOM_pretrain()\n",
    "\n",
    "x.fit(x=cluster_array_train, y=cluster_array_train, epochs=150, batch_size=2)"
   ]
  },
  {
   "cell_type": "markdown",
   "id": "0671a173",
   "metadata": {},
   "source": [
    "Then we will create a network with the SOM network included: (In this network, the SOM layer will be frozen)"
   ]
  },
  {
   "cell_type": "code",
   "execution_count": 6,
   "id": "a980e371",
   "metadata": {},
   "outputs": [
    {
     "name": "stdout",
     "output_type": "stream",
     "text": [
      "Model: \"model_1\"\n",
      "__________________________________________________________________________________________________\n",
      "Layer (type)                    Output Shape         Param #     Connected to                     \n",
      "==================================================================================================\n",
      "input_1 (InputLayer)            [(None, 1990)]       0                                            \n",
      "__________________________________________________________________________________________________\n",
      "som_layer (SOMLayer)            (None, 1990)         3960100     input_1[0][0]                    \n",
      "__________________________________________________________________________________________________\n",
      "vgg16_input (InputLayer)        [(None, 112, 112, 3) 0                                            \n",
      "__________________________________________________________________________________________________\n",
      "dense (Dense)                   (None, 128)          254848      som_layer[0][0]                  \n",
      "__________________________________________________________________________________________________\n",
      "vgg16 (Functional)              (None, 512)          14714688    vgg16_input[0][0]                \n",
      "__________________________________________________________________________________________________\n",
      "dense_1 (Dense)                 (None, 19)           2451        dense[0][0]                      \n",
      "__________________________________________________________________________________________________\n",
      "flatten (Flatten)               (None, 512)          0           vgg16[0][0]                      \n",
      "__________________________________________________________________________________________________\n",
      "concatenate (Concatenate)       (None, 531)          0           dense_1[0][0]                    \n",
      "                                                                 flatten[0][0]                    \n",
      "__________________________________________________________________________________________________\n",
      "dense_2 (Dense)                 (None, 1)            532         concatenate[0][0]                \n",
      "==================================================================================================\n",
      "Total params: 18,932,619\n",
      "Trainable params: 14,972,519\n",
      "Non-trainable params: 3,960,100\n",
      "__________________________________________________________________________________________________\n"
     ]
    }
   ],
   "source": [
    "inputB = keras.layers.Input(shape=(112,112,3))\n",
    "\n",
    "x.trainable=False\n",
    "\n",
    "y = keras.models.Sequential()\n",
    "y.add(VGG16(weights = 'imagenet', include_top=False, input_shape=(112,112,3), pooling='avg'))\n",
    "y.add(keras.layers.Flatten())\n",
    "\n",
    "a = keras.layers.Dense(128, activation=\"relu\")(x.output)\n",
    "a = keras.layers.Dense(19, activation=\"relu\")(a)\n",
    "\n",
    "z = keras.layers.concatenate([a, y.output])\n",
    "\n",
    "z = keras.layers.Dense(1, activation=\"linear\")(z)\n",
    "\n",
    "model = keras.models.Model(inputs=[x.input, y.input], outputs=z)\n",
    "\n",
    "#model.compile(loss=\"mean_absolute_percentage_error\", optimizer=\"adam\")\n",
    "\n",
    "opt = tf.keras.optimizers.Adam(learning_rate=1e-6, clipvalue=1)\n",
    "\n",
    "#model.compile(loss=\"mean_absolute_percentage_error\", optimizer=\"rmsprop\")\n",
    "model.compile(loss='mean_squared_error', optimizer=opt)\n",
    "\n",
    "model.summary()"
   ]
  },
  {
   "cell_type": "code",
   "execution_count": 7,
   "id": "661fe088",
   "metadata": {},
   "outputs": [
    {
     "name": "stdout",
     "output_type": "stream",
     "text": [
      "WARNING:tensorflow:5 out of the last 5 calls to <function scale_resize_image at 0x000002240EA629D0> triggered tf.function retracing. Tracing is expensive and the excessive number of tracings could be due to (1) creating @tf.function repeatedly in a loop, (2) passing tensors with different shapes, (3) passing Python objects instead of tensors. For (1), please define your @tf.function outside of the loop. For (2), @tf.function has experimental_relax_shapes=True option that relaxes argument shapes that can avoid unnecessary retracing. For (3), please refer to https://www.tensorflow.org/guide/function#controlling_retracing and https://www.tensorflow.org/api_docs/python/tf/function for  more details.\n",
      "WARNING:tensorflow:6 out of the last 6 calls to <function scale_resize_image at 0x000002240EA629D0> triggered tf.function retracing. Tracing is expensive and the excessive number of tracings could be due to (1) creating @tf.function repeatedly in a loop, (2) passing tensors with different shapes, (3) passing Python objects instead of tensors. For (1), please define your @tf.function outside of the loop. For (2), @tf.function has experimental_relax_shapes=True option that relaxes argument shapes that can avoid unnecessary retracing. For (3), please refer to https://www.tensorflow.org/guide/function#controlling_retracing and https://www.tensorflow.org/api_docs/python/tf/function for  more details.\n",
      "Epoch 1/2\n",
      "7560/7560 [==============================] - 242s 32ms/step - loss: 111.7037 - val_loss: 0.1069\n",
      "Epoch 2/2\n",
      "7560/7560 [==============================] - 239s 32ms/step - loss: 0.1458 - val_loss: 0.0578\n"
     ]
    }
   ],
   "source": [
    "[cluster_array_train,image_array_train,rating_array_train], [cluster_array_val,image_array_val,rating_array_val], [cluster_array_test,image_array_test,rating_array_test] = get_data_SOM_network_final()\n",
    "    \n",
    "history = model.fit(x=[cluster_array_train, image_array_train], y=rating_array_train, validation_data=([cluster_array_val, image_array_val], rating_array_val), epochs=2, batch_size=2)\n",
    "\n",
    "loss_array = history.history['loss']\n",
    "val_loss_array = history.history['val_loss']"
   ]
  },
  {
   "cell_type": "code",
   "execution_count": 8,
   "id": "bf0eabcc",
   "metadata": {},
   "outputs": [
    {
     "data": {
      "image/png": "[encoded data removed]",
      "text/plain": [
       "<Figure size 432x288 with 1 Axes>"
      ]
     },
     "metadata": {
      "needs_background": "light"
     },
     "output_type": "display_data"
    }
   ],
   "source": [
    "# summarize history for loss\n",
    "plt.plot(loss_array)\n",
    "plt.plot(val_loss_array)\n",
    "plt.title('model loss')\n",
    "plt.ylabel('loss')\n",
    "plt.xlabel('epoch')\n",
    "plt.legend(['train', 'validation'], loc='upper left')\n",
    "plt.yscale(\"log\")\n",
    "plt.show()"
   ]
  },
  {
   "cell_type": "code",
   "execution_count": 9,
   "id": "efe55a48",
   "metadata": {},
   "outputs": [
    {
     "name": "stdout",
     "output_type": "stream",
     "text": [
      "8/8 [==============================] - 2s 136ms/step - loss: 0.0365\n"
     ]
    },
    {
     "data": {
      "text/plain": [
       "0.03645927086472511"
      ]
     },
     "execution_count": 9,
     "metadata": {},
     "output_type": "execute_result"
    }
   ],
   "source": [
    "## CREATE TEST SET\n",
    "model.evaluate(x=[cluster_array_test, image_array_test], y=rating_array_test)"
   ]
  },
  {
   "cell_type": "markdown",
   "id": "962e4fa3",
   "metadata": {},
   "source": [
    "# HYBRID NEURAL NETWORK WITH SOM UNFROZEN"
   ]
  },
  {
   "cell_type": "code",
   "execution_count": 1,
   "id": "d9326bbf",
   "metadata": {},
   "outputs": [],
   "source": [
    "import tensorflow as tf\n",
    "\n",
    "import keras\n",
    "\n",
    "import pandas\n",
    "\n",
    "import sklearn\n",
    "\n",
    "import matplotlib\n",
    "\n",
    "import matplotlib.pyplot as plt\n",
    "\n",
    "from PIL import Image\n",
    "\n",
    "import numpy as np"
   ]
  },
  {
   "cell_type": "markdown",
   "id": "6907efe6",
   "metadata": {},
   "source": [
    "Now we will train a hybrid network which contains a SOM network and a CNN network. The SOM network replaced the manually clustered part of the previous network by letting the neural network do the clustering itself. The difference between the previous SOM network is that now the SOM network will be retrained with the rest of the network."
   ]
  },
  {
   "cell_type": "code",
   "execution_count": 2,
   "id": "c74aa573",
   "metadata": {},
   "outputs": [],
   "source": [
    "%run data_loader.ipynb \n",
    "from keras.applications.vgg16 import VGG16"
   ]
  },
  {
   "cell_type": "code",
   "execution_count": 3,
   "id": "ea4ee1f4",
   "metadata": {},
   "outputs": [],
   "source": [
    "import tensorflow as tf\n",
    "from tensorflow.keras.layers import Layer, InputSpec\n",
    "\n",
    "\n",
    "class SOMLayer(Layer):\n",
    "    \"\"\"\n",
    "    Self-Organizing Map layer class with rectangular topology\n",
    "    # Example\n",
    "    ```\n",
    "        model.add(SOMLayer(map_size=(10,10)))\n",
    "    ```\n",
    "    # Arguments\n",
    "        map_size: Tuple representing the size of the rectangular map. Number of prototypes is map_size[0]*map_size[1].\n",
    "        prototypes: Numpy array with shape `(n_prototypes, latent_dim)` witch represents the initial cluster centers\n",
    "    # Input shape\n",
    "        2D tensor with shape: `(n_samples, latent_dim)`\n",
    "    # Output shape\n",
    "        2D tensor with shape: `(n_samples, n_prototypes)`\n",
    "    \"\"\"\n",
    "\n",
    "    def __init__(self, map_size, prototypes=None, **kwargs):\n",
    "        if 'input_shape' not in kwargs and 'latent_dim' in kwargs:\n",
    "            kwargs['input_shape'] = (kwargs.pop('latent_dim'),)\n",
    "        super(SOMLayer, self).__init__(**kwargs)\n",
    "        self.map_size = map_size\n",
    "        self.n_prototypes = map_size[0]*map_size[1]\n",
    "        self.initial_prototypes = prototypes\n",
    "        self.input_spec = InputSpec(ndim=2)\n",
    "        self.prototypes = None\n",
    "        self.built = False\n",
    "\n",
    "    def build(self, input_shape):\n",
    "        assert(len(input_shape) == 2)\n",
    "        input_dim = input_shape[1]\n",
    "        self.input_spec = InputSpec(dtype=tf.float32, shape=(None, input_dim))\n",
    "        self.prototypes = self.add_weight(shape=(self.n_prototypes, input_dim), initializer='glorot_uniform', name='prototypes')\n",
    "        if self.initial_prototypes is not None:\n",
    "            self.set_weights(self.initial_prototypes)\n",
    "            del self.initial_prototypes\n",
    "        self.built = True\n",
    "\n",
    "    def call(self, inputs, **kwargs):\n",
    "        \"\"\"\n",
    "        Calculate pairwise squared euclidean distances between inputs and prototype vectors\n",
    "        Arguments:\n",
    "            inputs: the variable containing data, Tensor with shape `(n_samples, latent_dim)`\n",
    "        Return:\n",
    "            d: distances between inputs and prototypes, Tensor with shape `(n_samples, n_prototypes)`\n",
    "        \"\"\"\n",
    "        # Note: (tf.expand_dims(inputs, axis=1) - self.prototypes) has shape (n_samples, n_prototypes, latent_dim)\n",
    "        d = tf.reduce_sum(tf.square(tf.expand_dims(inputs, axis=1) - self.prototypes), axis=2)\n",
    "        return d\n",
    "\n",
    "    def compute_output_shape(self, input_shape):\n",
    "        assert(input_shape and len(input_shape) == 2)\n",
    "        return input_shape[0], self.n_prototypes\n",
    "\n",
    "    def get_config(self):\n",
    "        config = {'map_size': self.map_size}\n",
    "        base_config = super(SOMLayer, self).get_config()\n",
    "        return dict(list(base_config.items()) + list(config.items()))\n",
    "\n",
    "def som_loss(weights, distances):\n",
    "    \"\"\"\n",
    "    SOM loss\n",
    "    # Arguments\n",
    "        weights: weights for the weighted sum, Tensor with shape `(n_samples, n_prototypes)`\n",
    "        distances: pairwise squared euclidean distances between inputs and prototype vectors, Tensor with shape `(n_samples, n_prototypes)`\n",
    "    # Return\n",
    "        SOM reconstruction loss\n",
    "    \"\"\"\n",
    "    return tf.reduce_mean(tf.reduce_sum(weights*distances, axis=1))"
   ]
  },
  {
   "cell_type": "markdown",
   "id": "99fe4bb4",
   "metadata": {},
   "source": [
    "First, we will create a SOM network and pretrain it on the data."
   ]
  },
  {
   "cell_type": "code",
   "execution_count": 4,
   "id": "11c9fdf7",
   "metadata": {},
   "outputs": [],
   "source": [
    "inputA = keras.layers.Input(shape=(1990))\n",
    "x = SOMLayer((1990,1))(inputA)\n",
    "x = keras.models.Model(inputs=inputA, outputs=x)\n",
    "\n",
    "x.compile(loss=som_loss, optimizer=\"adam\")"
   ]
  },
  {
   "cell_type": "code",
   "execution_count": 5,
   "id": "867db218",
   "metadata": {},
   "outputs": [
    {
     "name": "stdout",
     "output_type": "stream",
     "text": [
      "Epoch 1/150\n",
      "17/17 [==============================] - 1s 13ms/step - loss: 480357.9062\n",
      "Epoch 2/150\n",
      "17/17 [==============================] - 0s 3ms/step - loss: 447982.8750\n",
      "Epoch 3/150\n",
      "17/17 [==============================] - 0s 3ms/step - loss: 417115.4688\n",
      "Epoch 4/150\n",
      "17/17 [==============================] - 0s 3ms/step - loss: 387830.4688\n",
      "Epoch 5/150\n",
      "17/17 [==============================] - 0s 3ms/step - loss: 360117.7812\n",
      "Epoch 6/150\n",
      "17/17 [==============================] - 0s 3ms/step - loss: 333935.2812\n",
      "Epoch 7/150\n",
      "17/17 [==============================] - 0s 3ms/step - loss: 309232.4375\n",
      "Epoch 8/150\n",
      "17/17 [==============================] - 0s 3ms/step - loss: 285956.5938\n",
      "Epoch 9/150\n",
      "17/17 [==============================] - 0s 3ms/step - loss: 264055.0938\n",
      "Epoch 10/150\n",
      "17/17 [==============================] - 0s 3ms/step - loss: 243475.3750\n",
      "Epoch 11/150\n",
      "17/17 [==============================] - 0s 3ms/step - loss: 224165.2500\n",
      "Epoch 12/150\n",
      "17/17 [==============================] - 0s 3ms/step - loss: 206072.8906\n",
      "Epoch 13/150\n",
      "17/17 [==============================] - 0s 3ms/step - loss: 189147.0625\n",
      "Epoch 14/150\n",
      "17/17 [==============================] - 0s 3ms/step - loss: 173336.8750\n",
      "Epoch 15/150\n",
      "17/17 [==============================] - ETA: 0s - loss: 165358.18 - 0s 3ms/step - loss: 158592.2344\n",
      "Epoch 16/150\n",
      "17/17 [==============================] - 0s 3ms/step - loss: 144863.5156\n",
      "Epoch 17/150\n",
      "17/17 [==============================] - 0s 3ms/step - loss: 132101.9688\n",
      "Epoch 18/150\n",
      "17/17 [==============================] - 0s 3ms/step - loss: 120259.5703\n",
      "Epoch 19/150\n",
      "17/17 [==============================] - 0s 3ms/step - loss: 109289.1875\n",
      "Epoch 20/150\n",
      "17/17 [==============================] - 0s 3ms/step - loss: 99144.6406\n",
      "Epoch 21/150\n",
      "17/17 [==============================] - 0s 3ms/step - loss: 89780.7500\n",
      "Epoch 22/150\n",
      "17/17 [==============================] - 0s 3ms/step - loss: 81153.4141\n",
      "Epoch 23/150\n",
      "17/17 [==============================] - 0s 3ms/step - loss: 73219.6797\n",
      "Epoch 24/150\n",
      "17/17 [==============================] - 0s 3ms/step - loss: 65937.7969\n",
      "Epoch 25/150\n",
      "17/17 [==============================] - 0s 3ms/step - loss: 59267.2773\n",
      "Epoch 26/150\n",
      "17/17 [==============================] - 0s 3ms/step - loss: 53168.9688\n",
      "Epoch 27/150\n",
      "17/17 [==============================] - 0s 3ms/step - loss: 47605.0547\n",
      "Epoch 28/150\n",
      "17/17 [==============================] - 0s 3ms/step - loss: 42539.1562\n",
      "Epoch 29/150\n",
      "17/17 [==============================] - 0s 3ms/step - loss: 37936.3125\n",
      "Epoch 30/150\n",
      "17/17 [==============================] - 0s 3ms/step - loss: 33763.0625\n",
      "Epoch 31/150\n",
      "17/17 [==============================] - 0s 3ms/step - loss: 29987.4375\n",
      "Epoch 32/150\n",
      "17/17 [==============================] - 0s 3ms/step - loss: 26578.9727\n",
      "Epoch 33/150\n",
      "17/17 [==============================] - 0s 3ms/step - loss: 23508.7422\n",
      "Epoch 34/150\n",
      "17/17 [==============================] - 0s 3ms/step - loss: 20749.3457\n",
      "Epoch 35/150\n",
      "17/17 [==============================] - 0s 3ms/step - loss: 18274.8887\n",
      "Epoch 36/150\n",
      "17/17 [==============================] - 0s 3ms/step - loss: 16060.9980\n",
      "Epoch 37/150\n",
      "17/17 [==============================] - 0s 3ms/step - loss: 14084.7812\n",
      "Epoch 38/150\n",
      "17/17 [==============================] - 0s 3ms/step - loss: 12324.8076\n",
      "Epoch 39/150\n",
      "17/17 [==============================] - 0s 3ms/step - loss: 10761.0791\n",
      "Epoch 40/150\n",
      "17/17 [==============================] - 0s 3ms/step - loss: 9374.9775\n",
      "Epoch 41/150\n",
      "17/17 [==============================] - 0s 3ms/step - loss: 8149.2427\n",
      "Epoch 42/150\n",
      "17/17 [==============================] - 0s 3ms/step - loss: 7067.9023\n",
      "Epoch 43/150\n",
      "17/17 [==============================] - 0s 3ms/step - loss: 6116.2383\n",
      "Epoch 44/150\n",
      "17/17 [==============================] - 0s 3ms/step - loss: 5280.7207\n",
      "Epoch 45/150\n",
      "17/17 [==============================] - 0s 3ms/step - loss: 4548.9536\n",
      "Epoch 46/150\n",
      "17/17 [==============================] - 0s 3ms/step - loss: 3909.6157\n",
      "Epoch 47/150\n",
      "17/17 [==============================] - 0s 3ms/step - loss: 3352.4021\n",
      "Epoch 48/150\n",
      "17/17 [==============================] - 0s 3ms/step - loss: 2867.9570\n",
      "Epoch 49/150\n",
      "17/17 [==============================] - 0s 3ms/step - loss: 2447.8174\n",
      "Epoch 50/150\n",
      "17/17 [==============================] - 0s 3ms/step - loss: 2084.3499\n",
      "Epoch 51/150\n",
      "17/17 [==============================] - 0s 3ms/step - loss: 1770.6924\n",
      "Epoch 52/150\n",
      "17/17 [==============================] - 0s 3ms/step - loss: 1500.6935\n",
      "Epoch 53/150\n",
      "17/17 [==============================] - 0s 3ms/step - loss: 1268.8578\n",
      "Epoch 54/150\n",
      "17/17 [==============================] - 0s 3ms/step - loss: 1070.2909\n",
      "Epoch 55/150\n",
      "17/17 [==============================] - 0s 3ms/step - loss: 900.6464\n",
      "Epoch 56/150\n",
      "17/17 [==============================] - 0s 3ms/step - loss: 756.0771\n",
      "Epoch 57/150\n",
      "17/17 [==============================] - 0s 3ms/step - loss: 633.1887\n",
      "Epoch 58/150\n",
      "17/17 [==============================] - 0s 3ms/step - loss: 528.9943\n",
      "Epoch 59/150\n",
      "17/17 [==============================] - 0s 3ms/step - loss: 440.8751\n",
      "Epoch 60/150\n",
      "17/17 [==============================] - 0s 3ms/step - loss: 366.5408\n",
      "Epoch 61/150\n",
      "17/17 [==============================] - 0s 3ms/step - loss: 303.9954\n",
      "Epoch 62/150\n",
      "17/17 [==============================] - 0s 3ms/step - loss: 251.5042\n",
      "Epoch 63/150\n",
      "17/17 [==============================] - 0s 3ms/step - loss: 207.5641\n",
      "Epoch 64/150\n",
      "17/17 [==============================] - 0s 3ms/step - loss: 170.8770\n",
      "Epoch 65/150\n",
      "17/17 [==============================] - 0s 3ms/step - loss: 140.3248\n",
      "Epoch 66/150\n",
      "17/17 [==============================] - 0s 3ms/step - loss: 114.9476\n",
      "Epoch 67/150\n",
      "17/17 [==============================] - 0s 3ms/step - loss: 93.9237\n",
      "Epoch 68/150\n",
      "17/17 [==============================] - 0s 3ms/step - loss: 76.5517\n",
      "Epoch 69/150\n",
      "17/17 [==============================] - 0s 3ms/step - loss: 62.2349\n",
      "Epoch 70/150\n",
      "17/17 [==============================] - 0s 3ms/step - loss: 50.4670\n",
      "Epoch 71/150\n",
      "17/17 [==============================] - 0s 3ms/step - loss: 40.8196\n",
      "Epoch 72/150\n",
      "17/17 [==============================] - 0s 3ms/step - loss: 32.9317\n",
      "Epoch 73/150\n",
      "17/17 [==============================] - 0s 3ms/step - loss: 26.4993\n",
      "Epoch 74/150\n",
      "17/17 [==============================] - 0s 3ms/step - loss: 21.2681\n",
      "Epoch 75/150\n",
      "17/17 [==============================] - 0s 3ms/step - loss: 17.0249\n",
      "Epoch 76/150\n",
      "17/17 [==============================] - 0s 3ms/step - loss: 13.5926\n",
      "Epoch 77/150\n",
      "17/17 [==============================] - 0s 3ms/step - loss: 10.8235\n",
      "Epoch 78/150\n",
      "17/17 [==============================] - 0s 3ms/step - loss: 8.5957\n",
      "Epoch 79/150\n",
      "17/17 [==============================] - 0s 3ms/step - loss: 6.8082\n",
      "Epoch 80/150\n",
      "17/17 [==============================] - 0s 3ms/step - loss: 5.3780\n",
      "Epoch 81/150\n",
      "17/17 [==============================] - 0s 3ms/step - loss: 4.2367\n",
      "Epoch 82/150\n",
      "17/17 [==============================] - 0s 3ms/step - loss: 3.3285\n",
      "Epoch 83/150\n",
      "17/17 [==============================] - 0s 3ms/step - loss: 2.6078\n",
      "Epoch 84/150\n",
      "17/17 [==============================] - 0s 3ms/step - loss: 2.0376\n",
      "Epoch 85/150\n",
      "17/17 [==============================] - 0s 3ms/step - loss: 1.5876\n",
      "Epoch 86/150\n",
      "17/17 [==============================] - 0s 3ms/step - loss: 1.2336\n",
      "Epoch 87/150\n",
      "17/17 [==============================] - 0s 3ms/step - loss: 0.9558\n",
      "Epoch 88/150\n",
      "17/17 [==============================] - 0s 3ms/step - loss: 0.7384\n",
      "Epoch 89/150\n",
      "17/17 [==============================] - 0s 3ms/step - loss: 0.5689\n",
      "Epoch 90/150\n",
      "17/17 [==============================] - 0s 3ms/step - loss: 0.4370\n",
      "Epoch 91/150\n",
      "17/17 [==============================] - 0s 3ms/step - loss: 0.3347\n",
      "Epoch 92/150\n",
      "17/17 [==============================] - 0s 3ms/step - loss: 0.2556\n",
      "Epoch 93/150\n",
      "17/17 [==============================] - 0s 3ms/step - loss: 0.1947\n",
      "Epoch 94/150\n",
      "17/17 [==============================] - 0s 3ms/step - loss: 0.1478\n",
      "Epoch 95/150\n",
      "17/17 [==============================] - 0s 3ms/step - loss: 0.1119\n",
      "Epoch 96/150\n",
      "17/17 [==============================] - 0s 3ms/step - loss: 0.0844\n",
      "Epoch 97/150\n",
      "17/17 [==============================] - 0s 3ms/step - loss: 0.0635\n",
      "Epoch 98/150\n"
     ]
    },
    {
     "name": "stdout",
     "output_type": "stream",
     "text": [
      "17/17 [==============================] - 0s 3ms/step - loss: 0.0477\n",
      "Epoch 99/150\n",
      "17/17 [==============================] - 0s 3ms/step - loss: 0.0356\n",
      "Epoch 100/150\n",
      "17/17 [==============================] - 0s 3ms/step - loss: 0.0266\n",
      "Epoch 101/150\n",
      "17/17 [==============================] - 0s 3ms/step - loss: 0.0197\n",
      "Epoch 102/150\n",
      "17/17 [==============================] - 0s 3ms/step - loss: 0.0146\n",
      "Epoch 103/150\n",
      "17/17 [==============================] - 0s 3ms/step - loss: 0.0108\n",
      "Epoch 104/150\n",
      "17/17 [==============================] - 0s 3ms/step - loss: 0.0079\n",
      "Epoch 105/150\n",
      "17/17 [==============================] - 0s 3ms/step - loss: 0.0058\n",
      "Epoch 106/150\n",
      "17/17 [==============================] - 0s 3ms/step - loss: 0.0043\n",
      "Epoch 107/150\n",
      "17/17 [==============================] - 0s 3ms/step - loss: 0.0031\n",
      "Epoch 108/150\n",
      "17/17 [==============================] - 0s 3ms/step - loss: 0.0023\n",
      "Epoch 109/150\n",
      "17/17 [==============================] - 0s 3ms/step - loss: 0.0016\n",
      "Epoch 110/150\n",
      "17/17 [==============================] - 0s 3ms/step - loss: 0.0012\n",
      "Epoch 111/150\n",
      "17/17 [==============================] - 0s 3ms/step - loss: 8.4813e-04\n",
      "Epoch 112/150\n",
      "17/17 [==============================] - 0s 3ms/step - loss: 6.0780e-04\n",
      "Epoch 113/150\n",
      "17/17 [==============================] - 0s 3ms/step - loss: 4.3410e-04\n",
      "Epoch 114/150\n",
      "17/17 [==============================] - 0s 3ms/step - loss: 3.0892e-04\n",
      "Epoch 115/150\n",
      "17/17 [==============================] - 0s 3ms/step - loss: 2.1906e-04\n",
      "Epoch 116/150\n",
      "17/17 [==============================] - 0s 3ms/step - loss: 1.5482e-04\n",
      "Epoch 117/150\n",
      "17/17 [==============================] - 0s 3ms/step - loss: 1.0909e-04\n",
      "Epoch 118/150\n",
      "17/17 [==============================] - 0s 3ms/step - loss: 7.6673e-05\n",
      "Epoch 119/150\n",
      "17/17 [==============================] - 0s 3ms/step - loss: 5.3779e-05\n",
      "Epoch 120/150\n",
      "17/17 [==============================] - 0s 3ms/step - loss: 3.7659e-05\n",
      "Epoch 121/150\n",
      "17/17 [==============================] - 0s 3ms/step - loss: 2.6412e-05\n",
      "Epoch 122/150\n",
      "17/17 [==============================] - 0s 3ms/step - loss: 1.8550e-05\n",
      "Epoch 123/150\n",
      "17/17 [==============================] - 0s 3ms/step - loss: 1.3162e-05\n",
      "Epoch 124/150\n",
      "17/17 [==============================] - 0s 3ms/step - loss: 9.3722e-06\n",
      "Epoch 125/150\n",
      "17/17 [==============================] - 0s 3ms/step - loss: 6.8653e-06\n",
      "Epoch 126/150\n",
      "17/17 [==============================] - 0s 3ms/step - loss: 5.2198e-06\n",
      "Epoch 127/150\n",
      "17/17 [==============================] - 0s 3ms/step - loss: 4.0341e-06\n",
      "Epoch 128/150\n",
      "17/17 [==============================] - 0s 3ms/step - loss: 3.2217e-06\n",
      "Epoch 129/150\n",
      "17/17 [==============================] - 0s 3ms/step - loss: 2.7276e-06\n",
      "Epoch 130/150\n",
      "17/17 [==============================] - 0s 3ms/step - loss: 2.4870e-06\n",
      "Epoch 131/150\n",
      "17/17 [==============================] - 0s 3ms/step - loss: 2.4295e-06\n",
      "Epoch 132/150\n",
      "17/17 [==============================] - 0s 3ms/step - loss: 2.4290e-06\n",
      "Epoch 133/150\n",
      "17/17 [==============================] - 0s 3ms/step - loss: 2.4290e-06\n",
      "Epoch 134/150\n",
      "17/17 [==============================] - 0s 3ms/step - loss: 2.4290e-06\n",
      "Epoch 135/150\n",
      "17/17 [==============================] - 0s 3ms/step - loss: 2.4290e-06\n",
      "Epoch 136/150\n",
      "17/17 [==============================] - 0s 3ms/step - loss: 2.4290e-06\n",
      "Epoch 137/150\n",
      "17/17 [==============================] - 0s 3ms/step - loss: 2.4290e-06\n",
      "Epoch 138/150\n",
      "17/17 [==============================] - 0s 3ms/step - loss: 2.4290e-06\n",
      "Epoch 139/150\n",
      "17/17 [==============================] - 0s 3ms/step - loss: 2.4284e-06\n",
      "Epoch 140/150\n",
      "17/17 [==============================] - 0s 3ms/step - loss: 2.4215e-06\n",
      "Epoch 141/150\n",
      "17/17 [==============================] - 0s 3ms/step - loss: 2.4127e-06\n",
      "Epoch 142/150\n",
      "17/17 [==============================] - 0s 3ms/step - loss: 2.4038e-06\n",
      "Epoch 143/150\n",
      "17/17 [==============================] - 0s 3ms/step - loss: 2.3905e-06\n",
      "Epoch 144/150\n",
      "17/17 [==============================] - 0s 3ms/step - loss: 2.3729e-06\n",
      "Epoch 145/150\n",
      "17/17 [==============================] - 0s 3ms/step - loss: 2.3552e-06\n",
      "Epoch 146/150\n",
      "17/17 [==============================] - 0s 3ms/step - loss: 2.3352e-06\n",
      "Epoch 147/150\n",
      "17/17 [==============================] - 0s 3ms/step - loss: 2.3102e-06\n",
      "Epoch 148/150\n",
      "17/17 [==============================] - 0s 3ms/step - loss: 2.2833e-06\n",
      "Epoch 149/150\n",
      "17/17 [==============================] - 0s 3ms/step - loss: 2.2554e-06\n",
      "Epoch 150/150\n",
      "17/17 [==============================] - 0s 3ms/step - loss: 2.2244e-06\n"
     ]
    },
    {
     "data": {
      "text/plain": [
       "<keras.callbacks.History at 0x1e0b0a54160>"
      ]
     },
     "execution_count": 5,
     "metadata": {},
     "output_type": "execute_result"
    }
   ],
   "source": [
    "cluster_array_train = get_data_SOM_pretrain()\n",
    "\n",
    "x.fit(x=cluster_array_train, y=cluster_array_train, epochs=150, batch_size=2)"
   ]
  },
  {
   "cell_type": "markdown",
   "id": "67b6ea46",
   "metadata": {},
   "source": [
    "Then we will create a network with the SOM network included: (In this network, the SOM layer will NOT be frozen)"
   ]
  },
  {
   "cell_type": "code",
   "execution_count": 6,
   "id": "dde06a11",
   "metadata": {},
   "outputs": [
    {
     "name": "stdout",
     "output_type": "stream",
     "text": [
      "Model: \"model_1\"\n",
      "__________________________________________________________________________________________________\n",
      "Layer (type)                    Output Shape         Param #     Connected to                     \n",
      "==================================================================================================\n",
      "input_1 (InputLayer)            [(None, 1990)]       0                                            \n",
      "__________________________________________________________________________________________________\n",
      "vgg16_input (InputLayer)        [(None, 112, 112, 3) 0                                            \n",
      "__________________________________________________________________________________________________\n",
      "som_layer (SOMLayer)            (None, 1990)         3960100     input_1[0][0]                    \n",
      "__________________________________________________________________________________________________\n",
      "vgg16 (Functional)              (None, 512)          14714688    vgg16_input[0][0]                \n",
      "__________________________________________________________________________________________________\n",
      "dense (Dense)                   (None, 19)           37829       som_layer[0][0]                  \n",
      "__________________________________________________________________________________________________\n",
      "flatten (Flatten)               (None, 512)          0           vgg16[0][0]                      \n",
      "__________________________________________________________________________________________________\n",
      "concatenate (Concatenate)       (None, 531)          0           dense[0][0]                      \n",
      "                                                                 flatten[0][0]                    \n",
      "__________________________________________________________________________________________________\n",
      "dense_1 (Dense)                 (None, 1)            532         concatenate[0][0]                \n",
      "==================================================================================================\n",
      "Total params: 18,713,149\n",
      "Trainable params: 18,713,149\n",
      "Non-trainable params: 0\n",
      "__________________________________________________________________________________________________\n"
     ]
    }
   ],
   "source": [
    "inputB = keras.layers.Input(shape=(112,112,3))\n",
    "\n",
    "y = keras.models.Sequential()\n",
    "y.add(VGG16(weights = 'imagenet', include_top=False, input_shape=(112,112,3), pooling='avg'))\n",
    "y.add(keras.layers.Flatten())\n",
    "\n",
    "a = keras.layers.Dense(19, activation=\"relu\")(x.output)\n",
    "\n",
    "z = keras.layers.concatenate([a, y.output])\n",
    "\n",
    "z = keras.layers.Dense(1, activation=\"linear\")(z)\n",
    "\n",
    "model = keras.models.Model(inputs=[x.input, y.input], outputs=z)\n",
    "\n",
    "#model.compile(loss=\"mean_absolute_percentage_error\", optimizer=\"adam\")\n",
    "\n",
    "opt = tf.keras.optimizers.Adam(learning_rate=1e-6, clipvalue=1)\n",
    "\n",
    "#model.compile(loss=\"mean_absolute_percentage_error\", optimizer=\"rmsprop\")\n",
    "model.compile(loss='mean_squared_error', optimizer=opt)\n",
    "\n",
    "model.summary()"
   ]
  },
  {
   "cell_type": "code",
   "execution_count": 7,
   "id": "687a96d1",
   "metadata": {},
   "outputs": [
    {
     "name": "stdout",
     "output_type": "stream",
     "text": [
      "WARNING:tensorflow:5 out of the last 5 calls to <function scale_resize_image at 0x000001E095EB3790> triggered tf.function retracing. Tracing is expensive and the excessive number of tracings could be due to (1) creating @tf.function repeatedly in a loop, (2) passing tensors with different shapes, (3) passing Python objects instead of tensors. For (1), please define your @tf.function outside of the loop. For (2), @tf.function has experimental_relax_shapes=True option that relaxes argument shapes that can avoid unnecessary retracing. For (3), please refer to https://www.tensorflow.org/guide/function#controlling_retracing and https://www.tensorflow.org/api_docs/python/tf/function for  more details.\n",
      "WARNING:tensorflow:6 out of the last 6 calls to <function scale_resize_image at 0x000001E095EB3790> triggered tf.function retracing. Tracing is expensive and the excessive number of tracings could be due to (1) creating @tf.function repeatedly in a loop, (2) passing tensors with different shapes, (3) passing Python objects instead of tensors. For (1), please define your @tf.function outside of the loop. For (2), @tf.function has experimental_relax_shapes=True option that relaxes argument shapes that can avoid unnecessary retracing. For (3), please refer to https://www.tensorflow.org/guide/function#controlling_retracing and https://www.tensorflow.org/api_docs/python/tf/function for  more details.\n",
      "Epoch 1/5\n",
      "7560/7560 [==============================] - 258s 33ms/step - loss: 912.2121 - val_loss: 2.3116A: 1:19 - - ETA: 1:19 - loss: 137 - ETA: 1:19 - loss: 1375. - ETA: 1:19 - loss: 1 - ETA: 1:18 - los - ETA: 1:01 - loss: 1236.30 - ETA: 1:01 - loss: 1235.86 - ETA - ETA - ETA - ETA: 53s - loss: 1 - ETA: 52s - lo - ETA: 51s - loss: 1170.55 - ETA: 51s - loss: 1169.7 - ETA: 51s - loss - E - ETA: 49s - loss: 1154.52 - ETA: 49 - ETA: 48s - loss: 11 - ETA: 47s - loss: 1143 - ETA: 47s - loss: 1141.934 - ETA: 47s -  - ETA: 46s - l - ETA: 45s - loss: 1130.7 - ETA: 45s - loss:  - ETA: 44s - - ETA: 43s - lo  - ETA: 39s - loss - ETA: 38s - loss:  - ETA: 38s - loss: 1088.720  - ETA: 34s - loss - ETA: 33s - loss: 1065.56 -  - ETA: 24s - l - E - E - ETA: 0s - loss: \n",
      "Epoch 2/5\n",
      "7560/7560 [==============================] - 251s 33ms/step - loss: 1.2911 - val_loss: 0.6704\n",
      "Epoch 3/5\n",
      "7560/7560 [==============================] - 251s 33ms/step - loss: 0.4792 - val_loss: 0.1785 1:35 - loss: 0.56 - ETA: 1:35 - loss: 0.56 - ETA: - ETA - ETA: 1:32 - loss: 0.561 - ETA: 1:32 - - ETA: 1:31 - loss: 0. - ETA: 1:31 - l - ETA: 1:30 - loss: - ETA: 1:3 - ETA: 1:29 - - ETA: 1:28 - loss - ETA: 1:27 - loss: - ETA: 1:27 - loss: - ETA: 1:27 - ETA: 1:24 - lo - ETA: 1:23 - lo - ETA: 1:23 - loss: 0.  - ETA: 1:21 -  - ETA: 1:15 - loss: 0 -  - ETA: 1:13 - loss: 0.55 - ETA: 1:13 - los - ETA: 1:13 - loss: 0.54 - ETA: 1:13 - loss: 0 - ETA: 1:12 - loss: 0 - ETA: 1:12 - los - ETA: 1:12 -  - ETA: 1:11 - loss: 0.546 - ETA: 1: - ETA: 1:10 - loss: 0. - ETA: 1:08 - loss: 0.5  - ETA: - ETA:  - ETA: 1:02 - loss: 0.535 - ETA: 1:02 - loss: 0. - ETA: 1:02 - loss: - ETA: 1:01 - loss: - ETA: 1:01 - - ETA: 56 - ETA - ETA - - ETA:  - ETA: 36s  - ETA: 35s - loss: 0.51 - ETA: 35s  - ETA: 35s - loss: 0. - ETA: 33s - loss - ETA: 33s - lo - E - ETA: 32s - loss: 0.50 - ETA: 32s  - ETA: 24s -  - - ETA: 19 - ETA: 19s - lo - ETA: 18s  -  - ETA:  - ETA: 6s - loss: 0 - ETA - ETA: 5s - loss: 0 - ETA: 5s - loss: 0 - ETA: 4s - los - ET\n",
      "Epoch 4/5\n",
      "7560/7560 [==============================] - 251s 33ms/step - loss: 0.2062 - val_loss: 0.1382 ETA: 3:53 - lo - ETA: 3:52 - - ETA: 3:51 - l - ETA: 3:48 - loss: 0.24 - ETA: 3:47 - loss:  - ETA: 3 - E - ETA: 3:43 - loss - ETA: 3:43 - loss - ETA: 3:42 - loss - ETA: 3:41 - lo - ETA: 3:4 - ETA: 3:39 - loss: 0 - ETA: 3:39 - loss: 0. - ETA: 3:39 - lo - ETA: 3:38 - loss: - ETA: 3:38 - lo - ETA: 3:37 - loss: 0.230 - ETA: 3:37 - loss: 0.2 - ETA: 3: - ETA: 3:34 - lo - ETA: 3:33  - ETA: 3:32 - loss: - ETA: 3:32 - loss: 0.22 - ETA: 3:31 - loss:  - ETA: 3:31 - loss - E - ETA: 3:29 - loss: 0.223 - ETA: 3:29 - lo - ETA: 3:28 - loss:  - ETA: 3:28 - lo - ETA: - ETA: 3:26 - - ETA: 3:25 - loss: 0.2 - ETA: 3:25 -  - ETA: 3:24 - loss: 0.2 - ETA: 3:24 - l - ETA: 3:23 - lo -  - ET - ETA: 3:1 - ETA: 3:15 - loss:  - ETA: 3:15 - - ETA: - ETA: 3:13 - loss: 0.223 - ETA: 3:13 - los - ETA: 3:12 - loss: 0 - ETA: 3:12 - loss: 0.223 - ETA: 3:12 - - ETA: 3: - ETA: 3:10 - loss: 0.222 - ETA: 3:10 - loss: 0 - ETA: 3:10 - loss: 0.222 - ETA: 3:10 - loss: 0.22 - ETA: 3:10 - loss: 0.2 - ET - ET - ETA: 3:03 - l - ETA: 3:03 -  - ETA - ET - ETA: 2:58 - - ETA: 2:57 - loss: - ETA: 2:55 -  - ETA: 2:55 - loss:  - ETA: 2:54 - loss - ETA: 2:54 - loss: 0. - ETA: 2:5 - ETA: 2:53 - loss: 0. - ETA: 2: - ETA: 2 - ETA: 2:47 - loss: 0.2 - E - ETA: 2: - ETA: 2:44 - l - ETA: 2:44 - loss: 0.225 - ETA: 2:44 -  - ETA: 2 - ETA: 2:42 - loss:  - ETA: 2 - ETA: 2:39 - loss:  - ETA: 2:38 - los - ETA: 2:38 - loss: 0.225 - ETA: 2:38 - loss: - ETA: 2:37 - loss: 0 - ETA: 2:37 - l - ETA: 2:36 - - ETA: 2:36 - l - ETA: 2:35 - loss: 0.22 - ETA: 2:35 - loss: 0.223 - ETA: 2:35 - loss: 0.2 - ETA: 2:35 - l - ETA: 2:34 - loss: 0.22 - ETA: 2:34 - l - ETA: 2:33 - loss: 0.222 - ETA: 2:33 - loss: 0.2 - ETA: 2 - ETA: 2:32 - loss: 0.223 - ETA: 2:32 - loss: 0.2 - ETA: 2:32 - loss: 0. - ETA: 2:30 - loss:  - ETA: 2:29 - loss: 0.221 - ETA: 2:29 - loss: - ETA: 2:29 - loss: 0 - ETA: 2:28 - lo - ETA: 2:28 - - ETA: 2:27 - loss: 0.2 - ETA: 2:27 - loss: 0.222 - ETA: 2:27 - loss: 0.221 - ETA: 2:27 - loss:  - ETA: 2:26 - loss: 0.221 - ETA: 2:26 - loss - ETA: 2:26 - loss: - ETA: 2:25 - loss - ETA: 2:25 - loss: 0.22 - ETA: 2:25 - loss: 0.22 - ETA: 2:25 - lo - ETA: 2:24 - loss: 0.2 - ETA: 2:24 -  - ETA: 2:23 - loss:  - ETA: 2:23 - loss: 0.2 - ETA: 2:23 - loss - ETA: 2:22 - loss: 0 - ETA - ETA: 2:21 - loss: 0 - ETA: 2:20 - loss: 0.221 - ETA: 2:20 - lo - ETA: 2:20 - loss - ETA: 2:19 - lo - ETA: 2:18 - loss: 0 - ETA: 2:18 - loss: 0.221 - ETA: 2:18 - - ETA: 2:17 - loss: 0.221 - ETA: 2:17 -  - ETA: 2:17 - loss - ETA: 2:16 - l - ETA: 2:15 - los - ETA: 2:15 - loss: 0.222 - ETA: 2:15  - ETA: 2:14 - ETA: 2:13 - ETA: 2:12 - loss: 0.221 - ETA: 2:1 - ETA: 2:11 - lo -  - ETA: 2:0 - ETA: 2:06 - l - ETA: 2:06 - loss: 0. - ETA: 2:05 - loss: 0.219 - ETA: 2:05 - loss: 0. - ETA: 2:05 - loss - ETA: 2:05 - loss: 0 - E - ETA: 2:01 - loss - ETA: 2:01 - loss: 0.2 - ETA: 2:00 - loss - ETA: 2:00 - loss: 0. - ETA: 2:00 - loss: 0.2 - ETA: 2:00 - loss: 0.220 - ETA: 2:00 - loss:  - ETA:  - ETA: 1:5 - ETA: 1:57 - - ETA: 1:51 - loss - ETA: 1:51 - loss - ETA: 1:50 - - ETA: 1:4 - ETA: 1:4 - ETA: 1:47 - loss: 0.21 - ETA: - ETA: 1:43 - loss: 0.217 - ETA: 1:43 - loss: 0. - ETA: 1 - ETA: 1 - ETA: 1:40 - l - ETA: 1:40 - loss: 0.21 - ETA: - ETA: 1:38 - loss: 0.216 - ETA: 1:38 - l - ETA: 1:37 - loss: - ET - ETA: 1:34 - loss: 0.218 - ETA: 1:34 - loss: 0.218 - ETA: 1:34 - loss: 0.218 - ETA:  - ETA: 1:33 - loss - ETA: 1:32 - loss: 0.218 - ETA: 1:32 - ETA: 1:31 - los - ETA: 1:31 - loss: 0.21 - ETA: 1:30 - loss: 0.21 - ETA: 1:30 - loss: 0.21 - ETA: 1:30 - loss: 0. - ETA: 1:30  - ETA: 1:29 - loss - ETA: 1:29 - loss: 0. - ETA - ETA: 1 - ETA: 1:26 - loss: 0.2 - ETA: 1:26 - loss: - ETA: 1:25 - loss: 0.21 - ETA: - ETA: 1: - ETA: 1:23 - loss: 0. - ETA: 1:23 - loss: 0.215 - ETA: 1:23 - loss:  - ETA: 1:22 - loss - ETA: 1:22 - loss: 0.21 - ETA: 1:22 - ETA: 1:21 - los - ETA: - ETA: 1:19 -  - ETA: 1:18 - l - ETA: 1:14 - loss: 0 - ETA: 1:14 - ETA: 1:13 - loss: 0. - ETA: 1:13 - loss: 0. - ETA: 1:12 - loss:  - ETA: 23s  - ETA: 22s - loss: 0. - ETA: 22s - loss - - ETA: 18s - loss: 0.20 - ETA: 18s -  - E - ETA:  - ETA: 17s - loss: 0.20 - ETA: 17s - loss: - ETA: 9s - loss: 0. - ETA: 9s - loss: 0.206 - ETA: 9s - loss:  - ETA: 8s -  - ETA: 6s - loss: - ETA: 6s - loss: 0.20 - ETA: 6s - - ETA: 3s - los - ETA: 3s - loss: 0.2  - ETA: 1s - loss:  - ETA:\n",
      "Epoch 5/5\n"
     ]
    },
    {
     "name": "stdout",
     "output_type": "stream",
     "text": [
      "7560/7560 [==============================] - 251s 33ms/step - loss: 0.1684 - val_loss: 0.07183:41 - loss: 0.167 - ETA: 3:41 - loss: 0.167 - ETA: 3:41 - loss: - ETA: 3: - ETA: 3: - ETA: 3:39 - ETA: 3:38 - loss:  - ETA: 3:38 - l - ETA: 3:3 - ETA: 3:36 - loss: 0. - ETA: 3:36 - ETA: 3:35 - loss: 0.1 - ETA: 3:35 - ETA: 3:34 - loss:  - ETA: 3:33 - loss: - ETA: 3:33 - loss - ETA: 3:33 - loss: 0.172 - ETA: 3:33 - loss: 0. - ETA: 3:32 - loss: 0.17 - ETA: - ETA: 3:31 - loss: 0. - ETA:  - ETA: 3: - ETA: 3:2 - ETA: 3:27 - loss: 0.180 - ETA: 3:27 - lo - ETA: 3:27 - loss: - ETA: 3:26 - loss: 0.18 - - ETA: 3:25 - loss: 0.182 - ETA: 3:25 - loss: 0. - ETA: 3:24 - l - ETA: 3:24 - loss: - ETA: 3:2 - ETA: 3:20 - l - ETA: 3:20 - loss: 0.18 - ETA: 3:20 - lo - ETA: 3:12 - los - ETA: 3:12 - loss: 0.17 - ETA: 3:12 - loss: - ETA: 3:1 - ETA: 3:10 - loss: 0.176 - - ETA: 3:09 - l - E - ETA: 3:07 - loss: 0.1 - ETA: 3:06 - - ETA: 3:02 - loss: 0. - ETA: 3:02 - loss: 0 - ETA: 3:02 - loss: 0.171 - ETA: 3:02 - loss: 0. - ETA: 3:01 - los - ETA: 3 - ETA:  - ETA: 2:58 - ETA: 2:58 - loss: 0 - ETA: 2:57 - los - ETA: 2: - ETA: 2:56 - loss: 0.172 - ETA: 2:56 - loss: - ETA: 2:55 - loss: 0.1 - ETA: 2:55 - loss:  - ETA: 2:55  - ETA: 2:54 - l - ETA: 2:53 - loss: 0.17 - ETA: 2: - ET - ETA: 2:49 -  - E - ETA: 2:47 - - ETA: 2: - ETA: 2:45 - loss: 0 - ETA: 2:44 - loss: 0.1 - ETA: 2:4 - ETA: 2:43 - loss: 0.16 - ETA: 2:43 - los - ETA: 2:43 - loss: 0.1 - ETA: 2:42 -  -  - ETA: 2:40 - loss:  - ETA: 2:40 - loss: 0.16  - ETA: 2:38 - - ETA: 2:37 - loss: 0.1 - ETA: 2:37 - loss: 0.169 - ETA: 2:37 - loss:  - ETA: 2:37 - loss: 0.169 - ETA: 2:37 - loss: 0.1 - ETA: 2:36 - loss: 0.169 - ETA: 2:36 - los - ETA: 2:36 - - ETA: 2:35 - loss: 0.16 - ETA: 2:35 - loss - ETA: 2:34 - loss: 0. - ETA: 2:34 - los - ETA: 2: - ETA: 2:33 - loss: 0. - ETA: 2:32 - l - ETA: 2:32 - loss: 0 - ET - ETA: 2:30 - loss: 0. - ETA: 2:30 - loss:  - ETA: 2:29 - loss: 0.167 - ETA - ETA: 2:2 - ETA: 2 - ETA: 2:24 - loss: 0.166 - ETA: 2:24 - lo - ETA: 2:24 - loss: 0 - ETA: 2:23 - loss: 0.1 - ETA: 2:23 - loss: 0.16 - ETA: 2:23 - loss: 0.16 - ETA: 2:23 -  - ETA: 2:22 - loss: 0.1 - ETA: - ETA: 2:21 - loss: 0. - ETA: 2:20 - loss - ETA: 2:20 - lo - ETA: 2:19 - loss: 0 - ETA: 2:19 - loss - ETA: 2:18 - - ETA: 2:18 - loss: 0 - ETA: 2:17 - loss: 0.1 - ETA: 2:17 - loss:   - ETA: 2: - ETA:  - ETA: 2:11 - loss:  - ETA: 2:11 - loss: 0 - ETA: 2: - ETA: 2:10 - loss: 0.1 - ETA - ETA: 2:08 - loss: 0.1 - ETA: 2:08  - ETA: 2:07 - loss:  - ETA: 2:07 - loss: 0. - ETA: 2:06 - loss: 0.169 - ETA: 2:06 - loss: 0.169 - ETA: 2:06 - loss: 0. - ETA: 2:06 - loss: 0.169 - ETA: 2:06 - los - ETA: 2:05 - los - ETA: 2:05 - loss: 0.1 - ETA: 2:05 - loss: - ETA: 2:04 - loss: - ETA - ETA: 1:54 - los - ETA: 1:52 -  - ETA: 1:49 - loss: 0.16 - ETA: 1:48 - loss: 0. - ETA: 1:47 - loss: 0.1 - ETA: 1:47 - loss: 0.168 - ETA: 1:47 - loss: 0 - ETA: 1:47 - lo - ETA: 1:41 - los - ETA: 1:41 - ETA: 1:40 - loss: - ETA: 1:39 - loss - ETA: 1:39 - los - ETA: 1:37 - loss: 0 - ETA: 1:36 - loss: 0.17 - ETA: 1:36 - lo - ETA: 1:36 - loss: 0.171 - ETA: 1:36 - loss: 0.17 - ETA: 1:35 - loss: 0. - ETA: 1:33  - ETA: 1 - ETA: 1:26 - loss: - ETA: 1:2 - ETA: 1:25 - loss: 0.17 - ETA:  - ETA: 1:17 - loss: - ETA: 1:15 - loss: 0.171 - ETA: 1:15  - ETA: 1 - ETA: 1:13 - loss:  - ETA: 1:13 - - ETA: 1:12 - loss: 0. - ET - ETA: 36s - loss:  - ETA: 36s - loss:  - ETA: 36s - loss: 0. - ETA: 36s - lo - ETA - ETA: 32s -  - ETA:  - ETA:  - ETA: 19s - loss:  - E - ETA: 17s -  - E - ETA: 11s  - ETA: 10s - loss:  - E - ETA: 9s  - ETA: 8 - ETA: 3s - loss: 0.168 - ETA: 2s  - ETA:  - ETA: 1s - loss: 0. - ETA: 0s -\n"
     ]
    }
   ],
   "source": [
    "[cluster_array_train,image_array_train,rating_array_train], [cluster_array_val,image_array_val,rating_array_val], [cluster_array_test,image_array_test,rating_array_test] = get_data_SOM_network_final()\n",
    "    \n",
    "history = model.fit(x=[cluster_array_train, image_array_train], y=rating_array_train, validation_data=([cluster_array_val, image_array_val], rating_array_val), epochs=5, batch_size=2)\n",
    "\n",
    "loss_array = history.history['loss']\n",
    "val_loss_array = history.history['val_loss']"
   ]
  },
  {
   "cell_type": "code",
   "execution_count": 8,
   "id": "45aed600",
   "metadata": {},
   "outputs": [
    {
     "data": {
      "image/png": "[encoded data removed]",
      "text/plain": [
       "<Figure size 432x288 with 1 Axes>"
      ]
     },
     "metadata": {
      "needs_background": "light"
     },
     "output_type": "display_data"
    }
   ],
   "source": [
    "# summarize history for loss\n",
    "plt.plot(loss_array)\n",
    "plt.plot(val_loss_array)\n",
    "plt.title('model loss')\n",
    "plt.ylabel('loss')\n",
    "plt.xlabel('epoch')\n",
    "plt.legend(['train', 'validation'], loc='upper left')\n",
    "plt.yscale(\"log\")\n",
    "plt.show()"
   ]
  },
  {
   "cell_type": "code",
   "execution_count": 9,
   "id": "cbd45be1",
   "metadata": {},
   "outputs": [
    {
     "name": "stdout",
     "output_type": "stream",
     "text": [
      "8/8 [==============================] - 2s 137ms/step - loss: 0.0483\n"
     ]
    },
    {
     "data": {
      "text/plain": [
       "0.04826787859201431"
      ]
     },
     "execution_count": 9,
     "metadata": {},
     "output_type": "execute_result"
    }
   ],
   "source": [
    "## CREATE TEST SET\n",
    "model.evaluate(x=[cluster_array_test, image_array_test], y=rating_array_test)"
   ]
  },
  {
   "cell_type": "markdown",
   "id": "7cce2cb4",
   "metadata": {},
   "source": [
    "# BOXPLOT"
   ]
  },
  {
   "cell_type": "markdown",
   "id": "e880df7e",
   "metadata": {},
   "source": [
    "Now we will combine all boxplots into a single one:"
   ]
  },
  {
   "cell_type": "code",
   "execution_count": 13,
   "id": "ccd36d91",
   "metadata": {},
   "outputs": [],
   "source": [
    "DCNN = [0.0808,0.0782,0.0726,0.0847,0.0768,0.0825,0.0733,0.0710,0.0776,0.0754]\n",
    "Hybrid1 = [0.0716,0.0681,0.0748, 0.0735,0.0898,0.0740,0.0788,0.0676,0.0675,0.0836]\n",
    "SOM1 = [0.0204,0.0677,0.1043,0.0617,0.2248,0.0233,0.0365,0.1438,0.0195,0.0365]\n",
    "SOM2 = [0.0422,0.0210,0.0197,0.0192,0.0241,0.0255,0.1407,0.0257,0.0483,0.0189]"
   ]
  },
  {
   "cell_type": "code",
   "execution_count": 14,
   "id": "573a7a0b",
   "metadata": {},
   "outputs": [],
   "source": [
    "data = [DCNN, Hybrid1, SOM1, SOM2]"
   ]
  },
  {
   "cell_type": "code",
   "execution_count": 15,
   "id": "8c6672e9",
   "metadata": {},
   "outputs": [
    {
     "data": {
      "image/png": "[encoded data removed]",
      "text/plain": [
       "<Figure size 720x504 with 1 Axes>"
      ]
     },
     "metadata": {
      "needs_background": "light"
     },
     "output_type": "display_data"
    }
   ],
   "source": [
    "fig = plt.figure(figsize =(10, 7))\n",
    "\n",
    "# Creating axes instance\n",
    "ax = fig.add_axes([0, 0, 1, 1])\n",
    " \n",
    "# Creating plot\n",
    "bp = ax.boxplot(data)\n",
    "\n",
    "ax.set_xticklabels(['DCNN', 'DBSCAN',\n",
    "                    'SOM FROZEN', 'SOM UNFROZEN'])\n",
    " \n",
    "# show plot\n",
    "plt.show()"
   ]
  },
  {
   "cell_type": "markdown",
   "id": "94c7cfa9",
   "metadata": {},
   "source": [
    "# Statistical Analysis"
   ]
  },
  {
   "cell_type": "markdown",
   "id": "7b2c9956",
   "metadata": {},
   "source": [
    "Now we have to calculate the Shapiro-Wilk test for each dataset:"
   ]
  },
  {
   "cell_type": "code",
   "execution_count": 16,
   "id": "169ef0b7",
   "metadata": {},
   "outputs": [],
   "source": [
    "import scipy\n",
    "\n",
    "DCNN_pvalue = scipy.stats.shapiro(DCNN).pvalue\n",
    "Hybrid1_pvalue = scipy.stats.shapiro(Hybrid1).pvalue\n",
    "SOM1_pvalue = scipy.stats.shapiro(SOM1).pvalue\n",
    "SOM2_pvalue = scipy.stats.shapiro(SOM2).pvalue"
   ]
  },
  {
   "cell_type": "code",
   "execution_count": 17,
   "id": "0685c57d",
   "metadata": {},
   "outputs": [
    {
     "data": {
      "text/plain": [
       "0.9073078036308289"
      ]
     },
     "execution_count": 17,
     "metadata": {},
     "output_type": "execute_result"
    }
   ],
   "source": [
    "DCNN_pvalue"
   ]
  },
  {
   "cell_type": "code",
   "execution_count": 18,
   "id": "c20b2006",
   "metadata": {},
   "outputs": [
    {
     "data": {
      "text/plain": [
       "0.20094682276248932"
      ]
     },
     "execution_count": 18,
     "metadata": {},
     "output_type": "execute_result"
    }
   ],
   "source": [
    "Hybrid1_pvalue"
   ]
  },
  {
   "cell_type": "code",
   "execution_count": 19,
   "id": "ed7a17ec",
   "metadata": {},
   "outputs": [
    {
     "data": {
      "text/plain": [
       "0.022868921980261803"
      ]
     },
     "execution_count": 19,
     "metadata": {},
     "output_type": "execute_result"
    }
   ],
   "source": [
    "SOM1_pvalue"
   ]
  },
  {
   "cell_type": "code",
   "execution_count": 20,
   "id": "44381093",
   "metadata": {},
   "outputs": [
    {
     "data": {
      "text/plain": [
       "2.8840840968769044e-05"
      ]
     },
     "execution_count": 20,
     "metadata": {},
     "output_type": "execute_result"
    }
   ],
   "source": [
    "SOM2_pvalue"
   ]
  },
  {
   "cell_type": "markdown",
   "id": "80e63024",
   "metadata": {},
   "source": [
    "For each pvalue above 0.05, do a paired t-test"
   ]
  },
  {
   "cell_type": "code",
   "execution_count": 46,
   "id": "399a9778",
   "metadata": {},
   "outputs": [],
   "source": [
    "DCNN_Hybrid1_pvalue = scipy.stats.ttest_rel(DCNN, Hybrid1)\n",
    "DCNN_SOM1_pvalue = scipy.stats.wilcoxon(DCNN, SOM1)\n",
    "DCNN_SOM2_pvalue = scipy.stats.ttest_rel(DCNN, SOM2)\n",
    "Hybrid1_SOM1_pvalue = scipy.stats.wilcoxon(Hybrid1, SOM1)\n",
    "Hybrid1_SOM2_pvalue = scipy.stats.wilcoxon(Hybrid1, SOM2)\n",
    "SOM1_SOM2_pvalue = scipy.stats.wilcoxon(SOM1, SOM2)"
   ]
  },
  {
   "cell_type": "code",
   "execution_count": 47,
   "id": "26e1bff3",
   "metadata": {},
   "outputs": [
    {
     "data": {
      "text/plain": [
       "Ttest_relResult(statistic=0.8381521789266678, pvalue=0.42364507310587873)"
      ]
     },
     "execution_count": 47,
     "metadata": {},
     "output_type": "execute_result"
    }
   ],
   "source": [
    "DCNN_Hybrid1_pvalue"
   ]
  },
  {
   "cell_type": "code",
   "execution_count": 48,
   "id": "b4ab14dc",
   "metadata": {},
   "outputs": [
    {
     "data": {
      "text/plain": [
       "WilcoxonResult(statistic=22.0, pvalue=0.625)"
      ]
     },
     "execution_count": 48,
     "metadata": {},
     "output_type": "execute_result"
    }
   ],
   "source": [
    "DCNN_SOM1_pvalue"
   ]
  },
  {
   "cell_type": "code",
   "execution_count": 49,
   "id": "0c388a2e",
   "metadata": {},
   "outputs": [
    {
     "data": {
      "text/plain": [
       "Ttest_relResult(statistic=3.16486218694003, pvalue=0.01146025503296051)"
      ]
     },
     "execution_count": 49,
     "metadata": {},
     "output_type": "execute_result"
    }
   ],
   "source": [
    "DCNN_SOM2_pvalue"
   ]
  },
  {
   "cell_type": "code",
   "execution_count": 50,
   "id": "29207051",
   "metadata": {},
   "outputs": [
    {
     "data": {
      "text/plain": [
       "WilcoxonResult(statistic=22.0, pvalue=0.625)"
      ]
     },
     "execution_count": 50,
     "metadata": {},
     "output_type": "execute_result"
    }
   ],
   "source": [
    "Hybrid1_SOM1_pvalue"
   ]
  },
  {
   "cell_type": "code",
   "execution_count": 43,
   "id": "5a2b8d4a",
   "metadata": {},
   "outputs": [
    {
     "data": {
      "text/plain": [
       "WilcoxonResult(statistic=8.0, pvalue=0.048828125)"
      ]
     },
     "execution_count": 43,
     "metadata": {},
     "output_type": "execute_result"
    }
   ],
   "source": [
    "Hybrid1_SOM2_pvalue"
   ]
  },
  {
   "cell_type": "code",
   "execution_count": 44,
   "id": "f16f6e5f",
   "metadata": {},
   "outputs": [
    {
     "data": {
      "text/plain": [
       "WilcoxonResult(statistic=16.0, pvalue=0.275390625)"
      ]
     },
     "execution_count": 44,
     "metadata": {},
     "output_type": "execute_result"
    }
   ],
   "source": [
    "SOM1_SOM2_pvalue"
   ]
  },
  {
   "cell_type": "code",
   "execution_count": 45,
   "id": "98de7957",
   "metadata": {},
   "outputs": [
    {
     "data": {
      "text/plain": [
       "0.07729"
      ]
     },
     "execution_count": 45,
     "metadata": {},
     "output_type": "execute_result"
    }
   ],
   "source": [
    "np.mean(DCNN)"
   ]
  },
  {
   "cell_type": "code",
   "execution_count": 33,
   "id": "0983c42b",
   "metadata": {},
   "outputs": [
    {
     "data": {
      "text/plain": [
       "0.07493"
      ]
     },
     "execution_count": 33,
     "metadata": {},
     "output_type": "execute_result"
    }
   ],
   "source": [
    "np.mean(Hybrid1)"
   ]
  },
  {
   "cell_type": "code",
   "execution_count": 34,
   "id": "0ace4f81",
   "metadata": {},
   "outputs": [
    {
     "data": {
      "text/plain": [
       "0.07385"
      ]
     },
     "execution_count": 34,
     "metadata": {},
     "output_type": "execute_result"
    }
   ],
   "source": [
    "np.mean(SOM1)"
   ]
  },
  {
   "cell_type": "code",
   "execution_count": 35,
   "id": "a9ac1320",
   "metadata": {},
   "outputs": [
    {
     "data": {
      "text/plain": [
       "0.038529999999999995"
      ]
     },
     "execution_count": 35,
     "metadata": {},
     "output_type": "execute_result"
    }
   ],
   "source": [
    "np.mean(SOM2)"
   ]
  },
  {
   "cell_type": "code",
   "execution_count": 36,
   "id": "1831b52a",
   "metadata": {},
   "outputs": [
    {
     "data": {
      "text/plain": [
       "0.004202249397644077"
      ]
     },
     "execution_count": 36,
     "metadata": {},
     "output_type": "execute_result"
    }
   ],
   "source": [
    "np.std(DCNN)"
   ]
  },
  {
   "cell_type": "code",
   "execution_count": 37,
   "id": "11ceef23",
   "metadata": {},
   "outputs": [
    {
     "data": {
      "text/plain": [
       "0.0069344141785734155"
      ]
     },
     "execution_count": 37,
     "metadata": {},
     "output_type": "execute_result"
    }
   ],
   "source": [
    "np.std(Hybrid1)"
   ]
  },
  {
   "cell_type": "code",
   "execution_count": null,
   "id": "5899057e",
   "metadata": {},
   "outputs": [],
   "source": []
  }
 ],
 "metadata": {
  "kernelspec": {
   "display_name": "Python 3 (ipykernel)",
   "language": "python",
   "name": "python3"
  },
  "language_info": {
   "codemirror_mode": {
    "name": "ipython",
    "version": 3
   },
   "file_extension": ".py",
   "mimetype": "text/x-python",
   "name": "python",
   "nbconvert_exporter": "python",
   "pygments_lexer": "ipython3",
   "version": "3.9.7"
  }
 },
 "nbformat": 4,
 "nbformat_minor": 5
}
