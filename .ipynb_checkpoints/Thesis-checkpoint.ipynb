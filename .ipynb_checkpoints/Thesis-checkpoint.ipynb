{
 "cells": [
  {
   "cell_type": "code",
   "execution_count": 1,
   "id": "b095b2d2",
   "metadata": {},
   "outputs": [],
   "source": [
    "import tensorflow as tf"
   ]
  },
  {
   "cell_type": "code",
   "execution_count": 2,
   "id": "d9622a08",
   "metadata": {},
   "outputs": [],
   "source": [
    "import keras"
   ]
  },
  {
   "cell_type": "code",
   "execution_count": 3,
   "id": "90df2441",
   "metadata": {},
   "outputs": [],
   "source": [
    "import pandas"
   ]
  },
  {
   "cell_type": "code",
   "execution_count": 4,
   "id": "d86394c2",
   "metadata": {},
   "outputs": [],
   "source": [
    "import sklearn"
   ]
  },
  {
   "cell_type": "code",
   "execution_count": 5,
   "id": "44927ff1",
   "metadata": {},
   "outputs": [],
   "source": [
    "import matplotlib"
   ]
  },
  {
   "cell_type": "code",
   "execution_count": 6,
   "id": "461934f0",
   "metadata": {},
   "outputs": [],
   "source": [
    "from PIL import Image"
   ]
  },
  {
   "cell_type": "markdown",
   "id": "47a420d3",
   "metadata": {},
   "source": [
    "# Import Data"
   ]
  },
  {
   "cell_type": "code",
   "execution_count": 7,
   "id": "a95853a8",
   "metadata": {},
   "outputs": [],
   "source": [
    "participants = pandas.read_csv('Data/participant_table.csv')"
   ]
  },
  {
   "cell_type": "code",
   "execution_count": 8,
   "id": "3c3cdea7",
   "metadata": {},
   "outputs": [],
   "source": [
    "images = pandas.read_csv('Data/an_art_images.csv')"
   ]
  },
  {
   "cell_type": "code",
   "execution_count": 9,
   "id": "87364a18",
   "metadata": {},
   "outputs": [],
   "source": [
    "data = pandas.read_csv('Data/an_art_block_data.csv')"
   ]
  },
  {
   "cell_type": "code",
   "execution_count": 10,
   "id": "c6f0968c",
   "metadata": {},
   "outputs": [],
   "source": [
    "table = pandas.read_csv('Data/an_art_block_table.csv') "
   ]
  },
  {
   "cell_type": "markdown",
   "id": "41021ffa",
   "metadata": {},
   "source": [
    "# CONVOLUTIONAL NEURAL NETWORK"
   ]
  },
  {
   "cell_type": "markdown",
   "id": "16b40fae",
   "metadata": {},
   "source": [
    "For the normal convolutional neural network, the network that will be used is the VGG16 network which is pretrained on the imagenet dataset. This can be used in keras as follows:"
   ]
  },
  {
   "cell_type": "code",
   "execution_count": 11,
   "id": "245f597b",
   "metadata": {},
   "outputs": [],
   "source": [
    "from keras.applications.vgg16 import VGG16"
   ]
  },
  {
   "cell_type": "code",
   "execution_count": 12,
   "id": "82e2860b",
   "metadata": {},
   "outputs": [
    {
     "name": "stdout",
     "output_type": "stream",
     "text": [
      "Model: \"sequential\"\n",
      "_________________________________________________________________\n",
      "Layer (type)                 Output Shape              Param #   \n",
      "=================================================================\n",
      "vgg16 (Functional)           (None, 512)               14714688  \n",
      "_________________________________________________________________\n",
      "flatten (Flatten)            (None, 512)               0         \n",
      "_________________________________________________________________\n",
      "dense (Dense)                (None, 1)                 513       \n",
      "=================================================================\n",
      "Total params: 14,715,201\n",
      "Trainable params: 14,715,201\n",
      "Non-trainable params: 0\n",
      "_________________________________________________________________\n"
     ]
    }
   ],
   "source": [
    "model = keras.models.Sequential()\n",
    "model.add(VGG16(weights = 'imagenet', include_top=False, input_shape=(224,224,3), pooling='avg'))\n",
    "model.add(keras.layers.Flatten())\n",
    "model.add(keras.layers.Dense(1))\n",
    "model.compile(loss='mean_squared_error', optimizer='adam')\n",
    "model.summary()"
   ]
  },
  {
   "cell_type": "markdown",
   "id": "dfd5eeb8",
   "metadata": {},
   "source": [
    "First we need to fix the data so that it can be used as input for the network. This requires an array of tuples of images and scores. To get this array we need the average score for each image. This means linking the image at the location specified in the images dataset to the average of all responses in the data dataset corresponding to the same image id."
   ]
  },
  {
   "cell_type": "code",
   "execution_count": 13,
   "id": "1d7f98cd",
   "metadata": {},
   "outputs": [],
   "source": [
    "import numpy as np"
   ]
  },
  {
   "cell_type": "code",
   "execution_count": 14,
   "id": "a67eb7fc",
   "metadata": {},
   "outputs": [],
   "source": [
    "images_array = np.zeros((1990,224,224,3))\n",
    "scores_array = np.zeros((1990,1))"
   ]
  },
  {
   "cell_type": "code",
   "execution_count": 15,
   "id": "1dc23983",
   "metadata": {},
   "outputs": [],
   "source": [
    "@tf.function\n",
    "def scale_resize_image(image):\n",
    "    image = tf.image.convert_image_dtype(image, tf.float32) # equivalent to dividing image pixels by 255\n",
    "    image = tf.image.resize(image, (224, 224)) # Resizing the image to 224x224 dimention\n",
    "    return (image)"
   ]
  },
  {
   "cell_type": "code",
   "execution_count": 16,
   "id": "eb11aa31",
   "metadata": {},
   "outputs": [
    {
     "name": "stdout",
     "output_type": "stream",
     "text": [
      "WARNING:tensorflow:5 out of the last 6 calls to <function scale_resize_image at 0x000002BC191D2D30> triggered tf.function retracing. Tracing is expensive and the excessive number of tracings could be due to (1) creating @tf.function repeatedly in a loop, (2) passing tensors with different shapes, (3) passing Python objects instead of tensors. For (1), please define your @tf.function outside of the loop. For (2), @tf.function has experimental_relax_shapes=True option that relaxes argument shapes that can avoid unnecessary retracing. For (3), please refer to https://www.tensorflow.org/guide/function#controlling_retracing and https://www.tensorflow.org/api_docs/python/tf/function for  more details.\n",
      "WARNING:tensorflow:6 out of the last 7 calls to <function scale_resize_image at 0x000002BC191D2D30> triggered tf.function retracing. Tracing is expensive and the excessive number of tracings could be due to (1) creating @tf.function repeatedly in a loop, (2) passing tensors with different shapes, (3) passing Python objects instead of tensors. For (1), please define your @tf.function outside of the loop. For (2), @tf.function has experimental_relax_shapes=True option that relaxes argument shapes that can avoid unnecessary retracing. For (3), please refer to https://www.tensorflow.org/guide/function#controlling_retracing and https://www.tensorflow.org/api_docs/python/tf/function for  more details.\n"
     ]
    }
   ],
   "source": [
    "for i in range(1990):\n",
    "    image_location = images[['image_filename']].values[i][0]\n",
    "    im = Image.open('Data/Images/Final_resized_selection_batch1/' + image_location)\n",
    "    im = np.array(im)\n",
    "    im = scale_resize_image(im)\n",
    "    images_array[i] = im"
   ]
  },
  {
   "cell_type": "code",
   "execution_count": 17,
   "id": "1eb358d4",
   "metadata": {
    "scrolled": true
   },
   "outputs": [],
   "source": [
    "avg_data = data.groupby(['image_id']).mean()\n",
    "\n",
    "for i in range(1990):\n",
    "    scores_array[i] = avg_data[['response']].values[i][0]\n",
    "    \n",
    "abs_max = np.amax(np.abs(scores_array))\n",
    "scores_array = scores_array/abs_max"
   ]
  },
  {
   "cell_type": "markdown",
   "id": "4f136778",
   "metadata": {},
   "source": [
    "The data must be split into train and test sets, and it must also be shuffled:"
   ]
  },
  {
   "cell_type": "code",
   "execution_count": 18,
   "id": "bb20a4a9",
   "metadata": {},
   "outputs": [],
   "source": [
    "def unison_shuffled_copies(a, b):\n",
    "    assert len(a) == len(b)\n",
    "    p = np.random.permutation(len(a))\n",
    "    return a[p], b[p]\n",
    "\n",
    "scores_array_shuffled, images_array_shuffled = unison_shuffled_copies(scores_array, images_array)\n",
    "\n",
    "scores_array_train = scores_array_shuffled[:1400]\n",
    "images_array_train = images_array_shuffled[:1400]\n",
    "\n",
    "scores_array_val = scores_array_shuffled[1400:1500]\n",
    "images_array_val = images_array_shuffled[1400:1500]\n",
    "\n",
    "scores_array_test = scores_array_shuffled[1500:]\n",
    "images_array_test = images_array_shuffled[1500:]"
   ]
  },
  {
   "cell_type": "markdown",
   "id": "8a1e72c0",
   "metadata": {},
   "source": [
    "Then the model can be trained:"
   ]
  },
  {
   "cell_type": "code",
   "execution_count": 21,
   "id": "2cb5ee02",
   "metadata": {},
   "outputs": [
    {
     "name": "stdout",
     "output_type": "stream",
     "text": [
      "Epoch 1/10\n",
      "700/700 [==============================] - 37s 53ms/step - loss: 0.0249 - val_loss: 0.0217- ET - ETA: 5s -  - ETA: 0s - loss: \n",
      "Epoch 2/10\n",
      "700/700 [==============================] - 37s 53ms/step - loss: 0.1509 - val_loss: 0.0228\n",
      "Epoch 3/10\n",
      "700/700 [==============================] - 37s 53ms/step - loss: 0.0220 - val_loss: 0.0207- ET - ETA: 0s - loss: 0.022\n",
      "Epoch 4/10\n",
      "700/700 [==============================] - 37s 53ms/step - loss: 0.0218 - val_loss: 0.0222\n",
      "Epoch 5/10\n",
      "700/700 [==============================] - 37s 53ms/step - loss: 0.0263 - val_loss: 0.0212s - loss - ETA: 0s - los\n",
      "Epoch 6/10\n",
      "700/700 [==============================] - 37s 53ms/step - loss: 0.0226 - val_loss: 0.0207\n",
      "Epoch 7/10\n",
      "700/700 [==============================] - 37s 53ms/step - loss: 0.0223 - val_loss: 0.0208\n",
      "Epoch 8/10\n",
      "700/700 [==============================] - 37s 53ms/step - loss: 0.0223 - val_loss: 0.0211\n",
      "Epoch 9/10\n",
      "700/700 [==============================] - 37s 53ms/step - loss: 0.0221 - val_loss: 0.02060 - ETA: 1s - loss: - ETA: 0s\n",
      "Epoch 10/10\n",
      "700/700 [==============================] - 37s 53ms/step - loss: 0.0220 - val_loss: 0.0206\n"
     ]
    }
   ],
   "source": [
    "history = model.fit(images_array_train, scores_array_train, epochs=10, batch_size=2, validation_data=(images_array_val, scores_array_val))"
   ]
  },
  {
   "cell_type": "code",
   "execution_count": 22,
   "id": "fc48629d",
   "metadata": {},
   "outputs": [
    {
     "name": "stdout",
     "output_type": "stream",
     "text": [
      "dict_keys(['loss', 'val_loss'])\n"
     ]
    },
    {
     "data": {
      "image/png": "[encoded data removed]",
      "text/plain": [
       "<Figure size 432x288 with 1 Axes>"
      ]
     },
     "metadata": {
      "needs_background": "light"
     },
     "output_type": "display_data"
    }
   ],
   "source": [
    "import matplotlib.pyplot as plt\n",
    "# list all data in history\n",
    "print(history.history.keys())\n",
    "# summarize history for loss\n",
    "plt.plot(history.history['loss'])\n",
    "plt.plot(history.history['val_loss'])\n",
    "plt.title('model loss')\n",
    "plt.ylabel('loss')\n",
    "plt.xlabel('epoch')\n",
    "plt.legend(['train', 'test'], loc='upper left')\n",
    "plt.show()"
   ]
  },
  {
   "cell_type": "markdown",
   "id": "7d147b99",
   "metadata": {},
   "source": [
    "# HYBRID NEURAL NETWORK WITH MANUAL CLUSTERING"
   ]
  },
  {
   "cell_type": "markdown",
   "id": "d07c6575",
   "metadata": {},
   "source": [
    "Now we need to use a manual clustering method to cluster the data of the participants into different clusters, and use this information as input for a hybrid neural network. We will start with the clustering, we can do this using the sklearn library:"
   ]
  },
  {
   "cell_type": "code",
   "execution_count": null,
   "id": "0aebe3bd",
   "metadata": {},
   "outputs": [],
   "source": [
    "from sklearn.cluster import DBSCAN"
   ]
  },
  {
   "cell_type": "code",
   "execution_count": null,
   "id": "3a941fe3",
   "metadata": {},
   "outputs": [],
   "source": [
    "X = np.array([[1, 2], [2, 2], [2, 3], [8, 7], [8, 8], [25, 80]])\n",
    "clustering = DBSCAN(eps=3, min_samples=2).fit(X)\n",
    "clustering.labels_"
   ]
  },
  {
   "cell_type": "markdown",
   "id": "306768d3",
   "metadata": {},
   "source": [
    "Now we need to prepare the data so that it can be given as input to the DBSCAN algorithm:"
   ]
  },
  {
   "cell_type": "code",
   "execution_count": null,
   "id": "2d4fd528",
   "metadata": {},
   "outputs": [],
   "source": [
    "cluster_array = np.zeros((34, 1990))"
   ]
  },
  {
   "cell_type": "code",
   "execution_count": null,
   "id": "92dbeeb3",
   "metadata": {},
   "outputs": [],
   "source": [
    "for i in range(20160):\n",
    "    participant_index = int((data[['participant_id']].values[i][0])/3 - 1)\n",
    "    image_index = int((data[['image_id']].values[i][0])/3 - 1)\n",
    "    cluster_array[participant_index][image_index] = data[['response']].values[i][0]"
   ]
  },
  {
   "cell_type": "code",
   "execution_count": null,
   "id": "f0e868c0",
   "metadata": {},
   "outputs": [],
   "source": [
    "cluster_array[np.isnan(cluster_array)]=0.0"
   ]
  },
  {
   "cell_type": "code",
   "execution_count": null,
   "id": "60f5fdaf",
   "metadata": {},
   "outputs": [],
   "source": [
    "abs_max = np.amax(np.abs(cluster_array))\n",
    "cluster_array = cluster_array/abs_max\n",
    "cluster_array[np.isnan(cluster_array)]=0.5"
   ]
  },
  {
   "cell_type": "code",
   "execution_count": null,
   "id": "84dcdba8",
   "metadata": {},
   "outputs": [],
   "source": [
    "clustering = DBSCAN(eps=12, min_samples=2).fit(cluster_array)\n",
    "clustering.labels_"
   ]
  },
  {
   "cell_type": "markdown",
   "id": "b523354d",
   "metadata": {},
   "source": [
    "It is not possible to see how these points are located relative to eachother due to the high dimensions of the data. For now we have two apparent clusters. Now we need to create the hybrid network to train the network with these results."
   ]
  },
  {
   "cell_type": "code",
   "execution_count": null,
   "id": "10cd5c3b",
   "metadata": {},
   "outputs": [],
   "source": [
    "inputA = keras.layers.Input(shape=(1,))\n",
    "inputB = keras.layers.Input(shape=(224,224,3))"
   ]
  },
  {
   "cell_type": "code",
   "execution_count": null,
   "id": "3fa2a0b0",
   "metadata": {},
   "outputs": [],
   "source": [
    "x = keras.layers.Dense(8, activation=\"relu\")(inputA)\n",
    "x = keras.layers.Dense(4, activation=\"relu\")(x)\n",
    "x = keras.models.Model(inputs=inputA, outputs=x)"
   ]
  },
  {
   "cell_type": "code",
   "execution_count": null,
   "id": "4a17fe80",
   "metadata": {},
   "outputs": [],
   "source": [
    "y = keras.models.Sequential()\n",
    "y.add(VGG16(weights = 'imagenet', include_top=False, input_shape=(224,224,3), pooling='avg'))\n",
    "y.add(keras.layers.Flatten())"
   ]
  },
  {
   "cell_type": "code",
   "execution_count": null,
   "id": "e865472d",
   "metadata": {},
   "outputs": [],
   "source": [
    "combined = keras.layers.concatenate([x.output, y.output])"
   ]
  },
  {
   "cell_type": "code",
   "execution_count": null,
   "id": "3c07fd4c",
   "metadata": {},
   "outputs": [],
   "source": [
    "z = keras.layers.Dense(19, activation=\"relu\")(combined)\n",
    "z = keras.layers.Dense(1, activation=\"linear\")(z)"
   ]
  },
  {
   "cell_type": "code",
   "execution_count": null,
   "id": "582c36b4",
   "metadata": {},
   "outputs": [],
   "source": [
    "model = keras.models.Model(inputs=[x.input, y.input], outputs=z)"
   ]
  },
  {
   "cell_type": "code",
   "execution_count": null,
   "id": "6dcd43fd",
   "metadata": {},
   "outputs": [],
   "source": [
    "model.compile(loss=\"mean_absolute_percentage_error\", optimizer=\"adam\")"
   ]
  },
  {
   "cell_type": "markdown",
   "id": "94051ed4",
   "metadata": {},
   "source": [
    "Now that the model is created, the data has to be fitted to the input of the network:"
   ]
  },
  {
   "cell_type": "code",
   "execution_count": null,
   "id": "9ed0422c",
   "metadata": {},
   "outputs": [],
   "source": [
    "rating_array = np.zeros((20160,1))\n",
    "image_array = np.zeros((20160,224,224,3))\n",
    "clusterinfo_array = np.zeros((20160,1))"
   ]
  },
  {
   "cell_type": "code",
   "execution_count": null,
   "id": "5fd25194",
   "metadata": {},
   "outputs": [],
   "source": [
    "for i in range(20160):\n",
    "    \n",
    "    #ratings\n",
    "    \n",
    "    rating_array[i] = (data[['response']].values[i][0])\n",
    "    \n",
    "    \n",
    "    #images\n",
    "    \n",
    "    image_index = int((data[['image_id']].values[i][0])/3 - 1)\n",
    "    image_location = images[['image_filename']].values[image_index][0]\n",
    "    im = Image.open('Data/Images/Final_resized_selection_batch1/' + image_location)\n",
    "    im = np.array(im)\n",
    "    im = scale_resize_image(im)\n",
    "    image_array[i] = im\n",
    "    \n",
    "    #clusters\n",
    "    \n",
    "    participant_index = int((data[['participant_id']].values[i][0])/3 - 1)\n",
    "    clusterinfo_array[i] = clustering.labels_[participant_index]"
   ]
  },
  {
   "cell_type": "code",
   "execution_count": null,
   "id": "d7c302e2",
   "metadata": {},
   "outputs": [],
   "source": [
    "def three_unison_shuffled_copies(a, b, c):\n",
    "    assert len(a) == len(b)\n",
    "    assert len(a) == len(c)\n",
    "    p = np.random.permutation(len(a))\n",
    "    return a[p], b[p], c[p]\n",
    "\n",
    "rating_array_shuffled, image_array_shuffled, cluster_array_shuffled = three_unison_shuffled_copies(rating_array, image_array, clusterinfo_array)\n",
    "\n",
    "rating_array_train = rating_array_shuffled[:14000]\n",
    "image_array_train = image_array_shuffled[:14000]\n",
    "cluster_array_train = cluster_array_shuffled[:14000]\n",
    "\n",
    "rating_array_val = rating_array_shuffled[14000:15000]\n",
    "image_array_val = image_array_shuffled[14000:15000]\n",
    "cluster_array_val = cluster_array_shuffled[14000:15000]\n",
    "\n",
    "rating_array_test = rating_array_shuffled[15000:]\n",
    "image_array_test = image_array_shuffled[15000:]\n",
    "cluster_array_test = cluster_array_shuffled[15000:]"
   ]
  },
  {
   "cell_type": "markdown",
   "id": "04bab9b2",
   "metadata": {},
   "source": [
    "With that done the model can be trained:"
   ]
  },
  {
   "cell_type": "code",
   "execution_count": null,
   "id": "25736524",
   "metadata": {},
   "outputs": [],
   "source": [
    "history = model.fit(x=[cluster_array_train, image_array_train], y=rating_array_train, validation_data=([cluster_array_val, image_array_val], rating_array_val), epochs=2, batch_size=2)"
   ]
  },
  {
   "cell_type": "code",
   "execution_count": null,
   "id": "0c5615e4",
   "metadata": {},
   "outputs": [],
   "source": [
    "import matplotlib.pyplot as plt\n",
    "# list all data in history\n",
    "print(history.history.keys())\n",
    "# summarize history for loss\n",
    "plt.plot(history.history['loss'])\n",
    "plt.plot(history.history['val_loss'])\n",
    "plt.title('model loss')\n",
    "plt.ylabel('loss')\n",
    "plt.xlabel('epoch')\n",
    "plt.legend(['train', 'test'], loc='upper left')\n",
    "plt.show()"
   ]
  },
  {
   "cell_type": "markdown",
   "id": "d8d05eb2",
   "metadata": {},
   "source": [
    "# HYBRID NEURAL NETWORK WITH SOM SUBNETWORK"
   ]
  },
  {
   "cell_type": "markdown",
   "id": "8fda656d",
   "metadata": {},
   "source": [
    "The last part of this code will be quite similar to the second part, with the expection that the cluster algorithm will be included in the neural network, using a SOM Neural Network for the first input. First we will create the model:"
   ]
  },
  {
   "cell_type": "code",
   "execution_count": null,
   "id": "eea0d70f",
   "metadata": {},
   "outputs": [],
   "source": [
    "import tensorflow as tf\n",
    "from tensorflow.keras.layers import Layer, InputSpec\n",
    "\n",
    "\n",
    "class SOMLayer(Layer):\n",
    "    \"\"\"\n",
    "    Self-Organizing Map layer class with rectangular topology\n",
    "    # Example\n",
    "    ```\n",
    "        model.add(SOMLayer(map_size=(10,10)))\n",
    "    ```\n",
    "    # Arguments\n",
    "        map_size: Tuple representing the size of the rectangular map. Number of prototypes is map_size[0]*map_size[1].\n",
    "        prototypes: Numpy array with shape `(n_prototypes, latent_dim)` witch represents the initial cluster centers\n",
    "    # Input shape\n",
    "        2D tensor with shape: `(n_samples, latent_dim)`\n",
    "    # Output shape\n",
    "        2D tensor with shape: `(n_samples, n_prototypes)`\n",
    "    \"\"\"\n",
    "\n",
    "    def __init__(self, map_size, prototypes=None, **kwargs):\n",
    "        if 'input_shape' not in kwargs and 'latent_dim' in kwargs:\n",
    "            kwargs['input_shape'] = (kwargs.pop('latent_dim'),)\n",
    "        super(SOMLayer, self).__init__(**kwargs)\n",
    "        self.map_size = map_size\n",
    "        self.n_prototypes = map_size[0]*map_size[1]\n",
    "        self.initial_prototypes = prototypes\n",
    "        self.input_spec = InputSpec(ndim=2)\n",
    "        self.prototypes = None\n",
    "        self.built = False\n",
    "\n",
    "    def build(self, input_shape):\n",
    "        assert(len(input_shape) == 2)\n",
    "        input_dim = input_shape[1]\n",
    "        self.input_spec = InputSpec(dtype=tf.float32, shape=(None, input_dim))\n",
    "        self.prototypes = self.add_weight(shape=(self.n_prototypes, input_dim), initializer='glorot_uniform', name='prototypes')\n",
    "        if self.initial_prototypes is not None:\n",
    "            self.set_weights(self.initial_prototypes)\n",
    "            del self.initial_prototypes\n",
    "        self.built = True\n",
    "\n",
    "    def call(self, inputs, **kwargs):\n",
    "        \"\"\"\n",
    "        Calculate pairwise squared euclidean distances between inputs and prototype vectors\n",
    "        Arguments:\n",
    "            inputs: the variable containing data, Tensor with shape `(n_samples, latent_dim)`\n",
    "        Return:\n",
    "            d: distances between inputs and prototypes, Tensor with shape `(n_samples, n_prototypes)`\n",
    "        \"\"\"\n",
    "        # Note: (tf.expand_dims(inputs, axis=1) - self.prototypes) has shape (n_samples, n_prototypes, latent_dim)\n",
    "        d = tf.reduce_sum(tf.square(tf.expand_dims(inputs, axis=1) - self.prototypes), axis=2)\n",
    "        return d\n",
    "\n",
    "    def compute_output_shape(self, input_shape):\n",
    "        assert(input_shape and len(input_shape) == 2)\n",
    "        return input_shape[0], self.n_prototypes\n",
    "\n",
    "    def get_config(self):\n",
    "        config = {'map_size': self.map_size}\n",
    "        base_config = super(SOMLayer, self).get_config()\n",
    "        return dict(list(base_config.items()) + list(config.items()))"
   ]
  },
  {
   "cell_type": "code",
   "execution_count": null,
   "id": "e178e61a",
   "metadata": {},
   "outputs": [],
   "source": [
    "inputA = keras.layers.Input(shape=(1990))\n",
    "inputB = keras.layers.Input(shape=(224,224,3))"
   ]
  },
  {
   "cell_type": "code",
   "execution_count": null,
   "id": "d8d59058",
   "metadata": {},
   "outputs": [],
   "source": [
    "x = SOMLayer((1990,1))(inputA)\n",
    "x = keras.models.Model(inputs=inputA, outputs=x)"
   ]
  },
  {
   "cell_type": "code",
   "execution_count": null,
   "id": "ef711179",
   "metadata": {},
   "outputs": [],
   "source": [
    "y = keras.models.Sequential()\n",
    "y.add(VGG16(weights = 'imagenet', include_top=False, input_shape=(224,224,3), pooling='avg'))\n",
    "y.add(keras.layers.Flatten())"
   ]
  },
  {
   "cell_type": "code",
   "execution_count": null,
   "id": "92de8f20",
   "metadata": {},
   "outputs": [],
   "source": [
    "combined = keras.layers.concatenate([x.output, y.output])"
   ]
  },
  {
   "cell_type": "code",
   "execution_count": null,
   "id": "d452df97",
   "metadata": {},
   "outputs": [],
   "source": [
    "z = keras.layers.Dense(19, activation=\"relu\")(combined)\n",
    "z = keras.layers.Dense(1, activation=\"linear\")(z)"
   ]
  },
  {
   "cell_type": "code",
   "execution_count": null,
   "id": "c4256a16",
   "metadata": {},
   "outputs": [],
   "source": [
    "model = keras.models.Model(inputs=[x.input, y.input], outputs=z)"
   ]
  },
  {
   "cell_type": "code",
   "execution_count": null,
   "id": "362ad0af",
   "metadata": {},
   "outputs": [],
   "source": [
    "model.compile(loss=\"mean_absolute_percentage_error\", optimizer=\"adam\")"
   ]
  },
  {
   "cell_type": "markdown",
   "id": "e8546bd6",
   "metadata": {},
   "source": [
    "Now the data has to be fitted to the model:"
   ]
  },
  {
   "cell_type": "code",
   "execution_count": null,
   "id": "90469b6b",
   "metadata": {},
   "outputs": [],
   "source": [
    "rating_array = np.zeros((20160,1))\n",
    "image_array = np.zeros((20160,224,224,3))\n",
    "clusterinfo_array = np.zeros((20160,1990))"
   ]
  },
  {
   "cell_type": "code",
   "execution_count": null,
   "id": "5b0bdb10",
   "metadata": {},
   "outputs": [],
   "source": [
    "for i in range(20160):\n",
    "    \n",
    "    #ratings\n",
    "    \n",
    "    rating_array[i] = (data[['response']].values[i][0])\n",
    "    \n",
    "    \n",
    "    #images\n",
    "    \n",
    "    image_index = int((data[['image_id']].values[i][0])/3 - 1)\n",
    "    image_location = images[['image_filename']].values[image_index][0]\n",
    "    im = Image.open('Data/Images/Final_resized_selection_batch1/' + image_location)\n",
    "    im = np.array(im)\n",
    "    im = scale_resize_image(im)\n",
    "    image_array[i] = im\n",
    "    \n",
    "    #clusters\n",
    "    \n",
    "    participant_index = int((data[['participant_id']].values[i][0])/3 - 1)\n",
    "    clusterinfo_array[i] = cluster_array[participant_index]"
   ]
  },
  {
   "cell_type": "code",
   "execution_count": null,
   "id": "f7809664",
   "metadata": {},
   "outputs": [],
   "source": [
    "def three_unison_shuffled_copies(a, b, c):\n",
    "    assert len(a) == len(b)\n",
    "    assert len(a) == len(c)\n",
    "    p = np.random.permutation(len(a))\n",
    "    return a[p], b[p], c[p]\n",
    "\n",
    "rating_array_shuffled, image_array_shuffled, cluster_array_shuffled = three_unison_shuffled_copies(rating_array, image_array, clusterinfo_array)\n",
    "\n",
    "rating_array_train = rating_array_shuffled[:14000]\n",
    "image_array_train = image_array_shuffled[:14000]\n",
    "cluster_array_train = cluster_array_shuffled[:14000]\n",
    "\n",
    "rating_array_val = rating_array_shuffled[14000:15000]\n",
    "image_array_val = image_array_shuffled[14000:15000]\n",
    "cluster_array_val = cluster_array_shuffled[14000:15000]\n",
    "\n",
    "rating_array_test = rating_array_shuffled[15000:]\n",
    "image_array_test = image_array_shuffled[15000:]\n",
    "cluster_array_test = cluster_array_shuffled[15000:]"
   ]
  },
  {
   "cell_type": "markdown",
   "id": "9af69ba1",
   "metadata": {},
   "source": [
    "Now we need to train the model:"
   ]
  },
  {
   "cell_type": "code",
   "execution_count": null,
   "id": "4470c2fb",
   "metadata": {},
   "outputs": [],
   "source": [
    "history = model.fit(x=[cluster_array_train, image_array_train], y=rating_array_train, validation_data=([cluster_array_val, image_array_val], rating_array_val), epochs=2, batch_size=2)"
   ]
  },
  {
   "cell_type": "code",
   "execution_count": null,
   "id": "7c72ac39",
   "metadata": {},
   "outputs": [],
   "source": [
    "import matplotlib.pyplot as plt\n",
    "# list all data in history\n",
    "print(history.history.keys())\n",
    "# summarize history for loss\n",
    "plt.plot(history.history['loss'])\n",
    "plt.plot(history.history['val_loss'])\n",
    "plt.title('model loss')\n",
    "plt.ylabel('loss')\n",
    "plt.xlabel('epoch')\n",
    "plt.legend(['train', 'test'], loc='upper left')\n",
    "plt.show()"
   ]
  },
  {
   "cell_type": "markdown",
   "id": "13a8a24a",
   "metadata": {},
   "source": [
    "# HYBRID NEURAL NETWORK WITH SOM PRETRAINED"
   ]
  },
  {
   "cell_type": "code",
   "execution_count": null,
   "id": "65c6168d",
   "metadata": {},
   "outputs": [],
   "source": [
    "def som_loss(weights, distances):\n",
    "    \"\"\"\n",
    "    SOM loss\n",
    "    # Arguments\n",
    "        weights: weights for the weighted sum, Tensor with shape `(n_samples, n_prototypes)`\n",
    "        distances: pairwise squared euclidean distances between inputs and prototype vectors, Tensor with shape `(n_samples, n_prototypes)`\n",
    "    # Return\n",
    "        SOM reconstruction loss\n",
    "    \"\"\"\n",
    "    return tf.reduce_mean(tf.reduce_sum(weights*distances, axis=1))"
   ]
  },
  {
   "cell_type": "code",
   "execution_count": null,
   "id": "4d624999",
   "metadata": {},
   "outputs": [],
   "source": [
    "inputA = keras.layers.Input(shape=(1990))\n",
    "x = SOMLayer((1990,1))(inputA)\n",
    "x = keras.models.Model(inputs=inputA, outputs=x)"
   ]
  },
  {
   "cell_type": "code",
   "execution_count": null,
   "id": "cb4a31c0",
   "metadata": {},
   "outputs": [],
   "source": [
    "x.compile(loss=som_loss, optimizer=\"adam\")"
   ]
  },
  {
   "cell_type": "code",
   "execution_count": null,
   "id": "4ef6b5d8",
   "metadata": {},
   "outputs": [],
   "source": [
    "x.fit(x=cluster_array_train, y=cluster_array_train, epochs=2, batch_size=2)"
   ]
  },
  {
   "cell_type": "code",
   "execution_count": null,
   "id": "83a11d17",
   "metadata": {},
   "outputs": [],
   "source": [
    "inputB = keras.layers.Input(shape=(224,224,3))"
   ]
  },
  {
   "cell_type": "code",
   "execution_count": null,
   "id": "ff4aab2f",
   "metadata": {},
   "outputs": [],
   "source": [
    "y = keras.models.Sequential()\n",
    "y.add(VGG16(weights = 'imagenet', include_top=False, input_shape=(224,224,3), pooling='avg'))\n",
    "y.add(keras.layers.Flatten())"
   ]
  },
  {
   "cell_type": "code",
   "execution_count": null,
   "id": "b37c9a60",
   "metadata": {},
   "outputs": [],
   "source": [
    "combined = keras.layers.concatenate([x.output, y.output])"
   ]
  },
  {
   "cell_type": "code",
   "execution_count": null,
   "id": "3783e021",
   "metadata": {},
   "outputs": [],
   "source": [
    "z = keras.layers.Dense(19, activation=\"relu\")(combined)\n",
    "z = keras.layers.Dense(1, activation=\"linear\")(z)"
   ]
  },
  {
   "cell_type": "code",
   "execution_count": null,
   "id": "58cc1da5",
   "metadata": {},
   "outputs": [],
   "source": [
    "model = keras.models.Model(inputs=[x.input, y.input], outputs=z)"
   ]
  },
  {
   "cell_type": "code",
   "execution_count": null,
   "id": "691e55e3",
   "metadata": {},
   "outputs": [],
   "source": [
    "model.compile(loss=\"mean_absolute_percentage_error\", optimizer=\"adam\")"
   ]
  },
  {
   "cell_type": "code",
   "execution_count": null,
   "id": "f47ed0cc",
   "metadata": {},
   "outputs": [],
   "source": [
    "history = model.fit(x=[cluster_array_train, image_array_train], y=rating_array_train, validation_data=([cluster_array_val, image_array_val], rating_array_val), epochs=2, batch_size=2)"
   ]
  },
  {
   "cell_type": "code",
   "execution_count": null,
   "id": "0e9a653b",
   "metadata": {},
   "outputs": [],
   "source": [
    "import matplotlib.pyplot as plt\n",
    "# list all data in history\n",
    "print(history.history.keys())\n",
    "# summarize history for loss\n",
    "plt.plot(history.history['loss'])\n",
    "plt.plot(history.history['val_loss'])\n",
    "plt.title('model loss')\n",
    "plt.ylabel('loss')\n",
    "plt.xlabel('epoch')\n",
    "plt.legend(['train', 'test'], loc='upper left')\n",
    "plt.show()"
   ]
  }
 ],
 "metadata": {
  "kernelspec": {
   "display_name": "Python 3 (ipykernel)",
   "language": "python",
   "name": "python3"
  },
  "language_info": {
   "codemirror_mode": {
    "name": "ipython",
    "version": 3
   },
   "file_extension": ".py",
   "mimetype": "text/x-python",
   "name": "python",
   "nbconvert_exporter": "python",
   "pygments_lexer": "ipython3",
   "version": "3.9.7"
  }
 },
 "nbformat": 4,
 "nbformat_minor": 5
}
