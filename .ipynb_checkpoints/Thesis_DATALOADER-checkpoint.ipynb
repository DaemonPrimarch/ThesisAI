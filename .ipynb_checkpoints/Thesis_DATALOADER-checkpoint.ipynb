{
 "cells": [
  {
   "cell_type": "code",
   "execution_count": null,
   "id": "33b21002",
   "metadata": {},
   "outputs": [],
   "source": [
    "import os\n",
    "os._exit(00)"
   ]
  },
  {
   "cell_type": "markdown",
   "id": "2f083879",
   "metadata": {},
   "source": [
    "# IMPORTS"
   ]
  },
  {
   "cell_type": "code",
   "execution_count": 5,
   "id": "461934f0",
   "metadata": {},
   "outputs": [],
   "source": [
    "import tensorflow as tf\n",
    "\n",
    "import keras\n",
    "\n",
    "import pandas\n",
    "\n",
    "import sklearn\n",
    "\n",
    "import matplotlib\n",
    "\n",
    "import matplotlib.pyplot as plt\n",
    "\n",
    "from PIL import Image\n",
    "\n",
    "import numpy as np"
   ]
  },
  {
   "cell_type": "markdown",
   "id": "41021ffa",
   "metadata": {},
   "source": [
    "# CONVOLUTIONAL NEURAL NETWORK"
   ]
  },
  {
   "cell_type": "markdown",
   "id": "16b40fae",
   "metadata": {},
   "source": [
    "For the normal convolutional neural network, the network that will be used is the VGG16 network which is pretrained on the imagenet dataset. This can be used in keras as follows:"
   ]
  },
  {
   "cell_type": "code",
   "execution_count": 2,
   "id": "245f597b",
   "metadata": {},
   "outputs": [],
   "source": [
    "from keras.applications.vgg16 import VGG16"
   ]
  },
  {
   "cell_type": "code",
   "execution_count": 3,
   "id": "82e2860b",
   "metadata": {
    "scrolled": true
   },
   "outputs": [
    {
     "name": "stdout",
     "output_type": "stream",
     "text": [
      "Model: \"sequential\"\n",
      "_________________________________________________________________\n",
      "Layer (type)                 Output Shape              Param #   \n",
      "=================================================================\n",
      "vgg16 (Functional)           (None, 512)               14714688  \n",
      "_________________________________________________________________\n",
      "flatten (Flatten)            (None, 512)               0         \n",
      "_________________________________________________________________\n",
      "dense (Dense)                (None, 1)                 513       \n",
      "=================================================================\n",
      "Total params: 14,715,201\n",
      "Trainable params: 14,715,201\n",
      "Non-trainable params: 0\n",
      "_________________________________________________________________\n"
     ]
    }
   ],
   "source": [
    "model = keras.models.Sequential()\n",
    "model.add(VGG16(weights = 'imagenet', include_top=False, input_shape=(224,224,3), pooling='avg'))\n",
    "model.add(keras.layers.Flatten())\n",
    "model.add(keras.layers.Dense(1, activation=\"linear\"))\n",
    "opt = tf.keras.optimizers.Adam(learning_rate=1e-6, clipvalue=1)\n",
    "model.compile(loss='mean_squared_error', optimizer=opt)\n",
    "model.summary()"
   ]
  },
  {
   "cell_type": "markdown",
   "id": "1f0e8de5",
   "metadata": {},
   "source": [
    "The size of this network in RAM is 14 715 201 * 8 (8 bytes for a double/parameter) = 117 721 608 bytes or 0.109637 GB."
   ]
  },
  {
   "cell_type": "code",
   "execution_count": 10,
   "id": "af9962f9",
   "metadata": {},
   "outputs": [],
   "source": [
    "%run data_loader.ipynb "
   ]
  },
  {
   "cell_type": "markdown",
   "id": "8a1e72c0",
   "metadata": {},
   "source": [
    "Then the model can be trained. The input consists of images (224, 224, 3) and average ratings (1). The network is trained on both part separatly. Around 2000 training samples => 2.243 GB. This should be enough to keep in RAM."
   ]
  },
  {
   "cell_type": "code",
   "execution_count": 11,
   "id": "2cb5ee02",
   "metadata": {
    "scrolled": true
   },
   "outputs": [
    {
     "name": "stdout",
     "output_type": "stream",
     "text": [
      "0\n",
      "begin_index: 0\n",
      "middle_index: 1417\n",
      "end_index: 1890\n",
      "batch_size: 1890\n",
      "WARNING:tensorflow:5 out of the last 6 calls to <function scale_resize_image at 0x000002AA6FE9B550> triggered tf.function retracing. Tracing is expensive and the excessive number of tracings could be due to (1) creating @tf.function repeatedly in a loop, (2) passing tensors with different shapes, (3) passing Python objects instead of tensors. For (1), please define your @tf.function outside of the loop. For (2), @tf.function has experimental_relax_shapes=True option that relaxes argument shapes that can avoid unnecessary retracing. For (3), please refer to https://www.tensorflow.org/guide/function#controlling_retracing and https://www.tensorflow.org/api_docs/python/tf/function for  more details.\n",
      "WARNING:tensorflow:6 out of the last 7 calls to <function scale_resize_image at 0x000002AA6FE9B550> triggered tf.function retracing. Tracing is expensive and the excessive number of tracings could be due to (1) creating @tf.function repeatedly in a loop, (2) passing tensors with different shapes, (3) passing Python objects instead of tensors. For (1), please define your @tf.function outside of the loop. For (2), @tf.function has experimental_relax_shapes=True option that relaxes argument shapes that can avoid unnecessary retracing. For (3), please refer to https://www.tensorflow.org/guide/function#controlling_retracing and https://www.tensorflow.org/api_docs/python/tf/function for  more details.\n",
      "scores_array_val.shape: (473, 1)\n",
      "images_array_val.shape: (473, 224, 224, 3)\n",
      "(473, 1)\n",
      "Epoch 1/7\n",
      "709/709 [==============================] - 45s 61ms/step - loss: 0.0111 - val_loss: 0.0182\n",
      "Epoch 2/7\n",
      "709/709 [==============================] - 44s 61ms/step - loss: 0.0085 - val_loss: 0.0179\n",
      "Epoch 3/7\n",
      "709/709 [==============================] - 44s 63ms/step - loss: 0.0071 - val_loss: 0.0173\n",
      "Epoch 4/7\n",
      "709/709 [==============================] - 44s 62ms/step - loss: 0.0059 - val_loss: 0.0171\n",
      "Epoch 5/7\n",
      "709/709 [==============================] - 44s 62ms/step - loss: 0.0050 - val_loss: 0.0173\n",
      "Epoch 6/7\n",
      "709/709 [==============================] - 44s 62ms/step - loss: 0.0041 - val_loss: 0.0164\n",
      "Epoch 7/7\n",
      "709/709 [==============================] - 44s 62ms/step - loss: 0.0036 - val_loss: 0.0188\n"
     ]
    }
   ],
   "source": [
    "nb_parts = 1\n",
    "nb_epochs = 7\n",
    "\n",
    "loss_array = np.zeros((nb_epochs*nb_parts,1))\n",
    "val_loss_array = np.zeros((nb_epochs*nb_parts,1))\n",
    "\n",
    "for i in range(nb_parts):\n",
    "    print(i)\n",
    "    \n",
    "    (scores_array_train,images_array_train), (scores_array_val, images_array_val) = get_data_CNN(i, nb_parts)\n",
    "\n",
    "    print(scores_array_val.shape)\n",
    "    history = model.fit(images_array_train, scores_array_train, batch_size=2, epochs=nb_epochs, validation_data=(images_array_val, scores_array_val))\n",
    "    \n",
    "    for j in range(nb_epochs):\n",
    "        loss_array[i*nb_epochs + j] = history.history['loss'][j]\n",
    "        val_loss_array[i*nb_epochs + j] = history.history['val_loss'][j]"
   ]
  },
  {
   "cell_type": "code",
   "execution_count": 14,
   "id": "bbc422f9",
   "metadata": {},
   "outputs": [
    {
     "data": {
      "image/png": "[encoded data removed]",
      "text/plain": [
       "<Figure size 432x288 with 1 Axes>"
      ]
     },
     "metadata": {
      "needs_background": "light"
     },
     "output_type": "display_data"
    }
   ],
   "source": [
    "    # summarize history for loss\n",
    "    plt.plot(loss_array)\n",
    "    plt.plot(val_loss_array)\n",
    "    plt.title('model loss')\n",
    "    plt.ylabel('loss')\n",
    "    plt.xlabel('epoch')\n",
    "    plt.legend(['train', 'validation'], loc='upper left')\n",
    "    plt.show()"
   ]
  },
  {
   "cell_type": "code",
   "execution_count": 15,
   "id": "c0259e11",
   "metadata": {},
   "outputs": [
    {
     "name": "stdout",
     "output_type": "stream",
     "text": [
      "4/4 [==============================] - 1s 73ms/step - loss: 0.0356\n"
     ]
    },
    {
     "data": {
      "text/plain": [
       "0.03560104966163635"
      ]
     },
     "execution_count": 15,
     "metadata": {},
     "output_type": "execute_result"
    }
   ],
   "source": [
    "## CREATE TEST SET\n",
    "\n",
    "(test_scores, test_images) = get_test_data_CNN()\n",
    "model.evaluate(x=test_images, y=test_scores)"
   ]
  },
  {
   "cell_type": "markdown",
   "id": "c3a6bdef",
   "metadata": {},
   "source": [
    "# CONVOLUTIONAL NEURAL NETWORK TRAINED ON CLUSTER DATASET"
   ]
  },
  {
   "cell_type": "code",
   "execution_count": null,
   "id": "3010823d",
   "metadata": {},
   "outputs": [],
   "source": [
    "import os\n",
    "os._exit(00)"
   ]
  },
  {
   "cell_type": "code",
   "execution_count": null,
   "id": "95b1ec5f",
   "metadata": {},
   "outputs": [],
   "source": [
    "import tensorflow as tf\n",
    "\n",
    "import keras\n",
    "\n",
    "import pandas\n",
    "\n",
    "import sklearn\n",
    "\n",
    "import matplotlib\n",
    "\n",
    "import matplotlib.pyplot as plt\n",
    "\n",
    "from PIL import Image\n",
    "\n",
    "import numpy as np"
   ]
  },
  {
   "cell_type": "markdown",
   "id": "b0c1b533",
   "metadata": {},
   "source": [
    "For the normal convolutional neural network, the network that will be used is the VGG16 network which is pretrained on the imagenet dataset. This can be used in keras as follows:"
   ]
  },
  {
   "cell_type": "code",
   "execution_count": 6,
   "id": "1a9f1471",
   "metadata": {},
   "outputs": [],
   "source": [
    "from keras.applications.vgg16 import VGG16"
   ]
  },
  {
   "cell_type": "code",
   "execution_count": 7,
   "id": "e6af1949",
   "metadata": {
    "scrolled": true
   },
   "outputs": [
    {
     "name": "stdout",
     "output_type": "stream",
     "text": [
      "Model: \"sequential\"\n",
      "_________________________________________________________________\n",
      "Layer (type)                 Output Shape              Param #   \n",
      "=================================================================\n",
      "vgg16 (Functional)           (None, 512)               14714688  \n",
      "_________________________________________________________________\n",
      "flatten (Flatten)            (None, 512)               0         \n",
      "_________________________________________________________________\n",
      "dense (Dense)                (None, 1)                 513       \n",
      "=================================================================\n",
      "Total params: 14,715,201\n",
      "Trainable params: 14,715,201\n",
      "Non-trainable params: 0\n",
      "_________________________________________________________________\n"
     ]
    }
   ],
   "source": [
    "model = keras.models.Sequential()\n",
    "model.add(VGG16(weights = 'imagenet', include_top=False, input_shape=(112,112,3), pooling='avg'))\n",
    "model.add(keras.layers.Flatten())\n",
    "model.add(keras.layers.Dense(1, activation=\"linear\"))\n",
    "opt = tf.keras.optimizers.Adam(learning_rate=1e-6, clipvalue=1)\n",
    "model.compile(loss='mean_squared_error', optimizer=opt)\n",
    "model.summary()"
   ]
  },
  {
   "cell_type": "markdown",
   "id": "3d7f0c03",
   "metadata": {},
   "source": [
    "The layout of the network stays the same as before."
   ]
  },
  {
   "cell_type": "code",
   "execution_count": 8,
   "id": "404bf193",
   "metadata": {},
   "outputs": [],
   "source": [
    "%run data_loader.ipynb "
   ]
  },
  {
   "cell_type": "markdown",
   "id": "c0f77b80",
   "metadata": {},
   "source": [
    "Then the model can be trained. We will now use the same dataset as the clustered networks will use. This means they have an image per individual rating. With around 20000 training samples this time this gives 20.243 GB of RAM Needed to keep in memory! Since this is too large, a solution will have to be found. SOLUTION = images are scaled down to 112 by 112 by 3!"
   ]
  },
  {
   "cell_type": "code",
   "execution_count": 9,
   "id": "859e0a55",
   "metadata": {},
   "outputs": [
    {
     "name": "stdout",
     "output_type": "stream",
     "text": [
      "WARNING:tensorflow:5 out of the last 5 calls to <function scale_resize_image at 0x000002C072FEDF70> triggered tf.function retracing. Tracing is expensive and the excessive number of tracings could be due to (1) creating @tf.function repeatedly in a loop, (2) passing tensors with different shapes, (3) passing Python objects instead of tensors. For (1), please define your @tf.function outside of the loop. For (2), @tf.function has experimental_relax_shapes=True option that relaxes argument shapes that can avoid unnecessary retracing. For (3), please refer to https://www.tensorflow.org/guide/function#controlling_retracing and https://www.tensorflow.org/api_docs/python/tf/function for  more details.\n",
      "WARNING:tensorflow:6 out of the last 6 calls to <function scale_resize_image at 0x000002C072FEDF70> triggered tf.function retracing. Tracing is expensive and the excessive number of tracings could be due to (1) creating @tf.function repeatedly in a loop, (2) passing tensors with different shapes, (3) passing Python objects instead of tensors. For (1), please define your @tf.function outside of the loop. For (2), @tf.function has experimental_relax_shapes=True option that relaxes argument shapes that can avoid unnecessary retracing. For (3), please refer to https://www.tensorflow.org/guide/function#controlling_retracing and https://www.tensorflow.org/api_docs/python/tf/function for  more details.\n",
      "Epoch 1/7\n",
      "7560/7560 [==============================] - 229s 30ms/step - loss: 0.0120 - val_loss: 8.7619e-04\n",
      "Epoch 2/7\n",
      "7560/7560 [==============================] - 225s 30ms/step - loss: 2.8583e-04 - val_loss: 1.4551e-04\n",
      "Epoch 3/7\n",
      "7560/7560 [==============================] - 223s 29ms/step - loss: 9.6390e-05 - val_loss: 3.7588e-05\n",
      "Epoch 4/7\n",
      "7560/7560 [==============================] - 223s 29ms/step - loss: 5.4010e-05 - val_loss: 3.2438e-05\n",
      "Epoch 5/7\n",
      "7560/7560 [==============================] - 224s 30ms/step - loss: 3.8143e-05 - val_loss: 2.2690e-05\n",
      "Epoch 6/7\n",
      "7560/7560 [==============================] - 223s 30ms/step - loss: 2.7063e-05 - val_loss: 2.2834e-05\n",
      "Epoch 7/7\n",
      "7560/7560 [==============================] - 224s 30ms/step - loss: 2.0026e-05 - val_loss: 1.6551e-05\n"
     ]
    }
   ],
   "source": [
    "nb_epochs = 7\n",
    "\n",
    "[_,images_array_train,scores_array_train], [_,images_array_val,scores_array_val], [_,images_array_test,scores_array_test] = get_data_manual_cluster_network_final()\n",
    "\n",
    "history = model.fit(images_array_train, scores_array_train, batch_size=2, epochs=nb_epochs, validation_data=(images_array_val, scores_array_val))\n",
    "    \n",
    "loss_array = history.history['loss']\n",
    "val_loss_array = history.history['val_loss']"
   ]
  },
  {
   "cell_type": "code",
   "execution_count": 10,
   "id": "4da20dda",
   "metadata": {},
   "outputs": [
    {
     "data": {
      "image/png": "[encoded data removed]",
      "text/plain": [
       "<Figure size 432x288 with 1 Axes>"
      ]
     },
     "metadata": {
      "needs_background": "light"
     },
     "output_type": "display_data"
    }
   ],
   "source": [
    "    # summarize history for loss\n",
    "    plt.plot(loss_array)\n",
    "    plt.plot(val_loss_array)\n",
    "    plt.title('model loss')\n",
    "    plt.ylabel('loss')\n",
    "    plt.xlabel('epoch')\n",
    "    plt.legend(['train', 'validation'], loc='upper left')\n",
    "    plt.yscale(\"log\")\n",
    "    plt.show()"
   ]
  },
  {
   "cell_type": "code",
   "execution_count": 11,
   "id": "4aa504f8",
   "metadata": {},
   "outputs": [
    {
     "name": "stdout",
     "output_type": "stream",
     "text": [
      "8/8 [==============================] - 2s 128ms/step - loss: 1.4760e-05\n"
     ]
    },
    {
     "data": {
      "text/plain": [
       "1.4759910300199408e-05"
      ]
     },
     "execution_count": 11,
     "metadata": {},
     "output_type": "execute_result"
    }
   ],
   "source": [
    "# Test Set Performance\n",
    "model.evaluate(x=images_array_test, y=scores_array_test)"
   ]
  },
  {
   "cell_type": "markdown",
   "id": "7d147b99",
   "metadata": {},
   "source": [
    "# HYBRID NEURAL NETWORK WITH MANUAL CLUSTERING"
   ]
  },
  {
   "cell_type": "code",
   "execution_count": null,
   "id": "91943568",
   "metadata": {},
   "outputs": [],
   "source": [
    "import os\n",
    "os._exit(00)"
   ]
  },
  {
   "cell_type": "code",
   "execution_count": 1,
   "id": "0d6986cc",
   "metadata": {},
   "outputs": [],
   "source": [
    "import tensorflow as tf\n",
    "\n",
    "import keras\n",
    "\n",
    "import pandas\n",
    "\n",
    "import sklearn\n",
    "\n",
    "import matplotlib\n",
    "\n",
    "import matplotlib.pyplot as plt\n",
    "\n",
    "from PIL import Image\n",
    "\n",
    "import numpy as np"
   ]
  },
  {
   "cell_type": "markdown",
   "id": "d07c6575",
   "metadata": {},
   "source": [
    "Now we need to use a manual clustering method to cluster the data of the participants into different clusters, and use this information as input for a hybrid neural network. We will start with the clustering, we can do this using the sklearn library:"
   ]
  },
  {
   "cell_type": "code",
   "execution_count": 2,
   "id": "af2ec180",
   "metadata": {},
   "outputs": [],
   "source": [
    "%run data_loader.ipynb \n",
    "from keras.applications.vgg16 import VGG16"
   ]
  },
  {
   "cell_type": "markdown",
   "id": "1d03b247",
   "metadata": {},
   "source": [
    "Structure of the network. Hybrid structure with two inputs, a single number representing the cluster of the current rating, and images."
   ]
  },
  {
   "cell_type": "code",
   "execution_count": 3,
   "id": "582c36b4",
   "metadata": {},
   "outputs": [
    {
     "name": "stdout",
     "output_type": "stream",
     "text": [
      "Model: \"model_1\"\n",
      "__________________________________________________________________________________________________\n",
      "Layer (type)                    Output Shape         Param #     Connected to                     \n",
      "==================================================================================================\n",
      "vgg16_input (InputLayer)        [(None, 112, 112, 3) 0                                            \n",
      "__________________________________________________________________________________________________\n",
      "input_1 (InputLayer)            [(None, 1)]          0                                            \n",
      "__________________________________________________________________________________________________\n",
      "vgg16 (Functional)              (None, 512)          14714688    vgg16_input[0][0]                \n",
      "__________________________________________________________________________________________________\n",
      "dense (Dense)                   (None, 19)           38          input_1[0][0]                    \n",
      "__________________________________________________________________________________________________\n",
      "flatten (Flatten)               (None, 512)          0           vgg16[0][0]                      \n",
      "__________________________________________________________________________________________________\n",
      "concatenate (Concatenate)       (None, 531)          0           dense[0][0]                      \n",
      "                                                                 flatten[0][0]                    \n",
      "__________________________________________________________________________________________________\n",
      "dense_1 (Dense)                 (None, 1)            532         concatenate[0][0]                \n",
      "==================================================================================================\n",
      "Total params: 14,715,258\n",
      "Trainable params: 14,715,258\n",
      "Non-trainable params: 0\n",
      "__________________________________________________________________________________________________\n"
     ]
    }
   ],
   "source": [
    "inputA = keras.layers.Input(shape=(1,))\n",
    "inputB = keras.layers.Input(shape=(112,112,3))\n",
    "\n",
    "x = keras.layers.Dense(19, activation=\"relu\")(inputA)\n",
    "x = keras.models.Model(inputs=inputA, outputs=x)\n",
    "\n",
    "y = keras.models.Sequential()\n",
    "y.add(VGG16(weights = 'imagenet', include_top=False, input_shape=(112,112,3), pooling='avg'))\n",
    "y.add(keras.layers.Flatten())\n",
    "\n",
    "combined = keras.layers.concatenate([x.output, y.output])\n",
    "\n",
    "#z = keras.layers.Dense(19, activation=\"relu\")(combined)\n",
    "#z = keras.layers.Dropout(0.5, input_shape=(19,))(z)\n",
    "z = keras.layers.Dense(1)(combined)\n",
    "\n",
    "model = keras.models.Model(inputs=[x.input, y.input], outputs=z)\n",
    "\n",
    "opt = tf.keras.optimizers.Adam(learning_rate=1e-6, clipvalue=1)\n",
    "\n",
    "#model.compile(loss=\"mean_absolute_percentage_error\", optimizer=\"rmsprop\")\n",
    "model.compile(loss='mean_squared_error', optimizer=opt)\n",
    "\n",
    "model.summary()"
   ]
  },
  {
   "cell_type": "code",
   "execution_count": 4,
   "id": "b282646b",
   "metadata": {},
   "outputs": [
    {
     "name": "stdout",
     "output_type": "stream",
     "text": [
      "WARNING:tensorflow:5 out of the last 5 calls to <function scale_resize_image at 0x00000192623B13A0> triggered tf.function retracing. Tracing is expensive and the excessive number of tracings could be due to (1) creating @tf.function repeatedly in a loop, (2) passing tensors with different shapes, (3) passing Python objects instead of tensors. For (1), please define your @tf.function outside of the loop. For (2), @tf.function has experimental_relax_shapes=True option that relaxes argument shapes that can avoid unnecessary retracing. For (3), please refer to https://www.tensorflow.org/guide/function#controlling_retracing and https://www.tensorflow.org/api_docs/python/tf/function for  more details.\n",
      "WARNING:tensorflow:6 out of the last 6 calls to <function scale_resize_image at 0x00000192623B13A0> triggered tf.function retracing. Tracing is expensive and the excessive number of tracings could be due to (1) creating @tf.function repeatedly in a loop, (2) passing tensors with different shapes, (3) passing Python objects instead of tensors. For (1), please define your @tf.function outside of the loop. For (2), @tf.function has experimental_relax_shapes=True option that relaxes argument shapes that can avoid unnecessary retracing. For (3), please refer to https://www.tensorflow.org/guide/function#controlling_retracing and https://www.tensorflow.org/api_docs/python/tf/function for  more details.\n",
      "Epoch 1/7\n",
      "7560/7560 [==============================] - 231s 30ms/step - loss: 0.0170 - val_loss: 5.7647e-04\n",
      "Epoch 2/7\n",
      "7560/7560 [==============================] - 227s 30ms/step - loss: 2.7980e-04 - val_loss: 9.5861e-05\n",
      "Epoch 3/7\n",
      "7560/7560 [==============================] - 227s 30ms/step - loss: 7.9864e-05 - val_loss: 4.3511e-05\n",
      "Epoch 4/7\n",
      "7560/7560 [==============================] - 227s 30ms/step - loss: 4.2861e-05 - val_loss: 4.2691e-05\n",
      "Epoch 5/7\n",
      "7560/7560 [==============================] - 227s 30ms/step - loss: 3.2976e-05 - val_loss: 2.9517e-05\n",
      "Epoch 6/7\n",
      "7560/7560 [==============================] - 226s 30ms/step - loss: 2.5347e-05 - val_loss: 6.2066e-05\n",
      "Epoch 7/7\n",
      "7560/7560 [==============================] - 226s 30ms/step - loss: 2.0577e-05 - val_loss: 1.6542e-05\n"
     ]
    }
   ],
   "source": [
    "[cluster_array_train,image_array_train,rating_array_train], [cluster_array_val,image_array_val,rating_array_val], [cluster_array_test,image_array_test,rating_array_test] = get_data_manual_cluster_network_final()\n",
    "    \n",
    "history = model.fit(x=[cluster_array_train, image_array_train], y=rating_array_train, validation_data=([cluster_array_val, image_array_val], rating_array_val), epochs=7, batch_size=2)\n",
    "\n",
    "loss_array = history.history['loss']\n",
    "val_loss_array = history.history['val_loss']"
   ]
  },
  {
   "cell_type": "code",
   "execution_count": 6,
   "id": "0c5615e4",
   "metadata": {},
   "outputs": [
    {
     "data": {
      "image/png": "[encoded data removed]",
      "text/plain": [
       "<Figure size 432x288 with 1 Axes>"
      ]
     },
     "metadata": {
      "needs_background": "light"
     },
     "output_type": "display_data"
    }
   ],
   "source": [
    "# summarize history for loss\n",
    "plt.plot(loss_array)\n",
    "plt.plot(val_loss_array)\n",
    "plt.title('model loss')\n",
    "plt.ylabel('loss')\n",
    "plt.xlabel('epoch')\n",
    "plt.legend(['train', 'validation'], loc='upper left')\n",
    "plt.yscale(\"log\")\n",
    "plt.show()"
   ]
  },
  {
   "cell_type": "code",
   "execution_count": 8,
   "id": "b424398b",
   "metadata": {},
   "outputs": [
    {
     "name": "stdout",
     "output_type": "stream",
     "text": [
      "8/8 [==============================] - 2s 123ms/step - loss: 1.8047e-05\n"
     ]
    },
    {
     "data": {
      "text/plain": [
       "1.8046534023596905e-05"
      ]
     },
     "execution_count": 8,
     "metadata": {},
     "output_type": "execute_result"
    }
   ],
   "source": [
    "## CREATE TEST SET\n",
    "model.evaluate(x=[cluster_array_test, image_array_test], y=rating_array_test)"
   ]
  },
  {
   "cell_type": "markdown",
   "id": "13a8a24a",
   "metadata": {},
   "source": [
    "# HYBRID NEURAL NETWORK WITH SOM PRETRAINED"
   ]
  },
  {
   "cell_type": "code",
   "execution_count": null,
   "id": "11dbe93f",
   "metadata": {},
   "outputs": [],
   "source": [
    "import os\n",
    "os._exit(00)"
   ]
  },
  {
   "cell_type": "code",
   "execution_count": null,
   "id": "792d4c78",
   "metadata": {},
   "outputs": [],
   "source": [
    "import tensorflow as tf\n",
    "\n",
    "import keras\n",
    "\n",
    "import pandas\n",
    "\n",
    "import sklearn\n",
    "\n",
    "import matplotlib\n",
    "\n",
    "import matplotlib.pyplot as plt\n",
    "\n",
    "from PIL import Image\n",
    "\n",
    "import numpy as np"
   ]
  },
  {
   "cell_type": "markdown",
   "id": "ef1fa6c1",
   "metadata": {},
   "source": [
    "Now we will train a hybrid network which contains a SOM network and a CNN network. The SOM network replaced the manually clustered part of the previous network by letting the neural network do the clustering itself."
   ]
  },
  {
   "cell_type": "code",
   "execution_count": null,
   "id": "26576872",
   "metadata": {},
   "outputs": [],
   "source": [
    "%run data_loader.ipynb \n",
    "from keras.applications.vgg16 import VGG16"
   ]
  },
  {
   "cell_type": "code",
   "execution_count": null,
   "id": "65c6168d",
   "metadata": {},
   "outputs": [],
   "source": [
    "import tensorflow as tf\n",
    "from tensorflow.keras.layers import Layer, InputSpec\n",
    "\n",
    "\n",
    "class SOMLayer(Layer):\n",
    "    \"\"\"\n",
    "    Self-Organizing Map layer class with rectangular topology\n",
    "    # Example\n",
    "    ```\n",
    "        model.add(SOMLayer(map_size=(10,10)))\n",
    "    ```\n",
    "    # Arguments\n",
    "        map_size: Tuple representing the size of the rectangular map. Number of prototypes is map_size[0]*map_size[1].\n",
    "        prototypes: Numpy array with shape `(n_prototypes, latent_dim)` witch represents the initial cluster centers\n",
    "    # Input shape\n",
    "        2D tensor with shape: `(n_samples, latent_dim)`\n",
    "    # Output shape\n",
    "        2D tensor with shape: `(n_samples, n_prototypes)`\n",
    "    \"\"\"\n",
    "\n",
    "    def __init__(self, map_size, prototypes=None, **kwargs):\n",
    "        if 'input_shape' not in kwargs and 'latent_dim' in kwargs:\n",
    "            kwargs['input_shape'] = (kwargs.pop('latent_dim'),)\n",
    "        super(SOMLayer, self).__init__(**kwargs)\n",
    "        self.map_size = map_size\n",
    "        self.n_prototypes = map_size[0]*map_size[1]\n",
    "        self.initial_prototypes = prototypes\n",
    "        self.input_spec = InputSpec(ndim=2)\n",
    "        self.prototypes = None\n",
    "        self.built = False\n",
    "\n",
    "    def build(self, input_shape):\n",
    "        assert(len(input_shape) == 2)\n",
    "        input_dim = input_shape[1]\n",
    "        self.input_spec = InputSpec(dtype=tf.float32, shape=(None, input_dim))\n",
    "        self.prototypes = self.add_weight(shape=(self.n_prototypes, input_dim), initializer='glorot_uniform', name='prototypes')\n",
    "        if self.initial_prototypes is not None:\n",
    "            self.set_weights(self.initial_prototypes)\n",
    "            del self.initial_prototypes\n",
    "        self.built = True\n",
    "\n",
    "    def call(self, inputs, **kwargs):\n",
    "        \"\"\"\n",
    "        Calculate pairwise squared euclidean distances between inputs and prototype vectors\n",
    "        Arguments:\n",
    "            inputs: the variable containing data, Tensor with shape `(n_samples, latent_dim)`\n",
    "        Return:\n",
    "            d: distances between inputs and prototypes, Tensor with shape `(n_samples, n_prototypes)`\n",
    "        \"\"\"\n",
    "        # Note: (tf.expand_dims(inputs, axis=1) - self.prototypes) has shape (n_samples, n_prototypes, latent_dim)\n",
    "        d = tf.reduce_sum(tf.square(tf.expand_dims(inputs, axis=1) - self.prototypes), axis=2)\n",
    "        return d\n",
    "\n",
    "    def compute_output_shape(self, input_shape):\n",
    "        assert(input_shape and len(input_shape) == 2)\n",
    "        return input_shape[0], self.n_prototypes\n",
    "\n",
    "    def get_config(self):\n",
    "        config = {'map_size': self.map_size}\n",
    "        base_config = super(SOMLayer, self).get_config()\n",
    "        return dict(list(base_config.items()) + list(config.items()))\n",
    "\n",
    "def som_loss(weights, distances):\n",
    "    \"\"\"\n",
    "    SOM loss\n",
    "    # Arguments\n",
    "        weights: weights for the weighted sum, Tensor with shape `(n_samples, n_prototypes)`\n",
    "        distances: pairwise squared euclidean distances between inputs and prototype vectors, Tensor with shape `(n_samples, n_prototypes)`\n",
    "    # Return\n",
    "        SOM reconstruction loss\n",
    "    \"\"\"\n",
    "    return tf.reduce_mean(tf.reduce_sum(weights*distances, axis=1))"
   ]
  },
  {
   "cell_type": "markdown",
   "id": "2fe0fd94",
   "metadata": {},
   "source": [
    "First, we will create a SOM network and pretrain it on the data."
   ]
  },
  {
   "cell_type": "code",
   "execution_count": null,
   "id": "cb4a31c0",
   "metadata": {},
   "outputs": [],
   "source": [
    "inputA = keras.layers.Input(shape=(1990))\n",
    "x = SOMLayer((1990,1))(inputA)\n",
    "x = keras.models.Model(inputs=inputA, outputs=x)\n",
    "\n",
    "x.compile(loss=som_loss, optimizer=\"adam\")"
   ]
  },
  {
   "cell_type": "code",
   "execution_count": null,
   "id": "56c20196",
   "metadata": {},
   "outputs": [],
   "source": [
    "cluster_array_train = get_data_SOM_pretrain()\n",
    "\n",
    "x.fit(x=cluster_array_train, y=cluster_array_train, epochs=7, batch_size=2)"
   ]
  },
  {
   "cell_type": "markdown",
   "id": "0671a173",
   "metadata": {},
   "source": [
    "Then we will create a network with the SOM network included: (In this network, the SOM layer will be frozen)"
   ]
  },
  {
   "cell_type": "code",
   "execution_count": null,
   "id": "a980e371",
   "metadata": {},
   "outputs": [],
   "source": [
    "inputB = keras.layers.Input(shape=(112,112,3))\n",
    "\n",
    "x.trainable=False\n",
    "\n",
    "y = keras.models.Sequential()\n",
    "y.add(VGG16(weights = 'imagenet', include_top=False, input_shape=(112,112,3), pooling='avg'))\n",
    "y.add(keras.layers.Flatten())\n",
    "\n",
    "combined = keras.layers.concatenate([x.output, y.output])\n",
    "\n",
    "z = keras.layers.Dense(19, activation=\"relu\")(combined)\n",
    "z = keras.layers.Dense(1, activation=\"linear\")(z)\n",
    "\n",
    "model = keras.models.Model(inputs=[x.input, y.input], outputs=z)\n",
    "\n",
    "#model.compile(loss=\"mean_absolute_percentage_error\", optimizer=\"adam\")\n",
    "\n",
    "opt = tf.keras.optimizers.Adam(learning_rate=1e-6, clipvalue=1)\n",
    "\n",
    "#model.compile(loss=\"mean_absolute_percentage_error\", optimizer=\"rmsprop\")\n",
    "model.compile(loss='mean_squared_error', optimizer=opt)"
   ]
  },
  {
   "cell_type": "code",
   "execution_count": null,
   "id": "661fe088",
   "metadata": {},
   "outputs": [],
   "source": [
    "[cluster_array_train,image_array_train,rating_array_train], [cluster_array_val,image_array_val,rating_array_val], [cluster_array_test,image_array_test,rating_array_test] = get_data_SOM_network_final()\n",
    "    \n",
    "history = model.fit(x=[cluster_array_train, image_array_train], y=rating_array_train, validation_data=([cluster_array_val, image_array_val], rating_array_val), epochs=7, batch_size=2)\n",
    "\n",
    "loss_array = history.history['loss']\n",
    "val_loss_array = history.history['val_loss']"
   ]
  },
  {
   "cell_type": "code",
   "execution_count": null,
   "id": "bf0eabcc",
   "metadata": {},
   "outputs": [],
   "source": [
    "# summarize history for loss\n",
    "    plt.plot(loss_array)\n",
    "    plt.plot(val_loss_array)\n",
    "    plt.title('model loss')\n",
    "    plt.ylabel('loss')\n",
    "    plt.xlabel('epoch')\n",
    "    plt.legend(['train', 'validation'], loc='upper left')\n",
    "    plt.yscale(\"log\")\n",
    "    plt.show()"
   ]
  },
  {
   "cell_type": "code",
   "execution_count": null,
   "id": "efe55a48",
   "metadata": {},
   "outputs": [],
   "source": [
    "## CREATE TEST SET\n",
    "model.evaluate(x=[cluster_array_test, image_array_test], y=scores_array_test)"
   ]
  },
  {
   "cell_type": "markdown",
   "id": "962e4fa3",
   "metadata": {},
   "source": [
    "# HYBRID NEURAL NETWORK WITH SOM UNFROZEN"
   ]
  },
  {
   "cell_type": "code",
   "execution_count": null,
   "id": "839ee4c2",
   "metadata": {},
   "outputs": [],
   "source": [
    "import os\n",
    "os._exit(00)"
   ]
  },
  {
   "cell_type": "code",
   "execution_count": null,
   "id": "d9326bbf",
   "metadata": {},
   "outputs": [],
   "source": [
    "import tensorflow as tf\n",
    "\n",
    "import keras\n",
    "\n",
    "import pandas\n",
    "\n",
    "import sklearn\n",
    "\n",
    "import matplotlib\n",
    "\n",
    "import matplotlib.pyplot as plt\n",
    "\n",
    "from PIL import Image\n",
    "\n",
    "import numpy as np"
   ]
  },
  {
   "cell_type": "markdown",
   "id": "6907efe6",
   "metadata": {},
   "source": [
    "Now we will train a hybrid network which contains a SOM network and a CNN network. The SOM network replaced the manually clustered part of the previous network by letting the neural network do the clustering itself. The difference between the previous SOM network is that now the SOM network will be retrained with the rest of the network."
   ]
  },
  {
   "cell_type": "code",
   "execution_count": null,
   "id": "c74aa573",
   "metadata": {},
   "outputs": [],
   "source": [
    "%run data_loader.ipynb \n",
    "from keras.applications.vgg16 import VGG16"
   ]
  },
  {
   "cell_type": "code",
   "execution_count": null,
   "id": "ea4ee1f4",
   "metadata": {},
   "outputs": [],
   "source": [
    "import tensorflow as tf\n",
    "from tensorflow.keras.layers import Layer, InputSpec\n",
    "\n",
    "\n",
    "class SOMLayer(Layer):\n",
    "    \"\"\"\n",
    "    Self-Organizing Map layer class with rectangular topology\n",
    "    # Example\n",
    "    ```\n",
    "        model.add(SOMLayer(map_size=(10,10)))\n",
    "    ```\n",
    "    # Arguments\n",
    "        map_size: Tuple representing the size of the rectangular map. Number of prototypes is map_size[0]*map_size[1].\n",
    "        prototypes: Numpy array with shape `(n_prototypes, latent_dim)` witch represents the initial cluster centers\n",
    "    # Input shape\n",
    "        2D tensor with shape: `(n_samples, latent_dim)`\n",
    "    # Output shape\n",
    "        2D tensor with shape: `(n_samples, n_prototypes)`\n",
    "    \"\"\"\n",
    "\n",
    "    def __init__(self, map_size, prototypes=None, **kwargs):\n",
    "        if 'input_shape' not in kwargs and 'latent_dim' in kwargs:\n",
    "            kwargs['input_shape'] = (kwargs.pop('latent_dim'),)\n",
    "        super(SOMLayer, self).__init__(**kwargs)\n",
    "        self.map_size = map_size\n",
    "        self.n_prototypes = map_size[0]*map_size[1]\n",
    "        self.initial_prototypes = prototypes\n",
    "        self.input_spec = InputSpec(ndim=2)\n",
    "        self.prototypes = None\n",
    "        self.built = False\n",
    "\n",
    "    def build(self, input_shape):\n",
    "        assert(len(input_shape) == 2)\n",
    "        input_dim = input_shape[1]\n",
    "        self.input_spec = InputSpec(dtype=tf.float32, shape=(None, input_dim))\n",
    "        self.prototypes = self.add_weight(shape=(self.n_prototypes, input_dim), initializer='glorot_uniform', name='prototypes')\n",
    "        if self.initial_prototypes is not None:\n",
    "            self.set_weights(self.initial_prototypes)\n",
    "            del self.initial_prototypes\n",
    "        self.built = True\n",
    "\n",
    "    def call(self, inputs, **kwargs):\n",
    "        \"\"\"\n",
    "        Calculate pairwise squared euclidean distances between inputs and prototype vectors\n",
    "        Arguments:\n",
    "            inputs: the variable containing data, Tensor with shape `(n_samples, latent_dim)`\n",
    "        Return:\n",
    "            d: distances between inputs and prototypes, Tensor with shape `(n_samples, n_prototypes)`\n",
    "        \"\"\"\n",
    "        # Note: (tf.expand_dims(inputs, axis=1) - self.prototypes) has shape (n_samples, n_prototypes, latent_dim)\n",
    "        d = tf.reduce_sum(tf.square(tf.expand_dims(inputs, axis=1) - self.prototypes), axis=2)\n",
    "        return d\n",
    "\n",
    "    def compute_output_shape(self, input_shape):\n",
    "        assert(input_shape and len(input_shape) == 2)\n",
    "        return input_shape[0], self.n_prototypes\n",
    "\n",
    "    def get_config(self):\n",
    "        config = {'map_size': self.map_size}\n",
    "        base_config = super(SOMLayer, self).get_config()\n",
    "        return dict(list(base_config.items()) + list(config.items()))\n",
    "\n",
    "def som_loss(weights, distances):\n",
    "    \"\"\"\n",
    "    SOM loss\n",
    "    # Arguments\n",
    "        weights: weights for the weighted sum, Tensor with shape `(n_samples, n_prototypes)`\n",
    "        distances: pairwise squared euclidean distances between inputs and prototype vectors, Tensor with shape `(n_samples, n_prototypes)`\n",
    "    # Return\n",
    "        SOM reconstruction loss\n",
    "    \"\"\"\n",
    "    return tf.reduce_mean(tf.reduce_sum(weights*distances, axis=1))"
   ]
  },
  {
   "cell_type": "markdown",
   "id": "99fe4bb4",
   "metadata": {},
   "source": [
    "First, we will create a SOM network and pretrain it on the data."
   ]
  },
  {
   "cell_type": "code",
   "execution_count": null,
   "id": "11c9fdf7",
   "metadata": {},
   "outputs": [],
   "source": [
    "inputA = keras.layers.Input(shape=(1990))\n",
    "x = SOMLayer((1990,1))(inputA)\n",
    "x = keras.models.Model(inputs=inputA, outputs=x)\n",
    "\n",
    "x.compile(loss=som_loss, optimizer=\"adam\")"
   ]
  },
  {
   "cell_type": "code",
   "execution_count": null,
   "id": "867db218",
   "metadata": {},
   "outputs": [],
   "source": [
    "cluster_array_train = get_data_SOM_pretrain()\n",
    "\n",
    "x.fit(x=cluster_array_train, y=cluster_array_train, epochs=7, batch_size=2)"
   ]
  },
  {
   "cell_type": "markdown",
   "id": "67b6ea46",
   "metadata": {},
   "source": [
    "Then we will create a network with the SOM network included: (In this network, the SOM layer will NOT be frozen)"
   ]
  },
  {
   "cell_type": "code",
   "execution_count": null,
   "id": "dde06a11",
   "metadata": {},
   "outputs": [],
   "source": [
    "inputB = keras.layers.Input(shape=(112,112,3))\n",
    "\n",
    "y = keras.models.Sequential()\n",
    "y.add(VGG16(weights = 'imagenet', include_top=False, input_shape=(112,112,3), pooling='avg'))\n",
    "y.add(keras.layers.Flatten())\n",
    "\n",
    "combined = keras.layers.concatenate([x.output, y.output])\n",
    "\n",
    "z = keras.layers.Dense(19, activation=\"relu\")(combined)\n",
    "z = keras.layers.Dense(1, activation=\"linear\")(z)\n",
    "\n",
    "model = keras.models.Model(inputs=[x.input, y.input], outputs=z)\n",
    "\n",
    "#model.compile(loss=\"mean_absolute_percentage_error\", optimizer=\"adam\")\n",
    "\n",
    "opt = tf.keras.optimizers.Adam(learning_rate=1e-6, clipvalue=1)\n",
    "\n",
    "#model.compile(loss=\"mean_absolute_percentage_error\", optimizer=\"rmsprop\")\n",
    "model.compile(loss='mean_squared_error', optimizer=opt)"
   ]
  },
  {
   "cell_type": "code",
   "execution_count": null,
   "id": "687a96d1",
   "metadata": {},
   "outputs": [],
   "source": [
    "[cluster_array_train,image_array_train,rating_array_train], [cluster_array_val,image_array_val,rating_array_val], [cluster_array_test,image_array_test,rating_array_test] = get_data_SOM_network_final()\n",
    "    \n",
    "history = model.fit(x=[cluster_array_train, image_array_train], y=rating_array_train, validation_data=([cluster_array_val, image_array_val], rating_array_val), epochs=7, batch_size=2)\n",
    "\n",
    "loss_array = history.history['loss']\n",
    "val_loss_array = history.history['val_loss']"
   ]
  },
  {
   "cell_type": "code",
   "execution_count": null,
   "id": "45aed600",
   "metadata": {},
   "outputs": [],
   "source": [
    "# summarize history for loss\n",
    "    plt.plot(loss_array)\n",
    "    plt.plot(val_loss_array)\n",
    "    plt.title('model loss')\n",
    "    plt.ylabel('loss')\n",
    "    plt.xlabel('epoch')\n",
    "    plt.legend(['train', 'validation'], loc='upper left')\n",
    "    plt.yscale(\"log\")\n",
    "    plt.show()"
   ]
  },
  {
   "cell_type": "code",
   "execution_count": null,
   "id": "cbd45be1",
   "metadata": {},
   "outputs": [],
   "source": [
    "## CREATE TEST SET\n",
    "model.evaluate(x=[cluster_array_test, image_array_test], y=scores_array_test)"
   ]
  }
 ],
 "metadata": {
  "kernelspec": {
   "display_name": "Python 3 (ipykernel)",
   "language": "python",
   "name": "python3"
  },
  "language_info": {
   "codemirror_mode": {
    "name": "ipython",
    "version": 3
   },
   "file_extension": ".py",
   "mimetype": "text/x-python",
   "name": "python",
   "nbconvert_exporter": "python",
   "pygments_lexer": "ipython3",
   "version": "3.9.7"
  }
 },
 "nbformat": 4,
 "nbformat_minor": 5
}
